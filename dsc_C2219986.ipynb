{
 "cells": [
  {
   "cell_type": "markdown",
   "id": "complex-tyler",
   "metadata": {},
   "source": [
    "\n",
    "**Data Science Challenge: Card Transactions!**\n",
    "\n",
    "\n",
    "### Brief summary\n",
    "\n",
    "A highly imbalanced dataset of normal and fraudulent credit card transactions in analyzed. The fraudulent transactions represent about $1.5\\%$ of the total.\n",
    "\n",
    "The key findings of these study are (related to the questions):\n",
    "\n",
    "- Transactions follow a long-tailed distribution, with most transactions being of small amounts ($<10 \\$$).\n",
    "\n",
    "- Reversed transactions have a proportinally higher chance to be fraudulent, especially as we increase the transaction amount, reaching about $6 \\%$ for amounts $>500 \\$$.\n",
    "\n",
    "- A classification model is build to predict whether a transaction is fraudulent or not. Although some models were able to achieve high recall (about $0.82$) on an (imbalanced) test set, the precision was extremely low. In other words, although the model was *indeed* able to find most of the fraudulent transactions, it was also flagging many normal transactions as fraudulent.\n",
    "\n",
    "- The most important features in the model are found to be the average past fraud, the fraction of  a transaction amount over the average of past transactions and the transaction amount itself.\n",
    "\n",
    "\n",
    "\n",
    "\n",
    "In the following cell we import all the python packages we are going to need for our analysis. \n",
    "It is better to have them organized in the first cell."
   ]
  },
  {
   "cell_type": "code",
   "execution_count": 1,
   "id": "static-authentication",
   "metadata": {},
   "outputs": [],
   "source": [
    "# Import basic libraries\n",
    "import numpy as np\n",
    "import scipy as sp\n",
    "import pandas as pd\n",
    "\n",
    "from datetime import datetime\n",
    "\n",
    "# =====================================\n",
    "# scikit-learn and imbalanced-learn\n",
    "\n",
    "# Preprocessing etc\n",
    "from sklearn.impute import SimpleImputer\n",
    "from sklearn.preprocessing import LabelEncoder\n",
    "from sklearn.preprocessing import OrdinalEncoder\n",
    "from sklearn.preprocessing import StandardScaler\n",
    "from sklearn.preprocessing import MinMaxScaler\n",
    "from sklearn.model_selection import train_test_split\n",
    "from sklearn.model_selection import GridSearchCV\n",
    "\n",
    "# Classifiers\n",
    "from sklearn.linear_model import LogisticRegression\n",
    "from sklearn.ensemble import RandomForestClassifier\n",
    "\n",
    "# Evaluation metrics\n",
    "import sklearn\n",
    "from sklearn.metrics import confusion_matrix\n",
    "from sklearn.metrics import precision_recall_curve\n",
    "from sklearn.metrics import balanced_accuracy_score as bas\n",
    "from sklearn.metrics import accuracy_score\n",
    "from sklearn.metrics import precision_score\n",
    "from sklearn.metrics import recall_score\n",
    "from sklearn.metrics import f1_score\n",
    "from sklearn.metrics.pairwise import euclidean_distances\n",
    "\n",
    "\n",
    "# Imbalance-learn\n",
    "import imblearn\n",
    "from imblearn.under_sampling import RandomUnderSampler \n",
    "from imblearn.over_sampling import SMOTE \n",
    "from imblearn.pipeline import Pipeline \n",
    "\n",
    "# =====================================\n",
    "# Matplotlib, seaborn etc \n",
    "import matplotlib\n",
    "import matplotlib.pyplot as plt\n",
    "import matplotlib.gridspec as gridspec\n",
    "import seaborn as sns\n",
    "%matplotlib inline\n",
    "from matplotlib import rcParams\n",
    "rcParams['font.family'] = 'serif'\n",
    "\n",
    "# Adjust rc parameters to make plots pretty\n",
    "def plot_pretty(dpi=200, fontsize=9):\n",
    "    \n",
    "\n",
    "    plt.rc(\"savefig\", dpi=dpi)       # dpi resolution of saved image files\n",
    "    plt.rc('text', usetex=True)      # use LaTeX to process labels\n",
    "    plt.rc('font', size=fontsize)    # fontsize\n",
    "    plt.rc('xtick', direction='in')  # make axes ticks point inward\n",
    "    plt.rc('ytick', direction='in')\n",
    "    plt.rc('xtick.major', pad=10) \n",
    "    plt.rc('xtick.minor', pad=5)\n",
    "    plt.rc('ytick.major', pad=10) \n",
    "    plt.rc('ytick.minor', pad=5)\n",
    "    plt.rc('lines', dotted_pattern = [0.5, 1.1]) # fix dotted lines\n",
    "\n",
    "    return\n",
    "\n",
    "plot_pretty()\n",
    "\n",
    "# Define Capital One colors \n",
    "cap1_blue ='#004879'\n",
    "cap1_red = '#D22E1E'\n",
    "# ======================================"
   ]
  },
  {
   "cell_type": "markdown",
   "id": "close-shell",
   "metadata": {},
   "source": [
    "**Requirements**\n",
    "\n",
    "If you want to run the code, you will need python 3 and the following packages:"
   ]
  },
  {
   "cell_type": "code",
   "execution_count": 35,
   "id": "celtic-escape",
   "metadata": {},
   "outputs": [
    {
     "name": "stdout",
     "output_type": "stream",
     "text": [
      "numpy version: 1.19.5\n",
      "scipy version: 1.8.0\n",
      "pandas version: 1.2.0\n",
      "scikit-learn version: 1.0.1\n",
      "imbalanced-learn version: 0.9.0\n",
      "matplotlib version: 3.3.3\n",
      "seaborn version: 0.11.1\n"
     ]
    }
   ],
   "source": [
    "print('numpy version:',np.__version__)\n",
    "print('scipy version:',sp.__version__)\n",
    "print('pandas version:',pd.__version__)\n",
    "print('scikit-learn version:',sklearn.__version__)\n",
    "print('imbalanced-learn version:',imblearn.__version__)\n",
    "print('matplotlib version:',matplotlib.__version__)\n",
    "print('seaborn version:',sns.__version__)"
   ]
  },
  {
   "cell_type": "markdown",
   "id": "massive-brick",
   "metadata": {},
   "source": [
    "# Question 1: Load \n",
    "**Load and simple preprocessing**\n",
    "\n",
    "In the first part we load the data and perform some basic data preprocessing.\n",
    "\n",
    "## Load the dataset"
   ]
  },
  {
   "cell_type": "code",
   "execution_count": 3,
   "id": "psychological-preserve",
   "metadata": {},
   "outputs": [
    {
     "data": {
      "text/html": [
       "<div>\n",
       "<style scoped>\n",
       "    .dataframe tbody tr th:only-of-type {\n",
       "        vertical-align: middle;\n",
       "    }\n",
       "\n",
       "    .dataframe tbody tr th {\n",
       "        vertical-align: top;\n",
       "    }\n",
       "\n",
       "    .dataframe thead th {\n",
       "        text-align: right;\n",
       "    }\n",
       "</style>\n",
       "<table border=\"1\" class=\"dataframe\">\n",
       "  <thead>\n",
       "    <tr style=\"text-align: right;\">\n",
       "      <th></th>\n",
       "      <th>accountNumber</th>\n",
       "      <th>customerId</th>\n",
       "      <th>creditLimit</th>\n",
       "      <th>availableMoney</th>\n",
       "      <th>transactionDateTime</th>\n",
       "      <th>transactionAmount</th>\n",
       "      <th>merchantName</th>\n",
       "      <th>acqCountry</th>\n",
       "      <th>merchantCountryCode</th>\n",
       "      <th>posEntryMode</th>\n",
       "      <th>...</th>\n",
       "      <th>echoBuffer</th>\n",
       "      <th>currentBalance</th>\n",
       "      <th>merchantCity</th>\n",
       "      <th>merchantState</th>\n",
       "      <th>merchantZip</th>\n",
       "      <th>cardPresent</th>\n",
       "      <th>posOnPremises</th>\n",
       "      <th>recurringAuthInd</th>\n",
       "      <th>expirationDateKeyInMatch</th>\n",
       "      <th>isFraud</th>\n",
       "    </tr>\n",
       "  </thead>\n",
       "  <tbody>\n",
       "    <tr>\n",
       "      <th>0</th>\n",
       "      <td>737265056</td>\n",
       "      <td>737265056</td>\n",
       "      <td>5000</td>\n",
       "      <td>5000.0</td>\n",
       "      <td>2016-08-13T14:27:32</td>\n",
       "      <td>98.55</td>\n",
       "      <td>Uber</td>\n",
       "      <td>US</td>\n",
       "      <td>US</td>\n",
       "      <td>02</td>\n",
       "      <td>...</td>\n",
       "      <td>NaN</td>\n",
       "      <td>0.0</td>\n",
       "      <td>NaN</td>\n",
       "      <td>NaN</td>\n",
       "      <td>NaN</td>\n",
       "      <td>False</td>\n",
       "      <td>NaN</td>\n",
       "      <td>NaN</td>\n",
       "      <td>False</td>\n",
       "      <td>False</td>\n",
       "    </tr>\n",
       "    <tr>\n",
       "      <th>1</th>\n",
       "      <td>737265056</td>\n",
       "      <td>737265056</td>\n",
       "      <td>5000</td>\n",
       "      <td>5000.0</td>\n",
       "      <td>2016-10-11T05:05:54</td>\n",
       "      <td>74.51</td>\n",
       "      <td>AMC #191138</td>\n",
       "      <td>US</td>\n",
       "      <td>US</td>\n",
       "      <td>09</td>\n",
       "      <td>...</td>\n",
       "      <td>NaN</td>\n",
       "      <td>0.0</td>\n",
       "      <td>NaN</td>\n",
       "      <td>NaN</td>\n",
       "      <td>NaN</td>\n",
       "      <td>True</td>\n",
       "      <td>NaN</td>\n",
       "      <td>NaN</td>\n",
       "      <td>False</td>\n",
       "      <td>False</td>\n",
       "    </tr>\n",
       "    <tr>\n",
       "      <th>2</th>\n",
       "      <td>737265056</td>\n",
       "      <td>737265056</td>\n",
       "      <td>5000</td>\n",
       "      <td>5000.0</td>\n",
       "      <td>2016-11-08T09:18:39</td>\n",
       "      <td>7.47</td>\n",
       "      <td>Play Store</td>\n",
       "      <td>US</td>\n",
       "      <td>US</td>\n",
       "      <td>09</td>\n",
       "      <td>...</td>\n",
       "      <td>NaN</td>\n",
       "      <td>0.0</td>\n",
       "      <td>NaN</td>\n",
       "      <td>NaN</td>\n",
       "      <td>NaN</td>\n",
       "      <td>False</td>\n",
       "      <td>NaN</td>\n",
       "      <td>NaN</td>\n",
       "      <td>False</td>\n",
       "      <td>False</td>\n",
       "    </tr>\n",
       "    <tr>\n",
       "      <th>3</th>\n",
       "      <td>737265056</td>\n",
       "      <td>737265056</td>\n",
       "      <td>5000</td>\n",
       "      <td>5000.0</td>\n",
       "      <td>2016-12-10T02:14:50</td>\n",
       "      <td>7.47</td>\n",
       "      <td>Play Store</td>\n",
       "      <td>US</td>\n",
       "      <td>US</td>\n",
       "      <td>09</td>\n",
       "      <td>...</td>\n",
       "      <td>NaN</td>\n",
       "      <td>0.0</td>\n",
       "      <td>NaN</td>\n",
       "      <td>NaN</td>\n",
       "      <td>NaN</td>\n",
       "      <td>False</td>\n",
       "      <td>NaN</td>\n",
       "      <td>NaN</td>\n",
       "      <td>False</td>\n",
       "      <td>False</td>\n",
       "    </tr>\n",
       "    <tr>\n",
       "      <th>4</th>\n",
       "      <td>830329091</td>\n",
       "      <td>830329091</td>\n",
       "      <td>5000</td>\n",
       "      <td>5000.0</td>\n",
       "      <td>2016-03-24T21:04:46</td>\n",
       "      <td>71.18</td>\n",
       "      <td>Tim Hortons #947751</td>\n",
       "      <td>US</td>\n",
       "      <td>US</td>\n",
       "      <td>02</td>\n",
       "      <td>...</td>\n",
       "      <td>NaN</td>\n",
       "      <td>0.0</td>\n",
       "      <td>NaN</td>\n",
       "      <td>NaN</td>\n",
       "      <td>NaN</td>\n",
       "      <td>True</td>\n",
       "      <td>NaN</td>\n",
       "      <td>NaN</td>\n",
       "      <td>False</td>\n",
       "      <td>False</td>\n",
       "    </tr>\n",
       "  </tbody>\n",
       "</table>\n",
       "<p>5 rows × 29 columns</p>\n",
       "</div>"
      ],
      "text/plain": [
       "   accountNumber  customerId  creditLimit  availableMoney  \\\n",
       "0      737265056   737265056         5000          5000.0   \n",
       "1      737265056   737265056         5000          5000.0   \n",
       "2      737265056   737265056         5000          5000.0   \n",
       "3      737265056   737265056         5000          5000.0   \n",
       "4      830329091   830329091         5000          5000.0   \n",
       "\n",
       "   transactionDateTime  transactionAmount         merchantName acqCountry  \\\n",
       "0  2016-08-13T14:27:32              98.55                 Uber         US   \n",
       "1  2016-10-11T05:05:54              74.51          AMC #191138         US   \n",
       "2  2016-11-08T09:18:39               7.47           Play Store         US   \n",
       "3  2016-12-10T02:14:50               7.47           Play Store         US   \n",
       "4  2016-03-24T21:04:46              71.18  Tim Hortons #947751         US   \n",
       "\n",
       "  merchantCountryCode posEntryMode  ... echoBuffer currentBalance  \\\n",
       "0                  US           02  ...        NaN            0.0   \n",
       "1                  US           09  ...        NaN            0.0   \n",
       "2                  US           09  ...        NaN            0.0   \n",
       "3                  US           09  ...        NaN            0.0   \n",
       "4                  US           02  ...        NaN            0.0   \n",
       "\n",
       "  merchantCity merchantState merchantZip  cardPresent  posOnPremises  \\\n",
       "0          NaN           NaN         NaN        False            NaN   \n",
       "1          NaN           NaN         NaN         True            NaN   \n",
       "2          NaN           NaN         NaN        False            NaN   \n",
       "3          NaN           NaN         NaN        False            NaN   \n",
       "4          NaN           NaN         NaN         True            NaN   \n",
       "\n",
       "   recurringAuthInd expirationDateKeyInMatch  isFraud  \n",
       "0               NaN                    False    False  \n",
       "1               NaN                    False    False  \n",
       "2               NaN                    False    False  \n",
       "3               NaN                    False    False  \n",
       "4               NaN                    False    False  \n",
       "\n",
       "[5 rows x 29 columns]"
      ]
     },
     "execution_count": 3,
     "metadata": {},
     "output_type": "execute_result"
    }
   ],
   "source": [
    "# Load the file, which is line-delimited JSON format \n",
    "# Convert it into a pandas dataframe\n",
    "trans_df = pd.read_json('transactions.txt', lines=True)\n",
    "# Some of the missing values are in form of \"\" delimeters, replace with nan\n",
    "trans_df.replace('', np.nan, inplace=True)\n",
    "\n",
    "# Let us check the first few values\n",
    "trans_df.head()"
   ]
  },
  {
   "cell_type": "markdown",
   "id": "handled-wonder",
   "metadata": {},
   "source": [
    "**Let's get a sense of the names of the columns**"
   ]
  },
  {
   "cell_type": "code",
   "execution_count": 4,
   "id": "popular-windsor",
   "metadata": {},
   "outputs": [
    {
     "data": {
      "text/plain": [
       "Index(['accountNumber', 'customerId', 'creditLimit', 'availableMoney',\n",
       "       'transactionDateTime', 'transactionAmount', 'merchantName',\n",
       "       'acqCountry', 'merchantCountryCode', 'posEntryMode', 'posConditionCode',\n",
       "       'merchantCategoryCode', 'currentExpDate', 'accountOpenDate',\n",
       "       'dateOfLastAddressChange', 'cardCVV', 'enteredCVV', 'cardLast4Digits',\n",
       "       'transactionType', 'echoBuffer', 'currentBalance', 'merchantCity',\n",
       "       'merchantState', 'merchantZip', 'cardPresent', 'posOnPremises',\n",
       "       'recurringAuthInd', 'expirationDateKeyInMatch', 'isFraud'],\n",
       "      dtype='object')"
      ]
     },
     "execution_count": 4,
     "metadata": {},
     "output_type": "execute_result"
    }
   ],
   "source": [
    "trans_df.columns"
   ]
  },
  {
   "cell_type": "markdown",
   "id": "affected-distinction",
   "metadata": {},
   "source": [
    "**Get some general information about non-null count and data type**"
   ]
  },
  {
   "cell_type": "code",
   "execution_count": 4,
   "id": "balanced-moment",
   "metadata": {},
   "outputs": [
    {
     "name": "stdout",
     "output_type": "stream",
     "text": [
      "<class 'pandas.core.frame.DataFrame'>\n",
      "RangeIndex: 786363 entries, 0 to 786362\n",
      "Data columns (total 29 columns):\n",
      " #   Column                    Non-Null Count   Dtype  \n",
      "---  ------                    --------------   -----  \n",
      " 0   accountNumber             786363 non-null  int64  \n",
      " 1   customerId                786363 non-null  int64  \n",
      " 2   creditLimit               786363 non-null  int64  \n",
      " 3   availableMoney            786363 non-null  float64\n",
      " 4   transactionDateTime       786363 non-null  object \n",
      " 5   transactionAmount         786363 non-null  float64\n",
      " 6   merchantName              786363 non-null  object \n",
      " 7   acqCountry                781801 non-null  object \n",
      " 8   merchantCountryCode       785639 non-null  object \n",
      " 9   posEntryMode              782309 non-null  object \n",
      " 10  posConditionCode          785954 non-null  object \n",
      " 11  merchantCategoryCode      786363 non-null  object \n",
      " 12  currentExpDate            786363 non-null  object \n",
      " 13  accountOpenDate           786363 non-null  object \n",
      " 14  dateOfLastAddressChange   786363 non-null  object \n",
      " 15  cardCVV                   786363 non-null  int64  \n",
      " 16  enteredCVV                786363 non-null  int64  \n",
      " 17  cardLast4Digits           786363 non-null  int64  \n",
      " 18  transactionType           785665 non-null  object \n",
      " 19  echoBuffer                0 non-null       float64\n",
      " 20  currentBalance            786363 non-null  float64\n",
      " 21  merchantCity              0 non-null       float64\n",
      " 22  merchantState             0 non-null       float64\n",
      " 23  merchantZip               0 non-null       float64\n",
      " 24  cardPresent               786363 non-null  bool   \n",
      " 25  posOnPremises             0 non-null       float64\n",
      " 26  recurringAuthInd          0 non-null       float64\n",
      " 27  expirationDateKeyInMatch  786363 non-null  bool   \n",
      " 28  isFraud                   786363 non-null  bool   \n",
      "dtypes: bool(3), float64(9), int64(6), object(11)\n",
      "memory usage: 158.2+ MB\n"
     ]
    }
   ],
   "source": [
    "trans_df.info()"
   ]
  },
  {
   "cell_type": "markdown",
   "id": "burning-prisoner",
   "metadata": {},
   "source": [
    "**Drop columns that have only null values**"
   ]
  },
  {
   "cell_type": "code",
   "execution_count": 23,
   "id": "integral-neighbor",
   "metadata": {},
   "outputs": [],
   "source": [
    " trans_df.drop(['echoBuffer','merchantCity','merchantState','merchantZip','posOnPremises','recurringAuthInd'], axis=1, inplace=True)"
   ]
  },
  {
   "cell_type": "markdown",
   "id": "technological-commodity",
   "metadata": {},
   "source": [
    "## Description of the structure of the data\n",
    "\n",
    "The dataset consists of 786363 entries (number of records) and a total number of 28 fields for each record. We found above that 6 fields are totally empty, so we drop them.\n",
    "Finally, we have 786363 entries and 22 non-null fields."
   ]
  },
  {
   "cell_type": "markdown",
   "id": "hawaiian-brave",
   "metadata": {},
   "source": [
    "## Description and summary statistics for the fields in the dataset\n",
    "\n",
    "We can apply the `describe()` pandas method to our dataset."
   ]
  },
  {
   "cell_type": "code",
   "execution_count": 6,
   "id": "incorporate-plate",
   "metadata": {},
   "outputs": [
    {
     "data": {
      "text/html": [
       "<div>\n",
       "<style scoped>\n",
       "    .dataframe tbody tr th:only-of-type {\n",
       "        vertical-align: middle;\n",
       "    }\n",
       "\n",
       "    .dataframe tbody tr th {\n",
       "        vertical-align: top;\n",
       "    }\n",
       "\n",
       "    .dataframe thead th {\n",
       "        text-align: right;\n",
       "    }\n",
       "</style>\n",
       "<table border=\"1\" class=\"dataframe\">\n",
       "  <thead>\n",
       "    <tr style=\"text-align: right;\">\n",
       "      <th></th>\n",
       "      <th>accountNumber</th>\n",
       "      <th>customerId</th>\n",
       "      <th>creditLimit</th>\n",
       "      <th>availableMoney</th>\n",
       "      <th>transactionAmount</th>\n",
       "      <th>cardCVV</th>\n",
       "      <th>enteredCVV</th>\n",
       "      <th>cardLast4Digits</th>\n",
       "      <th>currentBalance</th>\n",
       "    </tr>\n",
       "  </thead>\n",
       "  <tbody>\n",
       "    <tr>\n",
       "      <th>count</th>\n",
       "      <td>7.863630e+05</td>\n",
       "      <td>7.863630e+05</td>\n",
       "      <td>786363.000000</td>\n",
       "      <td>786363.000000</td>\n",
       "      <td>786363.000000</td>\n",
       "      <td>786363.000000</td>\n",
       "      <td>786363.000000</td>\n",
       "      <td>786363.000000</td>\n",
       "      <td>786363.000000</td>\n",
       "    </tr>\n",
       "    <tr>\n",
       "      <th>mean</th>\n",
       "      <td>5.372326e+08</td>\n",
       "      <td>5.372326e+08</td>\n",
       "      <td>10759.464459</td>\n",
       "      <td>6250.725369</td>\n",
       "      <td>136.985791</td>\n",
       "      <td>544.467338</td>\n",
       "      <td>544.183857</td>\n",
       "      <td>4757.417799</td>\n",
       "      <td>4508.739089</td>\n",
       "    </tr>\n",
       "    <tr>\n",
       "      <th>std</th>\n",
       "      <td>2.554211e+08</td>\n",
       "      <td>2.554211e+08</td>\n",
       "      <td>11636.174890</td>\n",
       "      <td>8880.783989</td>\n",
       "      <td>147.725569</td>\n",
       "      <td>261.524220</td>\n",
       "      <td>261.551254</td>\n",
       "      <td>2996.583810</td>\n",
       "      <td>6457.442068</td>\n",
       "    </tr>\n",
       "    <tr>\n",
       "      <th>min</th>\n",
       "      <td>1.000881e+08</td>\n",
       "      <td>1.000881e+08</td>\n",
       "      <td>250.000000</td>\n",
       "      <td>-1005.630000</td>\n",
       "      <td>0.000000</td>\n",
       "      <td>100.000000</td>\n",
       "      <td>0.000000</td>\n",
       "      <td>0.000000</td>\n",
       "      <td>0.000000</td>\n",
       "    </tr>\n",
       "    <tr>\n",
       "      <th>25%</th>\n",
       "      <td>3.301333e+08</td>\n",
       "      <td>3.301333e+08</td>\n",
       "      <td>5000.000000</td>\n",
       "      <td>1077.420000</td>\n",
       "      <td>33.650000</td>\n",
       "      <td>310.000000</td>\n",
       "      <td>310.000000</td>\n",
       "      <td>2178.000000</td>\n",
       "      <td>689.910000</td>\n",
       "    </tr>\n",
       "    <tr>\n",
       "      <th>50%</th>\n",
       "      <td>5.074561e+08</td>\n",
       "      <td>5.074561e+08</td>\n",
       "      <td>7500.000000</td>\n",
       "      <td>3184.860000</td>\n",
       "      <td>87.900000</td>\n",
       "      <td>535.000000</td>\n",
       "      <td>535.000000</td>\n",
       "      <td>4733.000000</td>\n",
       "      <td>2451.760000</td>\n",
       "    </tr>\n",
       "    <tr>\n",
       "      <th>75%</th>\n",
       "      <td>7.676200e+08</td>\n",
       "      <td>7.676200e+08</td>\n",
       "      <td>15000.000000</td>\n",
       "      <td>7500.000000</td>\n",
       "      <td>191.480000</td>\n",
       "      <td>785.000000</td>\n",
       "      <td>785.000000</td>\n",
       "      <td>7338.000000</td>\n",
       "      <td>5291.095000</td>\n",
       "    </tr>\n",
       "    <tr>\n",
       "      <th>max</th>\n",
       "      <td>9.993896e+08</td>\n",
       "      <td>9.993896e+08</td>\n",
       "      <td>50000.000000</td>\n",
       "      <td>50000.000000</td>\n",
       "      <td>2011.540000</td>\n",
       "      <td>998.000000</td>\n",
       "      <td>998.000000</td>\n",
       "      <td>9998.000000</td>\n",
       "      <td>47498.810000</td>\n",
       "    </tr>\n",
       "  </tbody>\n",
       "</table>\n",
       "</div>"
      ],
      "text/plain": [
       "       accountNumber    customerId    creditLimit  availableMoney  \\\n",
       "count   7.863630e+05  7.863630e+05  786363.000000   786363.000000   \n",
       "mean    5.372326e+08  5.372326e+08   10759.464459     6250.725369   \n",
       "std     2.554211e+08  2.554211e+08   11636.174890     8880.783989   \n",
       "min     1.000881e+08  1.000881e+08     250.000000    -1005.630000   \n",
       "25%     3.301333e+08  3.301333e+08    5000.000000     1077.420000   \n",
       "50%     5.074561e+08  5.074561e+08    7500.000000     3184.860000   \n",
       "75%     7.676200e+08  7.676200e+08   15000.000000     7500.000000   \n",
       "max     9.993896e+08  9.993896e+08   50000.000000    50000.000000   \n",
       "\n",
       "       transactionAmount        cardCVV     enteredCVV  cardLast4Digits  \\\n",
       "count      786363.000000  786363.000000  786363.000000    786363.000000   \n",
       "mean          136.985791     544.467338     544.183857      4757.417799   \n",
       "std           147.725569     261.524220     261.551254      2996.583810   \n",
       "min             0.000000     100.000000       0.000000         0.000000   \n",
       "25%            33.650000     310.000000     310.000000      2178.000000   \n",
       "50%            87.900000     535.000000     535.000000      4733.000000   \n",
       "75%           191.480000     785.000000     785.000000      7338.000000   \n",
       "max          2011.540000     998.000000     998.000000      9998.000000   \n",
       "\n",
       "       currentBalance  \n",
       "count   786363.000000  \n",
       "mean      4508.739089  \n",
       "std       6457.442068  \n",
       "min          0.000000  \n",
       "25%        689.910000  \n",
       "50%       2451.760000  \n",
       "75%       5291.095000  \n",
       "max      47498.810000  "
      ]
     },
     "execution_count": 6,
     "metadata": {},
     "output_type": "execute_result"
    }
   ],
   "source": [
    "trans_df.describe()"
   ]
  },
  {
   "cell_type": "markdown",
   "id": "cheap-paragraph",
   "metadata": {},
   "source": [
    "So, let us try to describe each one of the fields in the dataset with the appropriate metrics.\n",
    "\n",
    "Let us check one-by-one some of the most important columns/fields.\n",
    "**If you want a quick reference of the statistics of the dataset, you can skip the detailed analysis below and check directly the \"quick summary statistics for reference\" section.**\n",
    "\n",
    "- `accountNumber`: This field contains the account numbers for each transaction.  Let us check for NaN values and number of entries (unique accounts)."
   ]
  },
  {
   "cell_type": "code",
   "execution_count": 7,
   "id": "plastic-diagram",
   "metadata": {},
   "outputs": [
    {
     "name": "stdout",
     "output_type": "stream",
     "text": [
      "Null values, accountNumber: 0\n"
     ]
    }
   ],
   "source": [
    "print('Null values, accountNumber:',trans_df['accountNumber'].isna().sum())"
   ]
  },
  {
   "cell_type": "markdown",
   "id": "impossible-token",
   "metadata": {},
   "source": [
    "Great, we have zero null values. Let us check for unique values."
   ]
  },
  {
   "cell_type": "code",
   "execution_count": 8,
   "id": "arctic-infrastructure",
   "metadata": {},
   "outputs": [
    {
     "name": "stdout",
     "output_type": "stream",
     "text": [
      "Unique values, accountNumber: 5000\n"
     ]
    }
   ],
   "source": [
    "print('Unique values, accountNumber:',trans_df['accountNumber'].nunique())"
   ]
  },
  {
   "cell_type": "markdown",
   "id": "pregnant-steel",
   "metadata": {},
   "source": [
    "We have 5000 different account numbers in our dataset. I am curious if some of them dominate the transaction numbers in the dataset. For that reason, let's plot the frequency (make a histogram) of unique account numbers. "
   ]
  },
  {
   "cell_type": "code",
   "execution_count": 6,
   "id": "operational-catalog",
   "metadata": {},
   "outputs": [
    {
     "data": {
      "image/png": "[encoded data removed]",
      "text/plain": [
       "<Figure size 432x360 with 1 Axes>"
      ]
     },
     "metadata": {
      "needs_background": "light"
     },
     "output_type": "display_data"
    }
   ],
   "source": [
    "Unique_acNumbers = trans_df['accountNumber'].value_counts(normalize=False).values\n",
    "\n",
    "# Make a plot \n",
    "plt.figure(figsize=(6,5))\n",
    "\n",
    "plt.hist(Unique_acNumbers[Unique_acNumbers<1000],color=cap1_blue, bins=30)\n",
    "plt.grid(ls='--',alpha=0.6)\n",
    "plt.title('Frequency of transactions per account',fontsize=15)\n",
    "plt.xticks(fontsize=16);plt.yticks(fontsize=16)\n",
    "plt.xlabel('No. of transactions', fontsize=15);plt.ylabel('No. of accounts', fontsize=15)\n",
    "plt.show()"
   ]
  },
  {
   "cell_type": "markdown",
   "id": "ceramic-premises",
   "metadata": {},
   "source": [
    "We see that the the majority of accounts have a small number of transactions ($<100$), with a small number of accounts having many transactions ($>1000$). It is something that is good to have in mind in future investigations."
   ]
  },
  {
   "cell_type": "markdown",
   "id": "reasonable-camel",
   "metadata": {},
   "source": [
    "- `customerId`\n",
    "\n",
    "This field seems to be the same as acount number. Let's confirm that."
   ]
  },
  {
   "cell_type": "code",
   "execution_count": 7,
   "id": "burning-leone",
   "metadata": {},
   "outputs": [
    {
     "name": "stdout",
     "output_type": "stream",
     "text": [
      "0\n"
     ]
    }
   ],
   "source": [
    "print((trans_df['accountNumber'] - trans_df['customerId']).sum())"
   ]
  },
  {
   "cell_type": "markdown",
   "id": "posted-handbook",
   "metadata": {},
   "source": [
    "- `transactionDateTime`\n",
    "\n",
    "Let's convert this column to datetime, for future ease"
   ]
  },
  {
   "cell_type": "code",
   "execution_count": 8,
   "id": "cutting-commitment",
   "metadata": {},
   "outputs": [],
   "source": [
    "trans_df['transactionDateTime'] = pd.to_datetime(trans_df['transactionDateTime'],infer_datetime_format=True)"
   ]
  },
  {
   "cell_type": "code",
   "execution_count": 31,
   "id": "excessive-russell",
   "metadata": {},
   "outputs": [
    {
     "name": "stdout",
     "output_type": "stream",
     "text": [
      "Datetime start: 2016-01-01\n",
      "Datetime ends: 2016-12-30\n"
     ]
    }
   ],
   "source": [
    "print(\"Datetime start:\",trans_df['transactionDateTime'].dt.date.min())\n",
    "print(\"Datetime ends:\",trans_df['transactionDateTime'].dt.date.max())"
   ]
  },
  {
   "cell_type": "markdown",
   "id": "brazilian-potential",
   "metadata": {},
   "source": [
    "- `transactionAmount`\n",
    "\n",
    "We can see from the info that it doesn't have null values"
   ]
  },
  {
   "cell_type": "code",
   "execution_count": 14,
   "id": "realistic-tissue",
   "metadata": {},
   "outputs": [
    {
     "name": "stdout",
     "output_type": "stream",
     "text": [
      "Minimun amount: 0.0\n",
      "Maximum amount: 2011.54\n"
     ]
    }
   ],
   "source": [
    "print('Minimun amount:',trans_df['transactionAmount'].values.min())\n",
    "print('Maximum amount:',trans_df['transactionAmount'].values.max())"
   ]
  },
  {
   "cell_type": "code",
   "execution_count": 24,
   "id": "mighty-terrain",
   "metadata": {},
   "outputs": [
    {
     "data": {
      "text/html": [
       "<div>\n",
       "<style scoped>\n",
       "    .dataframe tbody tr th:only-of-type {\n",
       "        vertical-align: middle;\n",
       "    }\n",
       "\n",
       "    .dataframe tbody tr th {\n",
       "        vertical-align: top;\n",
       "    }\n",
       "\n",
       "    .dataframe thead th {\n",
       "        text-align: right;\n",
       "    }\n",
       "</style>\n",
       "<table border=\"1\" class=\"dataframe\">\n",
       "  <thead>\n",
       "    <tr style=\"text-align: right;\">\n",
       "      <th></th>\n",
       "      <th>accountNumber</th>\n",
       "      <th>customerId</th>\n",
       "      <th>creditLimit</th>\n",
       "      <th>availableMoney</th>\n",
       "      <th>transactionDateTime</th>\n",
       "      <th>transactionAmount</th>\n",
       "      <th>merchantName</th>\n",
       "      <th>acqCountry</th>\n",
       "      <th>merchantCountryCode</th>\n",
       "      <th>posEntryMode</th>\n",
       "      <th>...</th>\n",
       "      <th>accountOpenDate</th>\n",
       "      <th>dateOfLastAddressChange</th>\n",
       "      <th>cardCVV</th>\n",
       "      <th>enteredCVV</th>\n",
       "      <th>cardLast4Digits</th>\n",
       "      <th>transactionType</th>\n",
       "      <th>currentBalance</th>\n",
       "      <th>cardPresent</th>\n",
       "      <th>expirationDateKeyInMatch</th>\n",
       "      <th>isFraud</th>\n",
       "    </tr>\n",
       "  </thead>\n",
       "  <tbody>\n",
       "    <tr>\n",
       "      <th>0</th>\n",
       "      <td>737265056</td>\n",
       "      <td>737265056</td>\n",
       "      <td>5000</td>\n",
       "      <td>5000.0</td>\n",
       "      <td>2016-08-13 14:27:32</td>\n",
       "      <td>98.55</td>\n",
       "      <td>Uber</td>\n",
       "      <td>US</td>\n",
       "      <td>US</td>\n",
       "      <td>02</td>\n",
       "      <td>...</td>\n",
       "      <td>2015-03-14</td>\n",
       "      <td>2015-03-14</td>\n",
       "      <td>414</td>\n",
       "      <td>414</td>\n",
       "      <td>1803</td>\n",
       "      <td>PURCHASE</td>\n",
       "      <td>0.0</td>\n",
       "      <td>False</td>\n",
       "      <td>False</td>\n",
       "      <td>False</td>\n",
       "    </tr>\n",
       "    <tr>\n",
       "      <th>1</th>\n",
       "      <td>737265056</td>\n",
       "      <td>737265056</td>\n",
       "      <td>5000</td>\n",
       "      <td>5000.0</td>\n",
       "      <td>2016-10-11 05:05:54</td>\n",
       "      <td>74.51</td>\n",
       "      <td>AMC #191138</td>\n",
       "      <td>US</td>\n",
       "      <td>US</td>\n",
       "      <td>09</td>\n",
       "      <td>...</td>\n",
       "      <td>2015-03-14</td>\n",
       "      <td>2015-03-14</td>\n",
       "      <td>486</td>\n",
       "      <td>486</td>\n",
       "      <td>767</td>\n",
       "      <td>PURCHASE</td>\n",
       "      <td>0.0</td>\n",
       "      <td>True</td>\n",
       "      <td>False</td>\n",
       "      <td>False</td>\n",
       "    </tr>\n",
       "    <tr>\n",
       "      <th>2</th>\n",
       "      <td>737265056</td>\n",
       "      <td>737265056</td>\n",
       "      <td>5000</td>\n",
       "      <td>5000.0</td>\n",
       "      <td>2016-11-08 09:18:39</td>\n",
       "      <td>7.47</td>\n",
       "      <td>Play Store</td>\n",
       "      <td>US</td>\n",
       "      <td>US</td>\n",
       "      <td>09</td>\n",
       "      <td>...</td>\n",
       "      <td>2015-03-14</td>\n",
       "      <td>2015-03-14</td>\n",
       "      <td>486</td>\n",
       "      <td>486</td>\n",
       "      <td>767</td>\n",
       "      <td>PURCHASE</td>\n",
       "      <td>0.0</td>\n",
       "      <td>False</td>\n",
       "      <td>False</td>\n",
       "      <td>False</td>\n",
       "    </tr>\n",
       "    <tr>\n",
       "      <th>3</th>\n",
       "      <td>737265056</td>\n",
       "      <td>737265056</td>\n",
       "      <td>5000</td>\n",
       "      <td>5000.0</td>\n",
       "      <td>2016-12-10 02:14:50</td>\n",
       "      <td>7.47</td>\n",
       "      <td>Play Store</td>\n",
       "      <td>US</td>\n",
       "      <td>US</td>\n",
       "      <td>09</td>\n",
       "      <td>...</td>\n",
       "      <td>2015-03-14</td>\n",
       "      <td>2015-03-14</td>\n",
       "      <td>486</td>\n",
       "      <td>486</td>\n",
       "      <td>767</td>\n",
       "      <td>PURCHASE</td>\n",
       "      <td>0.0</td>\n",
       "      <td>False</td>\n",
       "      <td>False</td>\n",
       "      <td>False</td>\n",
       "    </tr>\n",
       "    <tr>\n",
       "      <th>4</th>\n",
       "      <td>830329091</td>\n",
       "      <td>830329091</td>\n",
       "      <td>5000</td>\n",
       "      <td>5000.0</td>\n",
       "      <td>2016-03-24 21:04:46</td>\n",
       "      <td>71.18</td>\n",
       "      <td>Tim Hortons #947751</td>\n",
       "      <td>US</td>\n",
       "      <td>US</td>\n",
       "      <td>02</td>\n",
       "      <td>...</td>\n",
       "      <td>2015-08-06</td>\n",
       "      <td>2015-08-06</td>\n",
       "      <td>885</td>\n",
       "      <td>885</td>\n",
       "      <td>3143</td>\n",
       "      <td>PURCHASE</td>\n",
       "      <td>0.0</td>\n",
       "      <td>True</td>\n",
       "      <td>False</td>\n",
       "      <td>False</td>\n",
       "    </tr>\n",
       "  </tbody>\n",
       "</table>\n",
       "<p>5 rows × 23 columns</p>\n",
       "</div>"
      ],
      "text/plain": [
       "   accountNumber  customerId  creditLimit  availableMoney transactionDateTime  \\\n",
       "0      737265056   737265056         5000          5000.0 2016-08-13 14:27:32   \n",
       "1      737265056   737265056         5000          5000.0 2016-10-11 05:05:54   \n",
       "2      737265056   737265056         5000          5000.0 2016-11-08 09:18:39   \n",
       "3      737265056   737265056         5000          5000.0 2016-12-10 02:14:50   \n",
       "4      830329091   830329091         5000          5000.0 2016-03-24 21:04:46   \n",
       "\n",
       "   transactionAmount         merchantName acqCountry merchantCountryCode  \\\n",
       "0              98.55                 Uber         US                  US   \n",
       "1              74.51          AMC #191138         US                  US   \n",
       "2               7.47           Play Store         US                  US   \n",
       "3               7.47           Play Store         US                  US   \n",
       "4              71.18  Tim Hortons #947751         US                  US   \n",
       "\n",
       "  posEntryMode  ... accountOpenDate dateOfLastAddressChange cardCVV  \\\n",
       "0           02  ...      2015-03-14              2015-03-14     414   \n",
       "1           09  ...      2015-03-14              2015-03-14     486   \n",
       "2           09  ...      2015-03-14              2015-03-14     486   \n",
       "3           09  ...      2015-03-14              2015-03-14     486   \n",
       "4           02  ...      2015-08-06              2015-08-06     885   \n",
       "\n",
       "  enteredCVV cardLast4Digits  transactionType  currentBalance  cardPresent  \\\n",
       "0        414            1803         PURCHASE             0.0        False   \n",
       "1        486             767         PURCHASE             0.0         True   \n",
       "2        486             767         PURCHASE             0.0        False   \n",
       "3        486             767         PURCHASE             0.0        False   \n",
       "4        885            3143         PURCHASE             0.0         True   \n",
       "\n",
       "  expirationDateKeyInMatch  isFraud  \n",
       "0                    False    False  \n",
       "1                    False    False  \n",
       "2                    False    False  \n",
       "3                    False    False  \n",
       "4                    False    False  \n",
       "\n",
       "[5 rows x 23 columns]"
      ]
     },
     "execution_count": 24,
     "metadata": {},
     "output_type": "execute_result"
    }
   ],
   "source": [
    "trans_df[0:5]"
   ]
  },
  {
   "cell_type": "code",
   "execution_count": 22,
   "id": "likely-rachel",
   "metadata": {},
   "outputs": [
    {
     "name": "stdout",
     "output_type": "stream",
     "text": [
      "Min credit limit: 250\n",
      "Max credit limit: 50000\n"
     ]
    }
   ],
   "source": [
    "print('Min credit limit:',trans_df['creditLimit'].values.min())\n",
    "print('Max credit limit:',trans_df['creditLimit'].values.max())"
   ]
  },
  {
   "cell_type": "markdown",
   "id": "exciting-storm",
   "metadata": {},
   "source": [
    "For the rest of the columns check the statistics below."
   ]
  },
  {
   "cell_type": "markdown",
   "id": "armed-thumbnail",
   "metadata": {},
   "source": [
    "**Number of unique values, null values, min and max values at each column**\n",
    "\n",
    "Note that the min and max values are not very meaningful for some columns\n",
    "\n",
    "- Null values"
   ]
  },
  {
   "cell_type": "code",
   "execution_count": 27,
   "id": "operational-coupon",
   "metadata": {},
   "outputs": [
    {
     "data": {
      "text/plain": [
       "accountNumber                  0\n",
       "customerId                     0\n",
       "creditLimit                    0\n",
       "availableMoney                 0\n",
       "transactionDateTime            0\n",
       "transactionAmount              0\n",
       "merchantName                   0\n",
       "acqCountry                  4562\n",
       "merchantCountryCode          724\n",
       "posEntryMode                4054\n",
       "posConditionCode             409\n",
       "merchantCategoryCode           0\n",
       "currentExpDate                 0\n",
       "accountOpenDate                0\n",
       "dateOfLastAddressChange        0\n",
       "cardCVV                        0\n",
       "enteredCVV                     0\n",
       "cardLast4Digits                0\n",
       "transactionType              698\n",
       "currentBalance                 0\n",
       "cardPresent                    0\n",
       "expirationDateKeyInMatch       0\n",
       "isFraud                        0\n",
       "dtype: int64"
      ]
     },
     "execution_count": 27,
     "metadata": {},
     "output_type": "execute_result"
    }
   ],
   "source": [
    "trans_df.isna().sum()"
   ]
  },
  {
   "cell_type": "markdown",
   "id": "thrown-plain",
   "metadata": {},
   "source": [
    "- Unique values"
   ]
  },
  {
   "cell_type": "code",
   "execution_count": 28,
   "id": "dependent-textbook",
   "metadata": {},
   "outputs": [
    {
     "data": {
      "text/plain": [
       "accountNumber                 5000\n",
       "customerId                    5000\n",
       "creditLimit                     10\n",
       "availableMoney              521915\n",
       "transactionDateTime         776637\n",
       "transactionAmount            66038\n",
       "merchantName                  2490\n",
       "acqCountry                       4\n",
       "merchantCountryCode              4\n",
       "posEntryMode                     5\n",
       "posConditionCode                 3\n",
       "merchantCategoryCode            19\n",
       "currentExpDate                 165\n",
       "accountOpenDate               1820\n",
       "dateOfLastAddressChange       2184\n",
       "cardCVV                        899\n",
       "enteredCVV                     976\n",
       "cardLast4Digits               5245\n",
       "transactionType                  3\n",
       "currentBalance              487318\n",
       "cardPresent                      2\n",
       "expirationDateKeyInMatch         2\n",
       "isFraud                          2\n",
       "dtype: int64"
      ]
     },
     "execution_count": 28,
     "metadata": {},
     "output_type": "execute_result"
    }
   ],
   "source": [
    "trans_df.nunique()"
   ]
  },
  {
   "cell_type": "markdown",
   "id": "engaging-summer",
   "metadata": {},
   "source": [
    "- **Minimum values**\n",
    "\n",
    "(Note: not always miningful)"
   ]
  },
  {
   "cell_type": "code",
   "execution_count": 20,
   "id": "secure-dublin",
   "metadata": {},
   "outputs": [
    {
     "name": "stdout",
     "output_type": "stream",
     "text": [
      "accountNumber                         100088067\n",
      "customerId                            100088067\n",
      "creditLimit                                 250\n",
      "availableMoney                         -1005.63\n",
      "transactionDateTime         2016-01-01 00:01:02\n",
      "transactionAmount                          0.00\n",
      "merchantName                            1st BBQ\n",
      "merchantCategoryCode                    airline\n",
      "currentExpDate                          01/2020\n",
      "accountOpenDate                      1989-08-22\n",
      "dateOfLastAddressChange              1989-08-22\n",
      "cardCVV                                     100\n",
      "enteredCVV                                    0\n",
      "cardLast4Digits                               0\n",
      "echoBuffer                                  NaN\n",
      "currentBalance                             0.00\n",
      "merchantCity                                NaN\n",
      "merchantState                               NaN\n",
      "merchantZip                                 NaN\n",
      "cardPresent                               False\n",
      "posOnPremises                               NaN\n",
      "recurringAuthInd                            NaN\n",
      "expirationDateKeyInMatch                  False\n",
      "isFraud                                   False\n",
      "dtype: object\n"
     ]
    }
   ],
   "source": [
    "print(trans_df.min())"
   ]
  },
  {
   "cell_type": "markdown",
   "id": "variable-english",
   "metadata": {},
   "source": [
    "- **Maximum values**"
   ]
  },
  {
   "cell_type": "code",
   "execution_count": 21,
   "id": "accredited-fight",
   "metadata": {},
   "outputs": [
    {
     "name": "stdout",
     "output_type": "stream",
     "text": [
      "accountNumber                         999389635\n",
      "customerId                            999389635\n",
      "creditLimit                               50000\n",
      "availableMoney                         50000.00\n",
      "transactionDateTime         2016-12-30 23:59:45\n",
      "transactionAmount                       2011.54\n",
      "merchantName                 williamssonoma.com\n",
      "merchantCategoryCode              subscriptions\n",
      "currentExpDate                          12/2032\n",
      "accountOpenDate                      2015-12-31\n",
      "dateOfLastAddressChange              2016-12-30\n",
      "cardCVV                                     998\n",
      "enteredCVV                                  998\n",
      "cardLast4Digits                            9998\n",
      "echoBuffer                                  NaN\n",
      "currentBalance                         47498.81\n",
      "merchantCity                                NaN\n",
      "merchantState                               NaN\n",
      "merchantZip                                 NaN\n",
      "cardPresent                                True\n",
      "posOnPremises                               NaN\n",
      "recurringAuthInd                            NaN\n",
      "expirationDateKeyInMatch                   True\n",
      "isFraud                                    True\n",
      "dtype: object\n"
     ]
    }
   ],
   "source": [
    "print(trans_df.max())"
   ]
  },
  {
   "cell_type": "markdown",
   "id": "fuzzy-consumer",
   "metadata": {},
   "source": [
    "# Question 2: Plot \n",
    "\n",
    "In this part we plot a histogram of the processed amounts of each transaction."
   ]
  },
  {
   "cell_type": "code",
   "execution_count": 42,
   "id": "driven-cuisine",
   "metadata": {},
   "outputs": [
    {
     "data": {
      "image/png": "[encoded data removed]",
      "text/plain": [
       "<Figure size 576x432 with 1 Axes>"
      ]
     },
     "metadata": {
      "needs_background": "light"
     },
     "output_type": "display_data"
    }
   ],
   "source": [
    "prossAmount = trans_df['transactionAmount'].values\n",
    "\n",
    "\n",
    "plt.figure(figsize=(8,6))\n",
    "plt.hist(prossAmount, color=cap1_blue, bins=30)\n",
    "plt.grid(ls='--',alpha=0.6)\n",
    "plt.title(\"Histogram of processed transaction amounts\", fontsize=16)\n",
    "plt.xlabel(r'Transaction Amount $(\\$)$',fontsize=18);plt.ylabel('No. of transactions', fontsize=18)\n",
    "plt.show()"
   ]
  },
  {
   "cell_type": "markdown",
   "id": "documentary-genetics",
   "metadata": {},
   "source": [
    "It is not easy to see the distribution of transactions with transaction amounts > 1000 $\\$$, because there. Let's make a plot to see the distribution of transactions as a function of the transaction amount."
   ]
  },
  {
   "cell_type": "code",
   "execution_count": 39,
   "id": "extraordinary-queen",
   "metadata": {},
   "outputs": [
    {
     "data": {
      "image/png": "[encoded data removed]",
      "text/plain": [
       "<Figure size 576x360 with 1 Axes>"
      ]
     },
     "metadata": {
      "needs_background": "light"
     },
     "output_type": "display_data"
    }
   ],
   "source": [
    "plt.figure(figsize=(8,5))\n",
    "plt.hist(prossAmount[prossAmount>1000], color=cap1_blue, bins=30)\n",
    "plt.grid(ls='--',alpha=0.6)\n",
    "plt.title(\"Histogram of processed transaction amounts $> 1000\\$ $\", fontsize=16)\n",
    "plt.xlabel(r'Transaction Amount $(\\$)$',fontsize=18);plt.ylabel('No. of transactions', fontsize=18)\n",
    "plt.show()"
   ]
  },
  {
   "cell_type": "markdown",
   "id": "sweet-apollo",
   "metadata": {},
   "source": [
    "- **Structure in the data**\n",
    "\n",
    "The distribution presents (approximately) what is known as a power law distribution, where transactions with large transaction amounts (e.g. $>10$) are much less frequent than transactions with small transaction amounts (e.g. $< 10 \\$$).\n",
    "\n",
    "Such distributions (sometimes known as the 80/20 law, long-tail distributions, pareto distribution etc) are prevelant in the distribution of social phenomena (e.g. distribution of city sizes, occurance of words in texts etc) where less extreme values (e.g. small towns, common words) occur in a disproportionally larger fraction. \n",
    "\n",
    "In the present case, the distribution we observe above can be easily explained by our common experience: we use our credit card many times over the course of a day to make small-amount purchases (e.g. buy a coffee, a quick meal etc), less frequently for intermediate-amount purchases (e.g. grocery store visits) and even less frequntly for large-amount purchases (e.g. plance tickets for international destinations etc). \n"
   ]
  },
  {
   "cell_type": "markdown",
   "id": "leading-output",
   "metadata": {},
   "source": [
    "# Question 3: Data Wrangling - Duplicate Transactions <a class=\"anchor\" id=\"third-question\"></a>\n",
    "\n",
    "In this part we will investigate duplicate transactions that are present in the dataset. Specifically we are interested in **reversed transactions** (when a purchase is followed by a reversal) and **multi-swipe** (accidentally charging a card multiple times).  \n",
    "\n",
    "I spent a lot of time visually investigating the dataset, trying to get a sense of when reversed and multi-swipe transactions occur (and how they are encoded in the dataset). Here are some of my findings:\n",
    "\n",
    "\n",
    "- First of all, there exist duplicates that do not seem to correspond to any of the above categories. For example one of the first duplicate transactions are two purchases on Play Store ($7.47\\$$ each), that do not correspond to a reversed transaction (both have a `PURCHASE` label in the `transactionType` column), neither multi-swipe (happened with a difference of over a year).\n",
    "\n",
    "- Some times between the PURCHASE and the REVRSAL other transactions have happened. Not all reversed transactions correspond to two subsequent rows in the dataset. \n",
    "\n",
    "- Although all the REVERSALS that I have inspected seem to have a corresponding PURCHASE (same transaction amount, same merchant name, same account number), I am not sure that all REVERSALS correspond to reversed purchases as defined here. For example, some may correspond to a smaller amount, due to errorneous initial amount in purchase, etc. In other words, we cannot be absolutely sure that selecting the transactions with a transaction type of `REVERSAL` will give us only reversed purchases.\n",
    "\n",
    "- For multi-swipes: from my investigation, these are duplicate transactions that follow each other (subsequent rows) and within a short period of time (e.g. < 60 seconds).\n",
    "\n",
    "So, here I will follow the follow **strategy** to define and **find** reversed and multi-swipe transactions:\n",
    "\n",
    "- For **reversed transaction**: Find duplicates (two `transactionAmount` entries being the same), where the first one of them has a `transactionType` of PURCHASE and the second REVERSAL, by the same `accountNumber`, same credit card (as indicated by `cardLast4Digits`) and same `merchantName`. For simplicity, check duplicates that conform to those criteria and are separated by max 100 rows. (That's to simplify and make faster the computation). \n",
    "\n",
    "- Compare the results of the above method with those we get assuming that all transactions with a `REVERSAL` correspond to reversed purchases. \n",
    "\n",
    "- For **multi-swipe** transactions: Find duplicates (same `transactionAmount`entries being the), that both of them have a `transactionType` of PURCHASE and the time difference between them is small, let's say $<60$ seconds (although we can check how the results depend on the exact number)."
   ]
  },
  {
   "cell_type": "markdown",
   "id": "differential-expense",
   "metadata": {},
   "source": [
    "### Reversed Transactions\n",
    "\n",
    "Let's find the reversed transactions (total number and total amount) according to the above definition."
   ]
  },
  {
   "cell_type": "code",
   "execution_count": 43,
   "id": "respected-jonathan",
   "metadata": {},
   "outputs": [],
   "source": [
    "trans_type = trans_df['transactionType'] # Transaction type, we will need it\n",
    "merch_name = trans_df['merchantName'] # Merchant name, we will need it\n",
    "\n",
    "rev_amount = [] #Initialize a list that keeps the transaction amounts\n",
    "rev_Fraud = [] # Initialize a list that keeps the Fraud/no Fraud labels\n",
    "\n",
    "for i in range(1,100):\n",
    "    # Difference between transaction amount\n",
    "    diff_am_i = trans_df['transactionAmount'].diff(periods=i)\n",
    "    # Difference in credit card numbers\n",
    "    diff_card_i = trans_df['cardLast4Digits'].diff(periods=i)\n",
    "    \n",
    "    # Are the merchant names the same?\n",
    "    merch_same = merch_name.eq(merch_name.shift(periods=i))\n",
    "    \n",
    "    \n",
    "    # Define criteria for reversed\n",
    "    crit_reversed = (diff_card_i==0)&(diff_am_i==0)&(trans_type=='REVERSAL')&(merch_same==True)\n",
    "    reversed_trans = trans_df['transactionAmount'][crit_reversed]\n",
    "    reversed_isFraud = trans_df['isFraud'][crit_reversed]\n",
    "    \n",
    "    # Append the lists\n",
    "    rev_amount += list(reversed_trans.values)\n",
    "    rev_Fraud += list(reversed_isFraud.values)  "
   ]
  },
  {
   "cell_type": "code",
   "execution_count": 44,
   "id": "complimentary-edmonton",
   "metadata": {},
   "outputs": [
    {
     "name": "stdout",
     "output_type": "stream",
     "text": [
      "Number of reversed transactions: 15604\n",
      "Total transaction amount (in million dollars): 2.258749409999998\n"
     ]
    }
   ],
   "source": [
    "print('Number of reversed transactions:',len(rev_amount))\n",
    "print('Total transaction amount (in million dollars):',sum(rev_amount)/1e6)"
   ]
  },
  {
   "cell_type": "markdown",
   "id": "specific-cabin",
   "metadata": {},
   "source": [
    "**Results**: We have about 15600 reversed transactions, amounting a total of $\\sim 2.25$ million $\\$$.\n",
    "\n",
    "If we consider now all the reversals (not just the reversed transactions as we defined them above), then we have:"
   ]
  },
  {
   "cell_type": "code",
   "execution_count": 49,
   "id": "adaptive-survivor",
   "metadata": {},
   "outputs": [],
   "source": [
    "reversals = trans_df[trans_df['transactionType']=='REVERSAL']\n",
    "trans__amount_reversals = trans_df[trans_df['transactionType']=='REVERSAL']['transactionAmount']"
   ]
  },
  {
   "cell_type": "code",
   "execution_count": 50,
   "id": "material-adobe",
   "metadata": {},
   "outputs": [
    {
     "name": "stdout",
     "output_type": "stream",
     "text": [
      "20303\n",
      "2.8217924999999755\n"
     ]
    }
   ],
   "source": [
    "print(len(reversals))\n",
    "print(sum(trans__amount_reversals)/1e6)"
   ]
  },
  {
   "cell_type": "markdown",
   "id": "ecological-bosnia",
   "metadata": {},
   "source": [
    "Thus if we were assuming that all transactions with some reversal correspond to reversed transactions, we now have $> 20000$ such transactions, with a total transaction amount of\n",
    "$\\sim2.82$  million $\\$$."
   ]
  },
  {
   "cell_type": "markdown",
   "id": "pressed-travel",
   "metadata": {},
   "source": [
    "### Multi-Swipe\n",
    "\n",
    "Let's find now the multi-swipe transactions, according to the strategy mentioned above. I will also make the simplifying assumption that all of them are only happen two times in a row. \n",
    "\n",
    "\n",
    "**Update** Initially, I said that we would sent the time difference to be $<60$ seconds. However I relaized that results keep changing when increasing the time difference up to $<200$; after that threshold the number of multi-swipe transactions stops increasing."
   ]
  },
  {
   "cell_type": "code",
   "execution_count": 53,
   "id": "apart-slovakia",
   "metadata": {},
   "outputs": [],
   "source": [
    "swipe_amount = [] #Initialize a list that keeps the transaction amounts\n",
    "swipe_Fraud = [] # Initialize a list that keeps the Fraud/no Fraud labels\n",
    "\n",
    "for i in range(1,5):\n",
    "    # Get differences between transaction amounts, only subsequent rows\n",
    "    diff_amount = trans_df['transactionAmount'].diff(periods=i)\n",
    "    # Get differences between credit card numbers, only subsequent rows\n",
    "    diff_card = trans_df['cardLast4Digits'].diff(periods=i)\n",
    "    # Are the merchant names the same?\n",
    "    merch_same = merch_name.eq(merch_name.shift(periods=i))\n",
    "    # Get differences between transaction date/time, only subsequent rows\n",
    "    difftime = trans_df['transactionDateTime'].diff(periods=i)\n",
    "    # Convert to seconds\n",
    "    diff_seconds = difftime.dt.total_seconds().values\n",
    "\n",
    "\n",
    "    # get the transactions that pass the multi-swipe criteria as stated earlier\n",
    "    criteria = (diff_card==0)&(diff_amount==0)&(trans_type!='REVERSAL')&(merch_same==True)&(diff_seconds<200)\n",
    "    mult_sw_trans = trans_df['transactionAmount'][criteria]\n",
    "    mult_sw_Fraud = trans_df['isFraud'][criteria]\n",
    "    \n",
    "    # Append the lists\n",
    "    swipe_amount += list(mult_sw_trans.values)\n",
    "    swipe_Fraud += list(mult_sw_Fraud.values)  "
   ]
  },
  {
   "cell_type": "markdown",
   "id": "another-behalf",
   "metadata": {},
   "source": [
    "Convert lists to arrays"
   ]
  },
  {
   "cell_type": "code",
   "execution_count": 54,
   "id": "optical-interstate",
   "metadata": {},
   "outputs": [],
   "source": [
    "rev_amount = np.asarray(rev_amount)\n",
    "rev_Fraud = np.asarray(rev_Fraud)\n",
    "swipe_amount = np.asarray(swipe_amount)\n",
    "swipe_Fraud = np.asarray(swipe_Fraud)"
   ]
  },
  {
   "cell_type": "code",
   "execution_count": 55,
   "id": "committed-flavor",
   "metadata": {},
   "outputs": [
    {
     "name": "stdout",
     "output_type": "stream",
     "text": [
      "Number of multi-swipe transactions: 8142\n",
      "Total transaction amount (in million dollars): 1.174953989999993\n"
     ]
    }
   ],
   "source": [
    "print('Number of multi-swipe transactions:',len(swipe_amount))\n",
    "print('Total transaction amount (in million dollars):',sum(swipe_amount)/1e6)"
   ]
  },
  {
   "cell_type": "markdown",
   "id": "mental-center",
   "metadata": {},
   "source": [
    "**Results:**\n",
    "\n",
    "We have less multi-swipe transactions (8142) compared to reversed transactions, and a lower total transaction amount ($\\sim 1.17$ million $\\$$)."
   ]
  },
  {
   "cell_type": "markdown",
   "id": "accredited-glossary",
   "metadata": {},
   "source": [
    "### Is there anything interesting about any of these two types fo transactions?\n",
    "\n",
    "I suspect that these two types of transactioms may have something to tell us about the number of fraudulent transactions.\n",
    "\n",
    "For example, a reversed transaction is more probable to have been reversed because it is a (suspected) fraud. Here I will investigate this hypothesis.\n",
    "\n",
    "Let's start by plotting (normalized) histograms of the two type of transactions, and separate those belonging to the fraudulent and normal classes."
   ]
  },
  {
   "cell_type": "code",
   "execution_count": 62,
   "id": "formal-grass",
   "metadata": {},
   "outputs": [
    {
     "data": {
      "image/png": "[encoded data removed]",
      "text/plain": [
       "<Figure size 576x360 with 1 Axes>"
      ]
     },
     "metadata": {
      "needs_background": "light"
     },
     "output_type": "display_data"
    }
   ],
   "source": [
    "plt.figure(figsize=(8,5))\n",
    "\n",
    "plt.hist(swipe_amount[swipe_Fraud==True],color=cap1_blue, bins=30,density=True,label='Fraud')\n",
    "plt.hist(swipe_amount[swipe_Fraud==False],color=cap1_red, bins=30,density=True,alpha=0.5,label='Normal')\n",
    "plt.grid(ls='--',alpha=0.6)\n",
    "plt.title(\"processed transaction amounts -- Multi-swipe transactions\", fontsize=16)\n",
    "\n",
    "plt.xlabel('Transaction amount',fontsize=16)\n",
    "plt.ylabel('Normalized frequency', fontsize=16)\n",
    "\n",
    "plt.legend(frameon=True, loc='upper right', fontsize=20)\n",
    "plt.show()"
   ]
  },
  {
   "cell_type": "code",
   "execution_count": 66,
   "id": "angry-supervisor",
   "metadata": {},
   "outputs": [
    {
     "data": {
      "image/png": "[encoded data removed]",
      "text/plain": [
       "<Figure size 576x360 with 1 Axes>"
      ]
     },
     "metadata": {
      "needs_background": "light"
     },
     "output_type": "display_data"
    }
   ],
   "source": [
    "plt.figure(figsize=(8,5))\n",
    "\n",
    "plt.hist(rev_amount[rev_Fraud==True],color=cap1_blue, bins=30,density=True,label='Fraud')\n",
    "plt.hist(rev_amount[rev_Fraud==False],color=cap1_red, bins=30,density=True,alpha=0.5,label='Normal')\n",
    "\n",
    "plt.grid(ls='--',alpha=0.6)\n",
    "plt.title(\"processed transaction amounts -- Reversed transactions\", fontsize=16)\n",
    "\n",
    "plt.xlabel('Transaction amount',fontsize=16)\n",
    "plt.ylabel('Normalized frequency', fontsize=16)\n",
    "plt.legend(frameon=True, loc='upper right', fontsize=20)\n",
    "plt.show()"
   ]
  },
  {
   "cell_type": "markdown",
   "id": "close-storage",
   "metadata": {},
   "source": [
    "The above plots show that in both cases we have more  fraudulent transactions  when considering higher transaction amounts; however this is generally true, not only for reversed or multi-swipe transactions, but for any type of transaction.\n",
    "\n",
    "From the above plots it is not clear if there is anything particularly special about any of these transaction types.\n",
    "\n",
    "### Relative number of fraudulent transactions at high transaction amounts\n",
    "\n",
    "I will start with an **assumption**:\n",
    "\n",
    "I assume (something that I honestly figured out by tinkering and inspecting data at high transaction amounts), that the proportion of fraudulent transactions compared to the total number of tranasctions will be higher for reversed transactions if we select transactions above an amount threshold.\n",
    "\n",
    "\n",
    "For that reason I plot that proportion (fraudulent/total number of transactions) for different amount thresholds (select transactions above the threshold) and for: reversed, multi-swipe and all transaction (the whole dataset, including the reversed and multi-swipe).\n"
   ]
  },
  {
   "cell_type": "code",
   "execution_count": 67,
   "id": "interior-footwear",
   "metadata": {},
   "outputs": [],
   "source": [
    "tot_amount = trans_df['transactionAmount'].values\n",
    "tot_Fraud =  trans_df['isFraud'].values"
   ]
  },
  {
   "cell_type": "code",
   "execution_count": 68,
   "id": "impressive-greeting",
   "metadata": {},
   "outputs": [],
   "source": [
    "n_thresh = 100\n",
    "thresh = np.linspace(10,600,n_thresh)\n",
    "props_rev = np.zeros(n_thresh)\n",
    "props_swipe = np.zeros(n_thresh)\n",
    "props_tot = np.zeros(n_thresh)\n",
    "\n",
    "\n",
    "for i in range(n_thresh):\n",
    "    thres = thresh[i]\n",
    "    props_rev[i] = len(rev_amount[(rev_Fraud==True)&(rev_amount>thres)])/len(rev_amount[(rev_amount>thres)])\n",
    "    props_swipe[i] = len(swipe_amount[(swipe_Fraud==True)&(swipe_amount>thres)])/len(swipe_amount[(swipe_amount>thres)])\n",
    "    props_tot[i] =  len(tot_amount[(tot_Fraud==True)&(tot_amount>thres)])/len(tot_amount[(tot_amount>thres)])"
   ]
  },
  {
   "cell_type": "code",
   "execution_count": 70,
   "id": "numerical-change",
   "metadata": {},
   "outputs": [
    {
     "data": {
      "image/png": "[encoded data removed]",
      "text/plain": [
       "<Figure size 648x432 with 1 Axes>"
      ]
     },
     "metadata": {
      "needs_background": "light"
     },
     "output_type": "display_data"
    }
   ],
   "source": [
    "plt.figure(figsize=(9,6))\n",
    "\n",
    "\n",
    "plt.plot(thresh,props_rev,c=cap1_blue,linewidth=2,label='Reversed')\n",
    "plt.plot(thresh,props_swipe,c=cap1_red,linewidth=2, label='Multi-Swipe')\n",
    "plt.plot(thresh,props_tot,c='green',linewidth=2, label='All')\n",
    "plt.grid(ls='--',alpha=0.6)\n",
    "plt.title('Proportion of fraudulent transactions at different amount threshold levels', fontsize=15)\n",
    "\n",
    "plt.xticks(fontsize=12);plt.yticks(fontsize=12)\n",
    "plt.xlabel('Transaction amount threshold ($\\$$)', fontsize=20)\n",
    "plt.ylabel('Proportion of fraudulent transactions', fontsize=20)\n",
    "plt.legend(frameon=True, loc='upper left', fontsize=20)\n",
    "plt.show()"
   ]
  },
  {
   "cell_type": "markdown",
   "id": "marked-chemical",
   "metadata": {},
   "source": [
    "**Results:** What we see in the above plot confirms my hypothesis: for large transaction amounts (e.g. $> 500 \\$$), reversed transactions have a proportionally larger number of fraudulent transactions (note that however this is still quite low, about $6\\%$ of the total number of reversed transactions)."
   ]
  },
  {
   "cell_type": "markdown",
   "id": "mediterranean-naples",
   "metadata": {},
   "source": [
    "# Question 4: Model \n",
    "\n",
    "Fraudulent credit card transactions is a serious problem in banking. In this part we will develop a predictive model for fraudulent transactions. Namely, we will use the data we have to train a **classifier** able to distinguish between a fraudulent and non-fraudulent (normal) transactions. \n",
    "\n",
    "## Target classes\n",
    "\n",
    "Before start thinking about how to create this predictive model, let us inspect the number of examples in the target classes.  Below we calcuate the number and create a bar plot of the fraudulent and clean transactions."
   ]
  },
  {
   "cell_type": "code",
   "execution_count": 119,
   "id": "eleven-height",
   "metadata": {},
   "outputs": [
    {
     "name": "stdout",
     "output_type": "stream",
     "text": [
      "No. of fraudulent transactions: 12417\n",
      "No. of non-fraudulent transactions: 773946\n"
     ]
    }
   ],
   "source": [
    "# Get the target value classes (Fraud/Not Fraud)\n",
    "# Convert the Boolean array (True/False) into integers (0/1) that\n",
    "# A classifier can uderstand\n",
    "y_target = trans_df['isFraud'].values.astype(int)\n",
    "\n",
    "# Let's print and then plot the number of Fraudulent and non-Fraudulent transactions\n",
    "n_Fraud = len(y_target[y_target==1])\n",
    "n_nonFraud = len(y_target[y_target==0])\n",
    "\n",
    "print('No. of fraudulent transactions:', n_Fraud)\n",
    "print('No. of non-fraudulent transactions:', n_nonFraud)"
   ]
  },
  {
   "cell_type": "markdown",
   "id": "renewable-response",
   "metadata": {},
   "source": [
    "Let's make a plot, to see that better"
   ]
  },
  {
   "cell_type": "code",
   "execution_count": 120,
   "id": "useful-rider",
   "metadata": {},
   "outputs": [
    {
     "data": {
      "image/png": "[encoded data removed]",
      "text/plain": [
       "<Figure size 360x360 with 1 Axes>"
      ]
     },
     "metadata": {
      "needs_background": "light"
     },
     "output_type": "display_data"
    }
   ],
   "source": [
    "fig = plt.figure(figsize=(5.,5.))\n",
    "plt.barh(4, n_nonFraud/10000, height=1.1, color=cap1_blue, label='Normal')\n",
    "plt.barh(2, n_Fraud/10000, height=1.1, color=cap1_red, label='Fraud')\n",
    "plt.grid(ls='--', axis='x', alpha=0.6)\n",
    "\n",
    "plt.xticks(fontsize=16)\n",
    "plt.yticks([1,2,4,5],(),fontsize=10)\n",
    "plt.legend(frameon=True, loc='lower right', fontsize=20)\n",
    "plt.xlabel(r'Number of transactions ($\\times$ 10k)', fontsize=20)\n",
    "plt.tight_layout()\n",
    "plt.show()"
   ]
  },
  {
   "cell_type": "markdown",
   "id": "enormous-pocket",
   "metadata": {},
   "source": [
    "We see that the target classes are **heavily imbalanced**, in other words we have many more non-fraudulent transactions ($\\sim 774$k) than fraudulent ones ($\\sim 12$k). The fraudulent transactions represent less than $1.6\\%$ of the total number of transactions, something expected if the dataset represents real world data.\n",
    "\n",
    "So, when building our predictive model we should appropriately take this class imbalance into account.\n",
    "\n",
    "\n",
    "## Simplifying assumptions for a baseline model\n",
    "\n",
    "Here, I will make a few assumptions for our first model.\n",
    "\n",
    "- Assumption one: We will not use any **time information**. For example, one can imagine that the number of previous transactions, and even more importantly the number of previous fraudulent transactions by a specific credit number can be a strong predictor for future fraudulent behavior. However this requires a careful treatment of the way we split the dataset into training-validation-test sets, in order not to have leaking information between them, and blending forecasting with binary prediction models. We will drop it for now.\n",
    "\n",
    "- Some acount numbers/credit cards or merchants may have a higher number of fraudulent transactions. But this require some splitting of data based on time, that we will avoid in our baseline feature selection.\n",
    "\n",
    "- Furthermore, I assume that building a model based on past behavior of customer may not be very useful if we want to apply it to transactions from new customers. \n",
    "\n",
    "Having made this assumptions, let us start the dataset preprocessing.\n",
    "\n",
    "## Dataset Preprocessing\n",
    "\n",
    "Let's discuss and perform some data preprocessing steps here.\n",
    "\n",
    "### Columns to drop\n",
    "\n",
    "Based on the assumptions above, I will drop the following columns:\n",
    "\n",
    "- `accountNumber`,`customerId`,`transactionDateTime`\n",
    "- `merchantName`,`currentExpDate`, `accountOpenDate`\n",
    "- `dateOfLastAddressChange`, `cardCVV`, `enteredCVV`,`cardLast4Digits`\n",
    "\n",
    "Let's also drop the `isFraud` label column, since we have already kept the labels above. \n",
    "\n",
    "We drop the `cardCVV` and `enteredCVV` columns, we expect however that the fact these two are the same or not may provide significant information about an attempted fraudulent transaction.\n",
    "\n",
    "Thus, before droping them, I will create a boolean array that is true if the two are the same and false otherwise.\n",
    "\n",
    "Furthermore, we have two columns, `acqCountry` code, and `merchantCountryCode`. We create a new substitute them with a new feature that just shows if the two countries match, and then drop the `acqCountry`.\n",
    "\n",
    "\n",
    "**Note:** Although it consumes memory, I find it to be a good practice to store to create a new dataframe every time I make a significant preprocessing change. That way it prevents accidental errors when, for example, running the same cell twice etc. I'll give them letter names, like df_a, df_b, etc"
   ]
  },
  {
   "cell_type": "code",
   "execution_count": 121,
   "id": "dutch-sculpture",
   "metadata": {},
   "outputs": [],
   "source": [
    "# Find if the CVVs match\n",
    "matching_CVV = ~(trans_df.enteredCVV - trans_df.cardCVV).astype(bool)\n",
    "# Convert to a dataframe\n",
    "matching_CVV_df = pd.DataFrame({'matchCVV':matching_CVV})\n",
    "\n",
    "# ==================================================================\n",
    "# Boolean array - do the two countries match?\n",
    "matching_countries = trans_df.acqCountry == trans_df.merchantCountryCode\n",
    "# Convert to a dataframe\n",
    "matching_countries_df = pd.DataFrame({'matchCountries':matching_countries})"
   ]
  },
  {
   "cell_type": "code",
   "execution_count": 122,
   "id": "fleet-entertainment",
   "metadata": {},
   "outputs": [],
   "source": [
    "# Make a list of the columns I am going to drop \n",
    "cols_to_drop = ['accountNumber','customerId','transactionDateTime',\n",
    "               'currentExpDate', 'accountOpenDate','dateOfLastAddressChange','merchantName',\n",
    "               'cardCVV', 'enteredCVV','cardLast4Digits','acqCountry','isFraud']\n",
    "\n",
    "# Drop columns from the dataframe \n",
    "a_df = trans_df.drop(cols_to_drop, axis=1)\n",
    "\n",
    "# Concatenate the dataframes\n",
    "b_df = pd.concat([a_df,matching_CVV_df,matching_countries_df], axis=1)"
   ]
  },
  {
   "cell_type": "markdown",
   "id": "other-redhead",
   "metadata": {},
   "source": [
    "### Impute missing values\n",
    "\n",
    "We have seen that some columns/features have missing values. Although these are not many, and we could simply drop the rows that have missing values, because of the relatively low number of fraudulent transactions in the dataset, we don't want to drop any of them. For that reason, we impute the missing values with the most frequent value in the column where they occur. The choice of the \"most frequent\" was taken because the missing elements are in columns such the `posConditionCode`."
   ]
  },
  {
   "cell_type": "code",
   "execution_count": 123,
   "id": "adapted-amino",
   "metadata": {},
   "outputs": [],
   "source": [
    "imp = SimpleImputer(missing_values=np.nan,strategy=\"most_frequent\")\n",
    "c_df = pd.DataFrame(imp.fit_transform(b_df), columns=b_df.columns)"
   ]
  },
  {
   "cell_type": "markdown",
   "id": "demographic-genome",
   "metadata": {},
   "source": [
    "### Log rescaling transformation\n",
    "\n",
    "Some columns (like transaction amounts, credit limits) have very skewed distributions as we have seen. In such cases, it is better to perform a log rescaling (get the logarithm of the values) that maps the features to a smaller range."
   ]
  },
  {
   "cell_type": "code",
   "execution_count": 124,
   "id": "framed-position",
   "metadata": {},
   "outputs": [],
   "source": [
    "d_df = c_df.copy()\n",
    "# Credit Limit\n",
    "d_df.creditLimit = c_df.creditLimit.astype(float).apply(np.log10)\n",
    "# Available Money\n",
    "d_df.availableMoney = c_df.availableMoney + 1010. #Add to make it always positive\n",
    "d_df.availableMoney = d_df.availableMoney.astype(float).apply(np.log10)\n",
    "# Current Balance\n",
    "d_df.currentBalance = c_df.currentBalance+1.\n",
    "d_df.currentBalance = d_df.currentBalance.astype(float).apply(np.log10)\n",
    "# Transaction Amount\n",
    "d_df.transactionAmount = c_df.transactionAmount+1.\n",
    "d_df.transactionAmount = d_df.transactionAmount.astype(float).apply(np.log10)"
   ]
  },
  {
   "cell_type": "markdown",
   "id": "romance-somewhere",
   "metadata": {},
   "source": [
    "### One-Hot encoding etc\n",
    "\n",
    "Finally, some features (like the entry mode of the POS, the merchant category etc) come with some numrical or word descriptions that either cannot be directly fed to a machine learning model or, if the values are numerical, do not have have an ordinal relationship. In such cases we have to introduce a new  column for each one of the different values the feature can take. These columns are binary containing zeros and ones, ones representing the positions where the initial feature has the value represented by the new column (one-hot encoding). "
   ]
  },
  {
   "cell_type": "code",
   "execution_count": 125,
   "id": "entire-inclusion",
   "metadata": {},
   "outputs": [],
   "source": [
    "# Convert the boolean features to numeric (0/1)\n",
    "d_df.cardPresent = c_df.cardPresent.astype(int)\n",
    "d_df.expirationDateKeyInMatch = c_df.expirationDateKeyInMatch.astype(int)\n",
    "d_df.matchCVV = c_df.matchCVV.astype(int)\n",
    "d_df.matchCountries = c_df.matchCountries.astype(int)\n",
    "\n",
    "# One hot-encoding\n",
    "\n",
    "# Columns I'm going to perform one-hot encoding\n",
    "cols_one_hot = ['merchantCountryCode','posEntryMode','posConditionCode',\n",
    "                'merchantCategoryCode','transactionType']\n",
    "# Perform OH encoding\n",
    "e_df = pd.get_dummies(d_df, columns=cols_one_hot)"
   ]
  },
  {
   "cell_type": "markdown",
   "id": "decreased-franklin",
   "metadata": {},
   "source": [
    "### Train-Validation-Test split and Rescaling\n",
    "\n",
    "Here I write a function that splits the total dataset into training, validation, and test sets.\n",
    "Furthermore it performs a min-max rescaling, where each feature gets a value between [0-1].\n",
    "\n",
    "Note that the scaler is trained on the training set only in order to prevent **information leakage**."
   ]
  },
  {
   "cell_type": "code",
   "execution_count": 126,
   "id": "serial-ability",
   "metadata": {},
   "outputs": [],
   "source": [
    "# Get values of the from the dataframe\n",
    "mat_values = e_df.values\n",
    "\n",
    "# Train-validation-test split\n",
    "# Write a function, in case we want to repeat it \n",
    "def dataset_split_scale(X,y):\n",
    "    \"\"\"\n",
    "    Function that splits a matrix and a vector into\n",
    "    training - validation - test sets.\n",
    "    We also rescale the train, validation, test sets\n",
    "    \"\"\"\n",
    "    scaler = MinMaxScaler()\n",
    "    \n",
    "    \n",
    "    # First split into training set and a set for validation-test\n",
    "    X_tr, X_valtest, y_tr, y_valtest = train_test_split(X,y,\n",
    "                                                   stratify=y, #stratify to keep the proportions\n",
    "                                                   test_size=0.2,random_state=42)\n",
    "    # Now split the \"valtest\" set into validation and test sets\n",
    "    X_val, X_test, y_val, y_test = train_test_split(X_valtest,y_valtest,\n",
    "                                                   stratify=y_valtest, \n",
    "                                                   test_size=0.5,random_state=42)\n",
    "    \n",
    "    # Rescale\n",
    "    scaler.fit(X_tr)\n",
    "    X_tr_s = scaler.transform(X_tr)\n",
    "    X_val_s = scaler.transform(X_val)\n",
    "    X_test_s = scaler.transform(X_test)\n",
    "    \n",
    "    \n",
    "    return X_tr_s, X_val_s, X_test_s, y_tr, y_val, y_test\n",
    "\n",
    "# ===================================\n",
    "# Get matrices - These are all rescaled\n",
    "X_train, X_val, X_test, y_train, y_val, y_test = dataset_split_scale(mat_values,y_target)"
   ]
  },
  {
   "cell_type": "markdown",
   "id": "willing-upset",
   "metadata": {},
   "source": [
    "## Model building: Predicting fraudulent transactions with Logistic Regression and Random Forrests \n",
    "\n",
    "Now that we have constructed, split and rescaled the feature matrices, it is time to build a predictive model.\n",
    "\n",
    "### Dealing with class imbalance\n",
    "\n",
    "As we have seen the dataset is heavily imbalanced. Training a classifier on that dataset is guaranteed to give very skewed results, since a classifier can achieve almost $100\\%$ accuracy by just assigning every example to the majority class (normal transaction).\n",
    "\n",
    "Thus we train the classification models on artificially balanced **training sets**. To achieve that, we fist (slightly) oversample the minority (fraud) class, and then undersample the majority class to achieve a balanced training dataset.\n",
    "\n",
    "Specifically, I use the Synthetic Minority Oversampling Technique (SMOTE) provided by the `imbalance-learn` package to first increase the number of fraudulent examples to 10 percent of the total number of examples in the dataset. Then I use random undersampling to decrease the number of normal examples and create a balanced datase.\n",
    "\n",
    "I want to emphasize that the balancing/resampling procedure should - and is - performed on the **training set only**. The **test** set **should remain imbalanced**, since it represents the real world situation where most transactions are normal and not fraudulent.\n",
    "\n",
    "All evaluation metrics (precision, recall, confusion matrices) are calculated using that metric.\n",
    "\n",
    "\n",
    "### Precision or Recall?\n",
    "\n",
    "In imbalanced problems like this one, the accuracy is not a good metric.\n",
    "Instead we will focus on the **recall** and the **precision** of the results (or their weigthed average, the F1 score).\n",
    "\n",
    "- **Recall** shows the *completeness* of the classification; how many of the total fraudulent transactions the classifier was able to find.\n",
    "\n",
    "The recall is defined as:\n",
    "\n",
    "\\begin{equation}\n",
    "\\mbox{Recall} = \\frac{\\mbox{TP}}{\\mbox{TP+FN}}\n",
    "\\end{equation}\n",
    "(FN is the number of False Negatives) and it characterizes the ability of the classifier to find all the positive samples (frauds in our case).\n",
    "\n",
    "\n",
    "\n",
    "- **Precision** shows the *purity* of the positively classified examples; how many of those classified as fraudulent are indeed fraudulent?\n",
    "\n",
    "Specifically, the precision score is defined as:\n",
    "\n",
    "\\begin{equation}\n",
    "\\mbox{Precision} =  \\frac{\\mbox{TP}}{\\mbox{TP+FP}}\n",
    "\\end{equation}\n",
    "(TP, FP being the true positive and false positives, respectiveley) and measures the ability of the classifier not to label a negative sample (normal) as positive (fraud).\n",
    "\n",
    "For **practical applications** of fraud detection **recall is more important than the precision**: It is better to have false positives (normal transactions flagged as fraudulent) than false negatives (fraudulent transactions passing as normal). With suspicious transactions one can investigate more (by having a human to check the account behavior or by calling/texting the card holder).\n",
    "\n",
    "Of course, we want the precision to be relatively high, too... Otherwise we would always be able to flag every transaction as fraudulent and have a perfect recall score.\n"
   ]
  },
  {
   "cell_type": "code",
   "execution_count": 127,
   "id": "compressed-terrorist",
   "metadata": {},
   "outputs": [],
   "source": [
    "# Define the SMOTE and RandomUnderSampling resamplers\n",
    "smt = SMOTE(sampling_strategy=0.1,random_state=42) #minority class increase to 10% of total\n",
    "rus = rus = RandomUnderSampler(sampling_strategy=1.0,random_state=42) #minority=majority numbers\n",
    "\n",
    "# Build resampling pipeline\n",
    "pipeline_res = Pipeline([('smt', smt), ('rus',rus)])\n",
    "\n",
    "# Resample training set\n",
    "X_tr_res, y_tr_res = pipeline_res.fit_resample(X_train,y_train)"
   ]
  },
  {
   "cell_type": "markdown",
   "id": "professional-namibia",
   "metadata": {},
   "source": [
    "### Logistic Regression\n",
    "\n",
    "Our first model will be a logistic regression model, which is simple, fast and quite intuitive for a two-class problem like the one we have here.\n",
    "\n",
    "Briefly, the logistic regression estimates the probability of an instance with features $x_1, x_2,\\dots)$ to belong to class $Y=1$ (Fraud) as:\n",
    "\n",
    "\\begin{equation}\n",
    "p(Y=1|X) = \\frac{1}{1+e^{-(\\beta_0 + \\beta_1 x_1 + \\beta_2 x_2 +\\dots)}},\n",
    "\\end{equation}\n",
    "\n",
    "where $\\beta_0, \\beta_1, \\dots$ coefficients to be learned."
   ]
  },
  {
   "cell_type": "code",
   "execution_count": 128,
   "id": "lesser-toddler",
   "metadata": {},
   "outputs": [],
   "source": [
    "cls_LR = LogisticRegression(max_iter=1000,C=1.0,random_state=42)\n",
    "cls_LR.fit(X_tr_res,y_tr_res)\n",
    "\n",
    "y_pred_LR = cls_LR.predict(X_test)"
   ]
  },
  {
   "cell_type": "markdown",
   "id": "august-underground",
   "metadata": {},
   "source": [
    "**Confusion matrix function**\n",
    "\n",
    "Write a function that creates nice confusion matrices - we will need it in many subsequent steps."
   ]
  },
  {
   "cell_type": "code",
   "execution_count": 129,
   "id": "twelve-above",
   "metadata": {},
   "outputs": [],
   "source": [
    "# Define function that plots confusion matrices\n",
    "def plot_confusion(y_true,y_predict,method='Logistic Regression'):\n",
    "    \"\"\"\n",
    "    Function that calculates and plots \n",
    "    confusion matrices\n",
    "    \"\"\"\n",
    "    \n",
    "    # Get confusion matrix\n",
    "    con_mat = confusion_matrix(y_true,y_predict)\n",
    "    \n",
    "    # Class names\n",
    "    class_names = ['Normal','Fraud']\n",
    "    # =======================================\n",
    "    #Plot\n",
    "    plt.figure(figsize=(6.,6.))\n",
    "    # Plot title\n",
    "    plt.title('Confusion Matrix -'+ method,fontsize=15)\n",
    "    \n",
    "    sns.heatmap(con_mat, square=True, annot=True,\n",
    "                fmt='d',annot_kws={\"size\":15},\n",
    "                cmap='Blues',cbar=False,\n",
    "                xticklabels=class_names,\n",
    "                yticklabels=class_names)\n",
    "    \n",
    "    plt.xticks(fontsize=16);plt.yticks(fontsize=16)\n",
    "    plt.xlabel('Predicted Label',fontsize=15)\n",
    "    plt.ylabel('True Label',fontsize=15)\n",
    "    plt.show()"
   ]
  },
  {
   "cell_type": "code",
   "execution_count": 130,
   "id": "advisory-checklist",
   "metadata": {},
   "outputs": [
    {
     "data": {
      "image/png": "[encoded data removed]",
      "text/plain": [
       "<Figure size 432x432 with 1 Axes>"
      ]
     },
     "metadata": {
      "needs_background": "light"
     },
     "output_type": "display_data"
    }
   ],
   "source": [
    "# Plot confusion matrix\n",
    "plot_confusion(y_test,y_pred_LR)"
   ]
  },
  {
   "cell_type": "code",
   "execution_count": 131,
   "id": "ethical-invite",
   "metadata": {},
   "outputs": [
    {
     "name": "stdout",
     "output_type": "stream",
     "text": [
      "Recall, Logistic Regression: 0.7045088566827697\n",
      "Precision, Logistic Regression: 0.030602965864577503\n",
      "F1 score, Logistic Regression: 0.05865790708587518\n"
     ]
    }
   ],
   "source": [
    "print('Recall, Logistic Regression:',recall_score(y_test,y_pred_LR))\n",
    "print('Precision, Logistic Regression:',precision_score(y_test,y_pred_LR))\n",
    "print('F1 score, Logistic Regression:',f1_score(y_test,y_pred_LR))"
   ]
  },
  {
   "cell_type": "markdown",
   "id": "vocational-alert",
   "metadata": {},
   "source": [
    "#### Tweaking the probability threshold\n",
    "\n",
    "Lostic regression is a probabilistic classifier. The output is a the probability of an example to belong to the positie class (here \"Fraud\") that is converted to a class by assuming a probability threshold (default $p=0.5$).\n",
    "\n",
    "However, we may want to change that probability threshold in order to optimize for better precision or recall.\n",
    "\n",
    "In the following I explore how selecting a different probability threshold can give us better results."
   ]
  },
  {
   "cell_type": "code",
   "execution_count": 132,
   "id": "organic-opposition",
   "metadata": {},
   "outputs": [],
   "source": [
    "def prediction_probas(clf, X_mat,y_true, probas):\n",
    "    \"\"\"\n",
    "    Function that calculates and plots\n",
    "    Precision and Recall at different probability levels\n",
    "    \"\"\"\n",
    "    \n",
    "    # Predict probability\n",
    "    y_proba = clf.predict_proba(X_mat)[:,1]\n",
    "    \n",
    "    \n",
    "    n = len(probas)\n",
    "    precs = np.zeros(n)\n",
    "    recs = np.zeros(n)\n",
    "    \n",
    "    for i in range(n):\n",
    "        prob_thres = probas[i]\n",
    "        \n",
    "        # Binarize the classification\n",
    "        # based on probability threshold\n",
    "        y_bin = np.zeros(len(y_proba))\n",
    "        y_bin[y_proba>prob_thres] = 1.0\n",
    "        \n",
    "        precs[i] = precision_score(y_true,y_bin)\n",
    "        recs[i] = recall_score(y_true,y_bin)\n",
    "        \n",
    "    # Make plots\n",
    "    # For precision\n",
    "    plt.figure(figsize=(6.,4.))\n",
    "    plt.plot(probas,precs,c=cap1_blue)\n",
    "    plt.grid(ls='--', alpha=0.6)\n",
    "    plt.yticks(fontsize=14)\n",
    "    plt.xticks(fontsize=14)\n",
    "    plt.ylabel('Precision', fontsize=15)\n",
    "    plt.show()\n",
    "    # For recall\n",
    "    plt.figure(figsize=(6.,4.))\n",
    "    plt.plot(probas,recs,c=cap1_red)\n",
    "    plt.grid(ls='--', alpha=0.6)\n",
    "    plt.xticks(fontsize=14)\n",
    "    plt.yticks(fontsize=14)\n",
    "    plt.xlabel('Probability threshold',fontsize=15)\n",
    "    plt.ylabel('Recall', fontsize=15)\n",
    "    plt.show()"
   ]
  },
  {
   "cell_type": "markdown",
   "id": "numerical-background",
   "metadata": {},
   "source": [
    "**Plot precision and recall as a function of the probability threshold**"
   ]
  },
  {
   "cell_type": "code",
   "execution_count": 133,
   "id": "broad-atmosphere",
   "metadata": {},
   "outputs": [
    {
     "data": {
      "image/png": "[encoded data removed]",
      "text/plain": [
       "<Figure size 432x288 with 1 Axes>"
      ]
     },
     "metadata": {
      "needs_background": "light"
     },
     "output_type": "display_data"
    },
    {
     "data": {
      "image/png": "[encoded data removed]",
      "text/plain": [
       "<Figure size 432x288 with 1 Axes>"
      ]
     },
     "metadata": {
      "needs_background": "light"
     },
     "output_type": "display_data"
    }
   ],
   "source": [
    "probs = np.linspace(0.2,0.8,20)\n",
    "# Plot precision and recall as a function of threshold\n",
    "prediction_probas(cls_LR, X_test,y_test, probs)"
   ]
  },
  {
   "cell_type": "markdown",
   "id": "fancy-tobacco",
   "metadata": {},
   "source": [
    "We see that setting the threshold to 0.4, for example, will significantly improve the recall but decrease the precision.\n",
    "Let's plot the confusion matrix to see that."
   ]
  },
  {
   "cell_type": "code",
   "execution_count": 134,
   "id": "smart-windsor",
   "metadata": {},
   "outputs": [
    {
     "data": {
      "image/png": "[encoded data removed]",
      "text/plain": [
       "<Figure size 432x432 with 1 Axes>"
      ]
     },
     "metadata": {
      "needs_background": "light"
     },
     "output_type": "display_data"
    }
   ],
   "source": [
    "y_proba = cls_LR.predict_proba(X_test)[:,1]\n",
    "y_bin = np.zeros(len(y_proba))\n",
    "y_bin[y_proba>0.4] = 1.0\n",
    "plot_confusion(y_test,y_bin,'Logistic Regression, $p>0.4$')"
   ]
  },
  {
   "cell_type": "code",
   "execution_count": 141,
   "id": "scientific-mainland",
   "metadata": {},
   "outputs": [
    {
     "name": "stdout",
     "output_type": "stream",
     "text": [
      "Recall, Logistic Regression, p>0.4: 0.8317230273752013\n",
      "Precision, Random Forest, p>0.4: 0.02498125801068898\n",
      "F1 score, Random Forest, p>0.4: 0.048505622989693145\n"
     ]
    }
   ],
   "source": [
    "print('Recall, Logistic Regression, p>0.4:',recall_score(y_test,y_bin))\n",
    "print('Precision, Random Forest, p>0.4:',precision_score(y_test,y_bin))\n",
    "print('F1 score, Random Forest, p>0.4:',f1_score(y_test,y_bin))"
   ]
  },
  {
   "cell_type": "markdown",
   "id": "seasonal-nirvana",
   "metadata": {},
   "source": [
    "We see that we significantly improved the number of true positives (and the recall), with false negatives being less than $20\\%$ of the number of all trully fraudulent transactions. At the same time though, the number of false positives has been significantly increased."
   ]
  },
  {
   "cell_type": "markdown",
   "id": "thrown-money",
   "metadata": {},
   "source": [
    "### Random Forest Classifier\n",
    "\n",
    "Although the above results suggest that is probably hard to build a very good (=high precision and recall) classifier with the training dataset we have, let's try a classifier that is usually more powerful than the simple logistic regression.\n",
    "\n",
    "A powerful classifier constructed by using many decision trees and then collecting the majority vote to perform the final classification is the Random Forest. \n",
    "Compared to the Logistic Regression it has more tunable hyperparameters.\n",
    "\n",
    "Here we will perform Grid Search to optimize two of them, that I consider as very important, namely the number of trees and the minimum number "
   ]
  },
  {
   "cell_type": "code",
   "execution_count": 135,
   "id": "straight-madison",
   "metadata": {},
   "outputs": [
    {
     "name": "stdout",
     "output_type": "stream",
     "text": [
      "{'min_samples_split': 2, 'n_estimators': 150}\n"
     ]
    }
   ],
   "source": [
    "# Grid of parameters to search for \n",
    "param_grid = {'n_estimators':[50,100,150],\n",
    "             'min_samples_split':[2,10,15,20]}\n",
    "\n",
    "# Random forest classfier initialize\n",
    "RF_clf = RandomForestClassifier(random_state=0)\n",
    "\n",
    "# Resample validation set\n",
    "X_val_res, y_val_res = pipeline_res.fit_resample(X_val,y_val)\n",
    "\n",
    "grid = GridSearchCV(RF_clf, param_grid,cv=5, scoring='recall')\n",
    "grid.fit(X_val_res, y_val_res)\n",
    "print(grid.best_params_)"
   ]
  },
  {
   "cell_type": "code",
   "execution_count": 136,
   "id": "driving-attraction",
   "metadata": {},
   "outputs": [],
   "source": [
    "RF_clf = RandomForestClassifier(n_estimators=150,min_samples_split=2,random_state=0)\n",
    "RF_clf.fit(X_tr_res, y_tr_res)\n",
    "y_pred_RF = RF_clf.predict(X_test)"
   ]
  },
  {
   "cell_type": "markdown",
   "id": "unlikely-piano",
   "metadata": {},
   "source": [
    "Plot the confusion matrix now!"
   ]
  },
  {
   "cell_type": "code",
   "execution_count": 137,
   "id": "editorial-alfred",
   "metadata": {},
   "outputs": [
    {
     "data": {
      "image/png": "[encoded data removed]",
      "text/plain": [
       "<Figure size 432x432 with 1 Axes>"
      ]
     },
     "metadata": {
      "needs_background": "light"
     },
     "output_type": "display_data"
    }
   ],
   "source": [
    "# Plot confusion matrix\n",
    "plot_confusion(y_test,y_pred_RF)"
   ]
  },
  {
   "cell_type": "code",
   "execution_count": 138,
   "id": "metropolitan-greenhouse",
   "metadata": {},
   "outputs": [
    {
     "name": "stdout",
     "output_type": "stream",
     "text": [
      "Recall, Random Forest: 0.428341384863124\n",
      "Precision, Random Forest: 0.037891737891737894\n",
      "F1 score, Random Forest: 0.06962439471273393\n"
     ]
    }
   ],
   "source": [
    "print('Recall, Random Forest:',recall_score(y_test,y_pred_RF))\n",
    "print('Precision, Random Forest:',precision_score(y_test,y_pred_RF))\n",
    "print('F1 score, Random Forest:',f1_score(y_test,y_pred_RF))"
   ]
  },
  {
   "cell_type": "markdown",
   "id": "fixed-local",
   "metadata": {},
   "source": [
    "We see that this (slightly) increased the precision, but at the expence of severely degrading the recall score."
   ]
  },
  {
   "cell_type": "markdown",
   "id": "instructional-hopkins",
   "metadata": {},
   "source": [
    "### Summary: Baseline model(s) results\n",
    "\n",
    "In this section I trained two classification models (Logistic regression and Random Forest) with the purpose of being able to predict if a given transaction is fraudulent or not.\n",
    "\n",
    "In the case of the the Logistic regression, I considered separately the case when the standard $p=0.5$ output probability threshold (for an instance to be classified as Fraud) changed to $p=0.4$. The matrix below summarized the results (precision and recall):"
   ]
  },
  {
   "cell_type": "markdown",
   "id": "norman-capability",
   "metadata": {},
   "source": [
    "| Model       || Precision   |      Recall   |  \n",
    "| :---:       ||    :----:   |         :---: |     \n",
    "| Log. Regression      || 0.031     | 0.704   |             \n",
    "| Log. Regression (p>0.4)  || 0.025        | 0.832      |\n",
    "| Random Forest  || 0.038 |  0.428    |"
   ]
  },
  {
   "cell_type": "markdown",
   "id": "better-trail",
   "metadata": {},
   "source": [
    "Although we were able to achieve high recall scores (>0.8 in the second case) these were at the expence of a *very poor* precision score. \n",
    "\n",
    "Specifically, from those transactions classified as fraudulent, only $3\\%$ are actually fraudulent.\n"
   ]
  },
  {
   "cell_type": "markdown",
   "id": "alternate-monkey",
   "metadata": {},
   "source": [
    "### Beyond the baseline model: Feature engineering\n",
    "\n",
    "The results are rather poor, especially on the precision score.\n",
    "\n",
    "We can try to improve them by engineering some (hopefully) informative features.\n",
    "\n",
    "I will add the following two features now:\n",
    "\n",
    "- Transaction amount outlier score: `AmountOut`: transaction amount/average transaction amount up to that point\n",
    "\n",
    "This tell us if a transaction is larger (or smaller) than the average transaction the customer has made up to that transaction. I believe that this can be informative, since if there if the amount of a transaction is significantly higher than what the customer usually makes, it can be an indication of fraud.\n",
    "\n",
    "\n",
    "- Mean transaction cumulative amount.\n",
    "\n",
    "Just the average amount a customer has spent up to the time of a given transaction."
   ]
  },
  {
   "cell_type": "code",
   "execution_count": 142,
   "id": "junior-reliance",
   "metadata": {},
   "outputs": [],
   "source": [
    "# Cumulative number of transactions \n",
    "cum_counts = trans_df.groupby(['customerId']).cumcount()+1  \n",
    "# Average transaction amount\n",
    "cum_trans_amount = trans_df.groupby(['customerId']).cumsum().transactionAmount \n",
    "mean_trans_amount = cum_trans_amount/cum_counts\n",
    "# In some cases it can be equal to zero, make it 1\n",
    "mean_trans_amount[mean_trans_amount==0] = 1 \n",
    "\n",
    "e_df['meanAmount'] = mean_trans_amount.apply(np.log10)\n",
    "e_df['AmountOut']= trans_df.transactionAmount/mean_trans_amount"
   ]
  },
  {
   "cell_type": "markdown",
   "id": "grateful-albuquerque",
   "metadata": {},
   "source": [
    "- Past fraud\n",
    "\n",
    "I am not sure if we can have access to past fraudulent transactions from a card as a predictor, but if so, this can be a strong predictor of future fraud.\n",
    "\n",
    "So in this feature I consider the number of past fraudulent transactions of a credit card holder.\n",
    "To make things more realistic I consider a **lag**. Specifically, I assume that Capital One may be able to check if a transaction is fraudulent or not in a period of a day. So when deploying the model, we will not the fraud \"labels\" of all the transaction up to ~1 day from a fraudulent transaction.\n",
    "\n",
    "To make the generation of simple, instead of the more careful treatment of time differences, I just count the number of frauds up to 10 transactions before the current one."
   ]
  },
  {
   "cell_type": "code",
   "execution_count": 143,
   "id": "accepted-monaco",
   "metadata": {},
   "outputs": [],
   "source": [
    "past_fraud_count = trans_df.groupby(['customerId']).cumsum().isFraud.shift(+10).fillna(0)\n",
    "past_fraud_count\n",
    "e_df['avg_fraud'] = past_fraud_count#/cum_counts"
   ]
  },
  {
   "cell_type": "markdown",
   "id": "finite-strategy",
   "metadata": {},
   "source": [
    "**Get new feature matrix, standardize and split (train-validation-test sets), and then resample (balance) the training set**\n",
    "\n",
    "\n",
    "Index \"n\" denotes \"new\""
   ]
  },
  {
   "cell_type": "code",
   "execution_count": 144,
   "id": "intensive-container",
   "metadata": {},
   "outputs": [],
   "source": [
    "# Get new feature matrix values\n",
    "mat_values_new = e_df.values\n",
    "# Split and standardize into training-validation-test sets\n",
    "X_train_n, X_val_n, X_test_n, y_train_n, y_val_n, y_test_n = dataset_split_scale(mat_values_new,y_target)"
   ]
  },
  {
   "cell_type": "code",
   "execution_count": 145,
   "id": "focused-lloyd",
   "metadata": {},
   "outputs": [],
   "source": [
    "# Resample training set\n",
    "X_tr_res_n, y_tr_res_n = pipeline_res.fit_resample(X_train_n,y_train_n)"
   ]
  },
  {
   "cell_type": "markdown",
   "id": "tight-colombia",
   "metadata": {},
   "source": [
    "**Fit a new logistic regression classifier**"
   ]
  },
  {
   "cell_type": "code",
   "execution_count": 146,
   "id": "combined-twins",
   "metadata": {},
   "outputs": [],
   "source": [
    "# Define\n",
    "cls_LR_n = LogisticRegression(max_iter=1000,C=1.0,random_state=42)\n",
    "# Fit\n",
    "cls_LR_n.fit(X_tr_res_n,y_tr_res_n)\n",
    "# Predict on the test set\n",
    "y_pred_LR_n = cls_LR_n.predict(X_test_n)"
   ]
  },
  {
   "cell_type": "code",
   "execution_count": 147,
   "id": "associate-immigration",
   "metadata": {},
   "outputs": [
    {
     "data": {
      "image/png": "[encoded data removed]",
      "text/plain": [
       "<Figure size 432x432 with 1 Axes>"
      ]
     },
     "metadata": {
      "needs_background": "light"
     },
     "output_type": "display_data"
    }
   ],
   "source": [
    "# Plot confusion matrix\n",
    "plot_confusion(y_test_n,y_pred_LR_n)"
   ]
  },
  {
   "cell_type": "code",
   "execution_count": 148,
   "id": "proper-boost",
   "metadata": {},
   "outputs": [
    {
     "name": "stdout",
     "output_type": "stream",
     "text": [
      "Recall, Logistic Regression new: 0.7125603864734299\n",
      "Precision, Logistic Regression new: 0.031289775137887145\n",
      "F1 score, Logistic Regression new: 0.05994716521032311\n"
     ]
    }
   ],
   "source": [
    "print('Recall, Logistic Regression new:',recall_score(y_test_n,y_pred_LR_n))\n",
    "print('Precision, Logistic Regression new:',precision_score(y_test_n,y_pred_LR_n))\n",
    "print('F1 score, Logistic Regression new:',f1_score(y_test_n,y_pred_LR_n))"
   ]
  },
  {
   "cell_type": "markdown",
   "id": "prescribed-discipline",
   "metadata": {},
   "source": [
    "**Results by setting the probability threshold to $p>0.4$**"
   ]
  },
  {
   "cell_type": "code",
   "execution_count": 149,
   "id": "embedded-advocate",
   "metadata": {},
   "outputs": [
    {
     "data": {
      "image/png": "[encoded data removed]",
      "text/plain": [
       "<Figure size 432x432 with 1 Axes>"
      ]
     },
     "metadata": {
      "needs_background": "light"
     },
     "output_type": "display_data"
    }
   ],
   "source": [
    "y_proba_n = cls_LR_n.predict_proba(X_test_n)[:,1]\n",
    "y_bin_n = np.zeros(len(y_proba_n))\n",
    "y_bin_n[y_proba_n>0.4] = 1.0\n",
    "plot_confusion(y_test_n,y_bin_n,'Logistic Regression, new features, $p>0.4$')"
   ]
  },
  {
   "cell_type": "code",
   "execution_count": 150,
   "id": "pacific-binary",
   "metadata": {},
   "outputs": [
    {
     "name": "stdout",
     "output_type": "stream",
     "text": [
      "Recall, Logistic Regression new: 0.8309178743961353\n",
      "Precision, Logistic Regression new: 0.025246471120679112\n",
      "F1 score, Logistic Regression new: 0.049004012440941144\n"
     ]
    }
   ],
   "source": [
    "print('Recall, Logistic Regression new:',recall_score(y_test_n,y_bin_n))\n",
    "print('Precision, Logistic Regression new:',precision_score(y_test_n,y_bin_n))\n",
    "print('F1 score, Logistic Regression new:',f1_score(y_test_n,y_bin_n))"
   ]
  },
  {
   "cell_type": "markdown",
   "id": "other-rwanda",
   "metadata": {},
   "source": [
    "**Results by setting the probability threshold to $p>0.6$**"
   ]
  },
  {
   "cell_type": "code",
   "execution_count": 151,
   "id": "casual-string",
   "metadata": {},
   "outputs": [
    {
     "data": {
      "image/png": "[encoded data removed]",
      "text/plain": [
       "<Figure size 432x432 with 1 Axes>"
      ]
     },
     "metadata": {
      "needs_background": "light"
     },
     "output_type": "display_data"
    }
   ],
   "source": [
    "y_proba_n = cls_LR_n.predict_proba(X_test_n)[:,1]\n",
    "y_bin_n = np.zeros(len(y_proba_n))\n",
    "y_bin_n[y_proba_n>0.6] = 1.0\n",
    "plot_confusion(y_test_n,y_bin_n,'Logistic Regression, new features, $p>0.6$')"
   ]
  },
  {
   "cell_type": "code",
   "execution_count": 152,
   "id": "expected-douglas",
   "metadata": {},
   "outputs": [
    {
     "name": "stdout",
     "output_type": "stream",
     "text": [
      "Recall, Logistic Regression new: 0.5539452495974235\n",
      "Precision, Logistic Regression new: 0.04161122535381638\n",
      "F1 score, Logistic Regression new: 0.07740774077407742\n"
     ]
    }
   ],
   "source": [
    "print('Recall, Logistic Regression new:',recall_score(y_test_n,y_bin_n))\n",
    "print('Precision, Logistic Regression new:',precision_score(y_test_n,y_bin_n))\n",
    "print('F1 score, Logistic Regression new:',f1_score(y_test_n,y_bin_n))"
   ]
  },
  {
   "cell_type": "markdown",
   "id": "advised-appreciation",
   "metadata": {},
   "source": [
    "**Summarize results**"
   ]
  },
  {
   "cell_type": "markdown",
   "id": "encouraging-radar",
   "metadata": {},
   "source": [
    "| Model       || Precision   |      Recall   |  \n",
    "| :---:       ||    :----:   |         :---: |    \n",
    "| Log. Regression      || 0.031       | 0.712  |          \n",
    "| Log. Regression (p>0.4)   || 0.025        | 0.831      | \n",
    "| Log. Regression (p>0.6)   || 0.041       | 0.554      | \n",
    "\n",
    "\n",
    "**Surprisingly, the results have been only marginally better than before, adding those new features I described above.**"
   ]
  },
  {
   "cell_type": "markdown",
   "id": "greater-atlas",
   "metadata": {},
   "source": [
    "### Finally, let's train a random forrest classifier, just to get the feature importances"
   ]
  },
  {
   "cell_type": "code",
   "execution_count": 153,
   "id": "equivalent-thirty",
   "metadata": {},
   "outputs": [],
   "source": [
    "RF_clf = RandomForestClassifier(n_estimators=150,min_samples_split=2,random_state=0)\n",
    "RF_clf.fit(X_tr_res_n,y_tr_res_n)\n",
    "y_pred_RF = RF_clf.predict(X_test_n)"
   ]
  },
  {
   "cell_type": "markdown",
   "id": "lasting-parameter",
   "metadata": {},
   "source": [
    "Let's plot the 10 most important features"
   ]
  },
  {
   "cell_type": "code",
   "execution_count": 169,
   "id": "beneficial-arrow",
   "metadata": {},
   "outputs": [
    {
     "data": {
      "image/png": "[encoded data removed]",
      "text/plain": [
       "<Figure size 648x504 with 1 Axes>"
      ]
     },
     "metadata": {},
     "output_type": "display_data"
    }
   ],
   "source": [
    "sns.set_style(\"whitegrid\")\n",
    "# Get labels of features\n",
    "feat_labels = e_df.columns\n",
    "feat_labels = np.asarray(feat_labels)\n",
    "#print(feat_labels)\n",
    "\n",
    "\n",
    "importances = RF_clf.feature_importances_\n",
    "indices = np.argsort(importances)[::-1]\n",
    "# Let's order now the feature labels based on their importances\n",
    "ft_labels_ord = feat_labels[indices]\n",
    "\n",
    "# Keep the 10 most important of them\n",
    "import_sorted = importances[indices]\n",
    "import_10 = import_sorted[:10]\n",
    "ft_lab_10 = ft_labels_ord[:10]\n",
    "\n",
    "# Define them manually because a broblem with latex\n",
    "ft_lab_10 = ['avgFraud','AmountOut','transactionAmount','meanAmount','currentBalance', \n",
    "             'availableMoney','creditLimit','posEntryMode 05', 'cardPresent','posEntryMode 09']\n",
    "\n",
    "\n",
    "plt.figure(figsize=(9,7))\n",
    "plt.title(\"Feature importances of the 10 most important features \",fontsize=12)\n",
    "plt.barh(range(10), import_10,\n",
    "       color=\"lightcoral\",  align=\"center\")\n",
    "plt.yticks(range(10), ft_lab_10,fontsize=16, rotation=30)\n",
    "plt.ylim([10,-1])\n",
    "\n",
    "plt.ylabel('Feature',fontsize=14)\n",
    "plt.xlabel('Importance',fontsize=13)\n",
    "plt.show()"
   ]
  },
  {
   "cell_type": "markdown",
   "id": "excess-seeker",
   "metadata": {},
   "source": [
    "As expected, the most informative features *are* those generated, like the average past fraud, and the ratio of a transaction amount over the average past transactions."
   ]
  },
  {
   "cell_type": "markdown",
   "id": "biological-alliance",
   "metadata": {},
   "source": [
    "## Final conclusions and what I would do if I had more time \n",
    "\n",
    "In this part I built predictive model to determine whether a given transaction will be fraudulent or not.\n",
    "\n",
    "I was able to achieve a recall score of $\\sim 0.8$ but with very poor precision scores.\n",
    "\n",
    "In other words, although the classifier is able to find and correctly classify as fraudulent the majority of fraudulent transactions, but at the expense of a very large number of false positives (normal transactions classified as fraudulent).\n",
    "\n",
    "Despite that we would certainly want to build a better classifier, even these results can add value to Capital One when trying to track fradulent transactions.\n",
    "\n",
    "For example, we can assume that this classifier can be the first step in a more detailed analysis, it can reduce the number of transactions that need to be checked by half, while being sure that we miss less than $20\\%$ of the fraudulent transaction.\n",
    "\n",
    "\n",
    "\n",
    "What I would do to improve results:\n",
    "\n",
    "**Feature Engineering**\n",
    "\n",
    "Having more time I would try to generate more informative features. Some of them could be:\n",
    "\n",
    "- Number of transactions over a time window. \n",
    "\n",
    "- Amount of transactions over a past time window.\n",
    "\n",
    "- Infrequent merchant numbers/ customer makes a transaction from a new merchant\n",
    "\n",
    "- amount of transaction / average amount of transaction in category.\n",
    "\n",
    "**Test different classifiers and hyperparamter tuning**\n",
    "\n",
    "- I would test different classifiers (XGboost, SVMs, maybe a simple neural network) with more careful hyperparameter tuning.\n",
    "\n",
    "- Check correlation between features and remove the most highly correlated.\n",
    "\n",
    "\n",
    "**Anomaly detection algorithms**\n",
    "\n",
    "I am not expert on this class of algorithms, but since the \"fraud\" class is a fraction of all transactions, it can be treated as an \"anomaly\"\n",
    "\n"
   ]
  }
 ],
 "metadata": {
  "kernelspec": {
   "display_name": "Python 3",
   "language": "python",
   "name": "python3"
  },
  "language_info": {
   "codemirror_mode": {
    "name": "ipython",
    "version": 3
   },
   "file_extension": ".py",
   "mimetype": "text/x-python",
   "name": "python",
   "nbconvert_exporter": "python",
   "pygments_lexer": "ipython3",
   "version": "3.9.1"
  }
 },
 "nbformat": 4,
 "nbformat_minor": 5
}
