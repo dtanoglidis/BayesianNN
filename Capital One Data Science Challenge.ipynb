{
 "cells": [
  {
   "cell_type": "markdown",
   "id": "controlled-council",
   "metadata": {},
   "source": [
    "\n",
    "**Data Science Challenge: Card Transactions!**\n",
    "\n",
    "\n",
    "\n",
    "In the following cell we import all the python packages we are going to need for our analysis. \n",
    "It is better to have them organized in the first cell."
   ]
  },
  {
   "cell_type": "markdown",
   "id": "stone-advance",
   "metadata": {},
   "source": [
    "**Requirements**"
   ]
  },
  {
   "cell_type": "code",
   "execution_count": null,
   "id": "prospective-creator",
   "metadata": {},
   "outputs": [],
   "source": []
  },
  {
   "cell_type": "code",
   "execution_count": 813,
   "id": "sitting-alignment",
   "metadata": {},
   "outputs": [],
   "source": [
    "# Import basic packages\n",
    "import numpy as np\n",
    "import scipy as sp\n",
    "import pandas as pd\n",
    "\n",
    "from datetime import datetime\n",
    "\n",
    "# =====================================\n",
    "# scikit-learn and imbalanced-learn\n",
    "\n",
    "# Preprocessing etc\n",
    "from sklearn.preprocessing import LabelEncoder\n",
    "from sklearn.preprocessing import StandardScaler\n",
    "from sklearn.preprocessing import MinMaxScaler\n",
    "from sklearn.model_selection import train_test_split\n",
    "\n",
    "# Classifiers\n",
    "\n",
    "\n",
    "\n",
    "# Evaluation metrics\n",
    "from sklearn.metrics import confusion_matrix\n",
    "from sklearn.metrics import balanced_accuracy_score as bas\n",
    "from sklearn.metrics import accuracy_score\n",
    "from sklearn.metrics import precision_score\n",
    "from sklearn.metrics import recall_score\n",
    "from sklearn.metrics import f1_score\n",
    "\n",
    "# =====================================\n",
    "# Matplotlib, seaborn etc \n",
    "import matplotlib.pyplot as plt\n",
    "import matplotlib.gridspec as gridspec\n",
    "import seaborn as sns\n",
    "%matplotlib inline\n",
    "from matplotlib import rcParams\n",
    "rcParams['font.family'] = 'serif'\n",
    "\n",
    "# Adjust rc parameters to make plots pretty\n",
    "def plot_pretty(dpi=200, fontsize=9):\n",
    "    \n",
    "\n",
    "    plt.rc(\"savefig\", dpi=dpi)       # dpi resolution of saved image files\n",
    "    plt.rc('text', usetex=True)      # use LaTeX to process labels\n",
    "    plt.rc('font', size=fontsize)    # fontsize\n",
    "    plt.rc('xtick', direction='in')  # make axes ticks point inward\n",
    "    plt.rc('ytick', direction='in')\n",
    "    plt.rc('xtick.major', pad=10) \n",
    "    plt.rc('xtick.minor', pad=5)\n",
    "    plt.rc('ytick.major', pad=10) \n",
    "    plt.rc('ytick.minor', pad=5)\n",
    "    plt.rc('lines', dotted_pattern = [0.5, 1.1]) # fix dotted lines\n",
    "\n",
    "    return\n",
    "\n",
    "plot_pretty()\n",
    "\n",
    "# Define Capital One colors \n",
    "cap1_blue ='#004879'\n",
    "cap1_red = '#D22E1E'\n",
    "# ======================================"
   ]
  },
  {
   "cell_type": "markdown",
   "id": "hybrid-fluid",
   "metadata": {},
   "source": [
    "# Question: Load\n",
    "**Load and simple preprocessing**\n",
    "\n",
    "In the first part we load the data and perform some basic data preprocessing.\n",
    "\n",
    "## Load the dataset"
   ]
  },
  {
   "cell_type": "code",
   "execution_count": 859,
   "id": "measured-governor",
   "metadata": {},
   "outputs": [
    {
     "data": {
      "text/html": [
       "<div>\n",
       "<style scoped>\n",
       "    .dataframe tbody tr th:only-of-type {\n",
       "        vertical-align: middle;\n",
       "    }\n",
       "\n",
       "    .dataframe tbody tr th {\n",
       "        vertical-align: top;\n",
       "    }\n",
       "\n",
       "    .dataframe thead th {\n",
       "        text-align: right;\n",
       "    }\n",
       "</style>\n",
       "<table border=\"1\" class=\"dataframe\">\n",
       "  <thead>\n",
       "    <tr style=\"text-align: right;\">\n",
       "      <th></th>\n",
       "      <th>accountNumber</th>\n",
       "      <th>customerId</th>\n",
       "      <th>creditLimit</th>\n",
       "      <th>availableMoney</th>\n",
       "      <th>transactionDateTime</th>\n",
       "      <th>transactionAmount</th>\n",
       "      <th>merchantName</th>\n",
       "      <th>acqCountry</th>\n",
       "      <th>merchantCountryCode</th>\n",
       "      <th>posEntryMode</th>\n",
       "      <th>...</th>\n",
       "      <th>echoBuffer</th>\n",
       "      <th>currentBalance</th>\n",
       "      <th>merchantCity</th>\n",
       "      <th>merchantState</th>\n",
       "      <th>merchantZip</th>\n",
       "      <th>cardPresent</th>\n",
       "      <th>posOnPremises</th>\n",
       "      <th>recurringAuthInd</th>\n",
       "      <th>expirationDateKeyInMatch</th>\n",
       "      <th>isFraud</th>\n",
       "    </tr>\n",
       "  </thead>\n",
       "  <tbody>\n",
       "    <tr>\n",
       "      <th>0</th>\n",
       "      <td>737265056</td>\n",
       "      <td>737265056</td>\n",
       "      <td>5000</td>\n",
       "      <td>5000.0</td>\n",
       "      <td>2016-08-13T14:27:32</td>\n",
       "      <td>98.55</td>\n",
       "      <td>Uber</td>\n",
       "      <td>US</td>\n",
       "      <td>US</td>\n",
       "      <td>02</td>\n",
       "      <td>...</td>\n",
       "      <td>NaN</td>\n",
       "      <td>0.0</td>\n",
       "      <td>NaN</td>\n",
       "      <td>NaN</td>\n",
       "      <td>NaN</td>\n",
       "      <td>False</td>\n",
       "      <td>NaN</td>\n",
       "      <td>NaN</td>\n",
       "      <td>False</td>\n",
       "      <td>False</td>\n",
       "    </tr>\n",
       "    <tr>\n",
       "      <th>1</th>\n",
       "      <td>737265056</td>\n",
       "      <td>737265056</td>\n",
       "      <td>5000</td>\n",
       "      <td>5000.0</td>\n",
       "      <td>2016-10-11T05:05:54</td>\n",
       "      <td>74.51</td>\n",
       "      <td>AMC #191138</td>\n",
       "      <td>US</td>\n",
       "      <td>US</td>\n",
       "      <td>09</td>\n",
       "      <td>...</td>\n",
       "      <td>NaN</td>\n",
       "      <td>0.0</td>\n",
       "      <td>NaN</td>\n",
       "      <td>NaN</td>\n",
       "      <td>NaN</td>\n",
       "      <td>True</td>\n",
       "      <td>NaN</td>\n",
       "      <td>NaN</td>\n",
       "      <td>False</td>\n",
       "      <td>False</td>\n",
       "    </tr>\n",
       "    <tr>\n",
       "      <th>2</th>\n",
       "      <td>737265056</td>\n",
       "      <td>737265056</td>\n",
       "      <td>5000</td>\n",
       "      <td>5000.0</td>\n",
       "      <td>2016-11-08T09:18:39</td>\n",
       "      <td>7.47</td>\n",
       "      <td>Play Store</td>\n",
       "      <td>US</td>\n",
       "      <td>US</td>\n",
       "      <td>09</td>\n",
       "      <td>...</td>\n",
       "      <td>NaN</td>\n",
       "      <td>0.0</td>\n",
       "      <td>NaN</td>\n",
       "      <td>NaN</td>\n",
       "      <td>NaN</td>\n",
       "      <td>False</td>\n",
       "      <td>NaN</td>\n",
       "      <td>NaN</td>\n",
       "      <td>False</td>\n",
       "      <td>False</td>\n",
       "    </tr>\n",
       "    <tr>\n",
       "      <th>3</th>\n",
       "      <td>737265056</td>\n",
       "      <td>737265056</td>\n",
       "      <td>5000</td>\n",
       "      <td>5000.0</td>\n",
       "      <td>2016-12-10T02:14:50</td>\n",
       "      <td>7.47</td>\n",
       "      <td>Play Store</td>\n",
       "      <td>US</td>\n",
       "      <td>US</td>\n",
       "      <td>09</td>\n",
       "      <td>...</td>\n",
       "      <td>NaN</td>\n",
       "      <td>0.0</td>\n",
       "      <td>NaN</td>\n",
       "      <td>NaN</td>\n",
       "      <td>NaN</td>\n",
       "      <td>False</td>\n",
       "      <td>NaN</td>\n",
       "      <td>NaN</td>\n",
       "      <td>False</td>\n",
       "      <td>False</td>\n",
       "    </tr>\n",
       "    <tr>\n",
       "      <th>4</th>\n",
       "      <td>830329091</td>\n",
       "      <td>830329091</td>\n",
       "      <td>5000</td>\n",
       "      <td>5000.0</td>\n",
       "      <td>2016-03-24T21:04:46</td>\n",
       "      <td>71.18</td>\n",
       "      <td>Tim Hortons #947751</td>\n",
       "      <td>US</td>\n",
       "      <td>US</td>\n",
       "      <td>02</td>\n",
       "      <td>...</td>\n",
       "      <td>NaN</td>\n",
       "      <td>0.0</td>\n",
       "      <td>NaN</td>\n",
       "      <td>NaN</td>\n",
       "      <td>NaN</td>\n",
       "      <td>True</td>\n",
       "      <td>NaN</td>\n",
       "      <td>NaN</td>\n",
       "      <td>False</td>\n",
       "      <td>False</td>\n",
       "    </tr>\n",
       "  </tbody>\n",
       "</table>\n",
       "<p>5 rows × 29 columns</p>\n",
       "</div>"
      ],
      "text/plain": [
       "   accountNumber  customerId  creditLimit  availableMoney  \\\n",
       "0      737265056   737265056         5000          5000.0   \n",
       "1      737265056   737265056         5000          5000.0   \n",
       "2      737265056   737265056         5000          5000.0   \n",
       "3      737265056   737265056         5000          5000.0   \n",
       "4      830329091   830329091         5000          5000.0   \n",
       "\n",
       "   transactionDateTime  transactionAmount         merchantName acqCountry  \\\n",
       "0  2016-08-13T14:27:32              98.55                 Uber         US   \n",
       "1  2016-10-11T05:05:54              74.51          AMC #191138         US   \n",
       "2  2016-11-08T09:18:39               7.47           Play Store         US   \n",
       "3  2016-12-10T02:14:50               7.47           Play Store         US   \n",
       "4  2016-03-24T21:04:46              71.18  Tim Hortons #947751         US   \n",
       "\n",
       "  merchantCountryCode posEntryMode  ... echoBuffer currentBalance  \\\n",
       "0                  US           02  ...        NaN            0.0   \n",
       "1                  US           09  ...        NaN            0.0   \n",
       "2                  US           09  ...        NaN            0.0   \n",
       "3                  US           09  ...        NaN            0.0   \n",
       "4                  US           02  ...        NaN            0.0   \n",
       "\n",
       "  merchantCity merchantState merchantZip  cardPresent  posOnPremises  \\\n",
       "0          NaN           NaN         NaN        False            NaN   \n",
       "1          NaN           NaN         NaN         True            NaN   \n",
       "2          NaN           NaN         NaN        False            NaN   \n",
       "3          NaN           NaN         NaN        False            NaN   \n",
       "4          NaN           NaN         NaN         True            NaN   \n",
       "\n",
       "   recurringAuthInd expirationDateKeyInMatch  isFraud  \n",
       "0               NaN                    False    False  \n",
       "1               NaN                    False    False  \n",
       "2               NaN                    False    False  \n",
       "3               NaN                    False    False  \n",
       "4               NaN                    False    False  \n",
       "\n",
       "[5 rows x 29 columns]"
      ]
     },
     "execution_count": 859,
     "metadata": {},
     "output_type": "execute_result"
    }
   ],
   "source": [
    "# Load the file, which is line-delimited JSON format \n",
    "# Convert it into a pandas dataframe\n",
    "trans_df = pd.read_json('transactions.txt', lines=True)\n",
    "# Some of the missing values are in form of \"\" delimeters, replace with nan\n",
    "trans_df.replace('', np.nan, inplace=True)\n",
    "\n",
    "# Let us check the first few values\n",
    "trans_df.head()"
   ]
  },
  {
   "cell_type": "markdown",
   "id": "helpful-absolute",
   "metadata": {},
   "source": [
    "**Let's get the names of the columns**"
   ]
  },
  {
   "cell_type": "code",
   "execution_count": 10,
   "id": "special-lawyer",
   "metadata": {},
   "outputs": [
    {
     "data": {
      "text/plain": [
       "Index(['accountNumber', 'customerId', 'creditLimit', 'availableMoney',\n",
       "       'transactionDateTime', 'transactionAmount', 'merchantName',\n",
       "       'acqCountry', 'merchantCountryCode', 'posEntryMode', 'posConditionCode',\n",
       "       'merchantCategoryCode', 'currentExpDate', 'accountOpenDate',\n",
       "       'dateOfLastAddressChange', 'cardCVV', 'enteredCVV', 'cardLast4Digits',\n",
       "       'transactionType', 'echoBuffer', 'currentBalance', 'merchantCity',\n",
       "       'merchantState', 'merchantZip', 'cardPresent', 'posOnPremises',\n",
       "       'recurringAuthInd', 'expirationDateKeyInMatch', 'isFraud'],\n",
       "      dtype='object')"
      ]
     },
     "execution_count": 10,
     "metadata": {},
     "output_type": "execute_result"
    }
   ],
   "source": [
    "trans_df.columns"
   ]
  },
  {
   "cell_type": "markdown",
   "id": "durable-nirvana",
   "metadata": {},
   "source": [
    "**Get some general information about non-null count and data type**"
   ]
  },
  {
   "cell_type": "code",
   "execution_count": 29,
   "id": "portuguese-apple",
   "metadata": {},
   "outputs": [
    {
     "name": "stdout",
     "output_type": "stream",
     "text": [
      "<class 'pandas.core.frame.DataFrame'>\n",
      "RangeIndex: 786363 entries, 0 to 786362\n",
      "Data columns (total 29 columns):\n",
      " #   Column                    Non-Null Count   Dtype  \n",
      "---  ------                    --------------   -----  \n",
      " 0   accountNumber             786363 non-null  int64  \n",
      " 1   customerId                786363 non-null  int64  \n",
      " 2   creditLimit               786363 non-null  int64  \n",
      " 3   availableMoney            786363 non-null  float64\n",
      " 4   transactionDateTime       786363 non-null  object \n",
      " 5   transactionAmount         786363 non-null  float64\n",
      " 6   merchantName              786363 non-null  object \n",
      " 7   acqCountry                781801 non-null  object \n",
      " 8   merchantCountryCode       785639 non-null  object \n",
      " 9   posEntryMode              782309 non-null  object \n",
      " 10  posConditionCode          785954 non-null  object \n",
      " 11  merchantCategoryCode      786363 non-null  object \n",
      " 12  currentExpDate            786363 non-null  object \n",
      " 13  accountOpenDate           786363 non-null  object \n",
      " 14  dateOfLastAddressChange   786363 non-null  object \n",
      " 15  cardCVV                   786363 non-null  int64  \n",
      " 16  enteredCVV                786363 non-null  int64  \n",
      " 17  cardLast4Digits           786363 non-null  int64  \n",
      " 18  transactionType           785665 non-null  object \n",
      " 19  echoBuffer                0 non-null       float64\n",
      " 20  currentBalance            786363 non-null  float64\n",
      " 21  merchantCity              0 non-null       float64\n",
      " 22  merchantState             0 non-null       float64\n",
      " 23  merchantZip               0 non-null       float64\n",
      " 24  cardPresent               786363 non-null  bool   \n",
      " 25  posOnPremises             0 non-null       float64\n",
      " 26  recurringAuthInd          0 non-null       float64\n",
      " 27  expirationDateKeyInMatch  786363 non-null  bool   \n",
      " 28  isFraud                   786363 non-null  bool   \n",
      "dtypes: bool(3), float64(9), int64(6), object(11)\n",
      "memory usage: 158.2+ MB\n"
     ]
    }
   ],
   "source": [
    "trans_df.info()"
   ]
  },
  {
   "cell_type": "markdown",
   "id": "victorian-reality",
   "metadata": {},
   "source": [
    "**Drop columns that have only null values**"
   ]
  },
  {
   "cell_type": "code",
   "execution_count": 860,
   "id": "finite-sally",
   "metadata": {},
   "outputs": [],
   "source": [
    "trans_df.drop(['echoBuffer','merchantCity','merchantState','merchantZip','posOnPremises','recurringAuthInd'], axis=1, inplace=True)"
   ]
  },
  {
   "cell_type": "code",
   "execution_count": null,
   "id": "modern-inside",
   "metadata": {},
   "outputs": [],
   "source": [
    "print(trans_df)"
   ]
  },
  {
   "cell_type": "markdown",
   "id": "classified-output",
   "metadata": {},
   "source": [
    "## Description of the structure of the data\n",
    "\n",
    "The dataset consists of 786363 entries (number of records) and a total number of 28 fields for each record. We found above that 6 fields are totally empty, so we drop them.\n",
    "Finally, we have 786363 entries and 22 non-null fields."
   ]
  },
  {
   "cell_type": "markdown",
   "id": "nuclear-simpson",
   "metadata": {},
   "source": [
    "## Description and summary statistics for the fields in the dataset\n",
    "\n",
    "We can apply the `describe()` pandas method to our dataset."
   ]
  },
  {
   "cell_type": "code",
   "execution_count": 131,
   "id": "quarterly-crazy",
   "metadata": {},
   "outputs": [
    {
     "data": {
      "text/html": [
       "<div>\n",
       "<style scoped>\n",
       "    .dataframe tbody tr th:only-of-type {\n",
       "        vertical-align: middle;\n",
       "    }\n",
       "\n",
       "    .dataframe tbody tr th {\n",
       "        vertical-align: top;\n",
       "    }\n",
       "\n",
       "    .dataframe thead th {\n",
       "        text-align: right;\n",
       "    }\n",
       "</style>\n",
       "<table border=\"1\" class=\"dataframe\">\n",
       "  <thead>\n",
       "    <tr style=\"text-align: right;\">\n",
       "      <th></th>\n",
       "      <th>accountNumber</th>\n",
       "      <th>customerId</th>\n",
       "      <th>creditLimit</th>\n",
       "      <th>availableMoney</th>\n",
       "      <th>transactionAmount</th>\n",
       "      <th>cardCVV</th>\n",
       "      <th>enteredCVV</th>\n",
       "      <th>cardLast4Digits</th>\n",
       "      <th>currentBalance</th>\n",
       "    </tr>\n",
       "  </thead>\n",
       "  <tbody>\n",
       "    <tr>\n",
       "      <th>count</th>\n",
       "      <td>7.863630e+05</td>\n",
       "      <td>7.863630e+05</td>\n",
       "      <td>786363.000000</td>\n",
       "      <td>786363.000000</td>\n",
       "      <td>786363.000000</td>\n",
       "      <td>786363.000000</td>\n",
       "      <td>786363.000000</td>\n",
       "      <td>786363.000000</td>\n",
       "      <td>786363.000000</td>\n",
       "    </tr>\n",
       "    <tr>\n",
       "      <th>mean</th>\n",
       "      <td>5.372326e+08</td>\n",
       "      <td>5.372326e+08</td>\n",
       "      <td>10759.464459</td>\n",
       "      <td>6250.725369</td>\n",
       "      <td>136.985791</td>\n",
       "      <td>544.467338</td>\n",
       "      <td>544.183857</td>\n",
       "      <td>4757.417799</td>\n",
       "      <td>4508.739089</td>\n",
       "    </tr>\n",
       "    <tr>\n",
       "      <th>std</th>\n",
       "      <td>2.554211e+08</td>\n",
       "      <td>2.554211e+08</td>\n",
       "      <td>11636.174890</td>\n",
       "      <td>8880.783989</td>\n",
       "      <td>147.725569</td>\n",
       "      <td>261.524220</td>\n",
       "      <td>261.551254</td>\n",
       "      <td>2996.583810</td>\n",
       "      <td>6457.442068</td>\n",
       "    </tr>\n",
       "    <tr>\n",
       "      <th>min</th>\n",
       "      <td>1.000881e+08</td>\n",
       "      <td>1.000881e+08</td>\n",
       "      <td>250.000000</td>\n",
       "      <td>-1005.630000</td>\n",
       "      <td>0.000000</td>\n",
       "      <td>100.000000</td>\n",
       "      <td>0.000000</td>\n",
       "      <td>0.000000</td>\n",
       "      <td>0.000000</td>\n",
       "    </tr>\n",
       "    <tr>\n",
       "      <th>25%</th>\n",
       "      <td>3.301333e+08</td>\n",
       "      <td>3.301333e+08</td>\n",
       "      <td>5000.000000</td>\n",
       "      <td>1077.420000</td>\n",
       "      <td>33.650000</td>\n",
       "      <td>310.000000</td>\n",
       "      <td>310.000000</td>\n",
       "      <td>2178.000000</td>\n",
       "      <td>689.910000</td>\n",
       "    </tr>\n",
       "    <tr>\n",
       "      <th>50%</th>\n",
       "      <td>5.074561e+08</td>\n",
       "      <td>5.074561e+08</td>\n",
       "      <td>7500.000000</td>\n",
       "      <td>3184.860000</td>\n",
       "      <td>87.900000</td>\n",
       "      <td>535.000000</td>\n",
       "      <td>535.000000</td>\n",
       "      <td>4733.000000</td>\n",
       "      <td>2451.760000</td>\n",
       "    </tr>\n",
       "    <tr>\n",
       "      <th>75%</th>\n",
       "      <td>7.676200e+08</td>\n",
       "      <td>7.676200e+08</td>\n",
       "      <td>15000.000000</td>\n",
       "      <td>7500.000000</td>\n",
       "      <td>191.480000</td>\n",
       "      <td>785.000000</td>\n",
       "      <td>785.000000</td>\n",
       "      <td>7338.000000</td>\n",
       "      <td>5291.095000</td>\n",
       "    </tr>\n",
       "    <tr>\n",
       "      <th>max</th>\n",
       "      <td>9.993896e+08</td>\n",
       "      <td>9.993896e+08</td>\n",
       "      <td>50000.000000</td>\n",
       "      <td>50000.000000</td>\n",
       "      <td>2011.540000</td>\n",
       "      <td>998.000000</td>\n",
       "      <td>998.000000</td>\n",
       "      <td>9998.000000</td>\n",
       "      <td>47498.810000</td>\n",
       "    </tr>\n",
       "  </tbody>\n",
       "</table>\n",
       "</div>"
      ],
      "text/plain": [
       "       accountNumber    customerId    creditLimit  availableMoney  \\\n",
       "count   7.863630e+05  7.863630e+05  786363.000000   786363.000000   \n",
       "mean    5.372326e+08  5.372326e+08   10759.464459     6250.725369   \n",
       "std     2.554211e+08  2.554211e+08   11636.174890     8880.783989   \n",
       "min     1.000881e+08  1.000881e+08     250.000000    -1005.630000   \n",
       "25%     3.301333e+08  3.301333e+08    5000.000000     1077.420000   \n",
       "50%     5.074561e+08  5.074561e+08    7500.000000     3184.860000   \n",
       "75%     7.676200e+08  7.676200e+08   15000.000000     7500.000000   \n",
       "max     9.993896e+08  9.993896e+08   50000.000000    50000.000000   \n",
       "\n",
       "       transactionAmount        cardCVV     enteredCVV  cardLast4Digits  \\\n",
       "count      786363.000000  786363.000000  786363.000000    786363.000000   \n",
       "mean          136.985791     544.467338     544.183857      4757.417799   \n",
       "std           147.725569     261.524220     261.551254      2996.583810   \n",
       "min             0.000000     100.000000       0.000000         0.000000   \n",
       "25%            33.650000     310.000000     310.000000      2178.000000   \n",
       "50%            87.900000     535.000000     535.000000      4733.000000   \n",
       "75%           191.480000     785.000000     785.000000      7338.000000   \n",
       "max          2011.540000     998.000000     998.000000      9998.000000   \n",
       "\n",
       "       currentBalance  \n",
       "count   786363.000000  \n",
       "mean      4508.739089  \n",
       "std       6457.442068  \n",
       "min          0.000000  \n",
       "25%        689.910000  \n",
       "50%       2451.760000  \n",
       "75%       5291.095000  \n",
       "max      47498.810000  "
      ]
     },
     "execution_count": 131,
     "metadata": {},
     "output_type": "execute_result"
    }
   ],
   "source": [
    "trans_df.describe()"
   ]
  },
  {
   "cell_type": "markdown",
   "id": "collect-weekend",
   "metadata": {},
   "source": [
    "So, let us try to describe each one of the fields in the dataset with the appropriate metrics.\n",
    "\n",
    "Let us check one-by-one some of the most important columns/fields.\n",
    "**If you want a quick reference of the statistics of the dataset, you can skip the detailed analysis below and check directly the \"quick summary statistics for reference\" section.**\n",
    "\n",
    "- `accountNumber`: This field contains the account numbers for each transaction.  Let us check for NaN values and number of entries (unique accounts)."
   ]
  },
  {
   "cell_type": "code",
   "execution_count": 133,
   "id": "composed-advancement",
   "metadata": {},
   "outputs": [
    {
     "name": "stdout",
     "output_type": "stream",
     "text": [
      "Null values, accountNumber: 0\n"
     ]
    }
   ],
   "source": [
    "print('Null values, accountNumber:',trans_df['accountNumber'].isna().sum())"
   ]
  },
  {
   "cell_type": "markdown",
   "id": "flexible-hawaii",
   "metadata": {},
   "source": [
    "Great, we have zero null values. Let us check for unique values."
   ]
  },
  {
   "cell_type": "code",
   "execution_count": 142,
   "id": "federal-darwin",
   "metadata": {},
   "outputs": [
    {
     "name": "stdout",
     "output_type": "stream",
     "text": [
      "Unique values, accountNumber: 5000\n"
     ]
    }
   ],
   "source": [
    "print('Unique values, accountNumber:',trans_df['accountNumber'].nunique())"
   ]
  },
  {
   "cell_type": "markdown",
   "id": "centered-acrobat",
   "metadata": {},
   "source": [
    "We have 5000 different account numbers in our dataset. I am curious if some of them dominate the transaction numbers in the dataset. For that reason, let's plot the frequency (make a histogram) of unique account numbers. "
   ]
  },
  {
   "cell_type": "code",
   "execution_count": 520,
   "id": "muslim-serve",
   "metadata": {},
   "outputs": [
    {
     "data": {
      "image/png": "[encoded data removed]",
      "text/plain": [
       "<Figure size 432x360 with 1 Axes>"
      ]
     },
     "metadata": {
      "needs_background": "light"
     },
     "output_type": "display_data"
    }
   ],
   "source": [
    "Unique_acNumbers = trans_df['accountNumber'].value_counts(normalize=False).values\n",
    "\n",
    "# Make a plot \n",
    "plt.figure(figsize=(6,5))\n",
    "\n",
    "plt.hist(Unique_acNumbers[Unique_acNumbers<1000],color=cap1_blue, bins=30)\n",
    "plt.grid(ls='--',alpha=0.6)\n",
    "plt.title('Frequency of transactions per account',fontsize=15)\n",
    "plt.xticks(fontsize=16);plt.yticks(fontsize=16)\n",
    "plt.xlabel('No. of transactions', fontsize=15);plt.ylabel('No. of accounts', fontsize=15)\n",
    "plt.show()"
   ]
  },
  {
   "cell_type": "markdown",
   "id": "foreign-limitation",
   "metadata": {},
   "source": [
    "We see that the the majority of accounts have a small number of transactions ($<100$), with a small number of accounts having many transactions ($>1000$). It is something that is good to have in mind in future investigations."
   ]
  },
  {
   "cell_type": "markdown",
   "id": "disturbed-dragon",
   "metadata": {},
   "source": [
    "- `customerId`\n",
    "\n",
    "This field seems to be the same as acount number. Let's confirm that."
   ]
  },
  {
   "cell_type": "code",
   "execution_count": 775,
   "id": "blocked-jordan",
   "metadata": {},
   "outputs": [
    {
     "name": "stdout",
     "output_type": "stream",
     "text": [
      "0\n"
     ]
    }
   ],
   "source": [
    "print((trans_df['accountNumber'] - trans_df['customerId']).sum())"
   ]
  },
  {
   "cell_type": "markdown",
   "id": "trying-wound",
   "metadata": {},
   "source": [
    "- `transactionDateTime`\n",
    "\n",
    "Let's convert this column to datetime, for future ease"
   ]
  },
  {
   "cell_type": "code",
   "execution_count": 250,
   "id": "premier-console",
   "metadata": {},
   "outputs": [],
   "source": [
    "trans_df['transactionDateTime'] = pd.to_datetime(trans_df['transactionDateTime'],infer_datetime_format=True)"
   ]
  },
  {
   "cell_type": "code",
   "execution_count": null,
   "id": "general-introduction",
   "metadata": {},
   "outputs": [],
   "source": []
  },
  {
   "cell_type": "markdown",
   "id": "spatial-peeing",
   "metadata": {},
   "source": [
    "### Quick summary statistics for reference."
   ]
  },
  {
   "cell_type": "markdown",
   "id": "rotary-correlation",
   "metadata": {},
   "source": [
    "**Number of unique values at each column, min and max value**\n",
    "\n",
    "Note that the min and max values are not very meaningful for some columns"
   ]
  },
  {
   "cell_type": "code",
   "execution_count": 249,
   "id": "horizontal-gabriel",
   "metadata": {},
   "outputs": [
    {
     "data": {
      "text/plain": [
       "accountNumber                 5000\n",
       "customerId                    5000\n",
       "creditLimit                     10\n",
       "availableMoney              521915\n",
       "transactionDateTime         776637\n",
       "transactionAmount            66038\n",
       "merchantName                  2490\n",
       "acqCountry                       4\n",
       "merchantCountryCode              4\n",
       "posEntryMode                     5\n",
       "posConditionCode                 3\n",
       "merchantCategoryCode            19\n",
       "currentExpDate                 165\n",
       "accountOpenDate               1820\n",
       "dateOfLastAddressChange       2184\n",
       "cardCVV                        899\n",
       "enteredCVV                     976\n",
       "cardLast4Digits               5245\n",
       "transactionType                  3\n",
       "currentBalance              487318\n",
       "cardPresent                      2\n",
       "expirationDateKeyInMatch         2\n",
       "isFraud                          2\n",
       "dtype: int64"
      ]
     },
     "execution_count": 249,
     "metadata": {},
     "output_type": "execute_result"
    }
   ],
   "source": [
    "trans_df.nunique()"
   ]
  },
  {
   "cell_type": "code",
   "execution_count": 770,
   "id": "selective-inclusion",
   "metadata": {},
   "outputs": [
    {
     "name": "stdout",
     "output_type": "stream",
     "text": [
      "accountNumber                         100088067\n",
      "customerId                            100088067\n",
      "creditLimit                                 250\n",
      "availableMoney                         -1005.63\n",
      "transactionDateTime         2016-01-01 00:01:02\n",
      "transactionAmount                          0.00\n",
      "merchantName                            1st BBQ\n",
      "merchantCategoryCode                    airline\n",
      "currentExpDate                          01/2020\n",
      "accountOpenDate                      1989-08-22\n",
      "dateOfLastAddressChange              1989-08-22\n",
      "cardCVV                                     100\n",
      "enteredCVV                                    0\n",
      "cardLast4Digits                               0\n",
      "currentBalance                             0.00\n",
      "cardPresent                               False\n",
      "expirationDateKeyInMatch                  False\n",
      "isFraud                                   False\n",
      "dtype: object\n"
     ]
    }
   ],
   "source": [
    "print(trans_df.min())"
   ]
  },
  {
   "cell_type": "code",
   "execution_count": 771,
   "id": "multiple-model",
   "metadata": {},
   "outputs": [
    {
     "name": "stdout",
     "output_type": "stream",
     "text": [
      "accountNumber                         999389635\n",
      "customerId                            999389635\n",
      "creditLimit                               50000\n",
      "availableMoney                         50000.00\n",
      "transactionDateTime         2016-12-30 23:59:45\n",
      "transactionAmount                       2011.54\n",
      "merchantName                 williamssonoma.com\n",
      "merchantCategoryCode              subscriptions\n",
      "currentExpDate                          12/2032\n",
      "accountOpenDate                      2015-12-31\n",
      "dateOfLastAddressChange              2016-12-30\n",
      "cardCVV                                     998\n",
      "enteredCVV                                  998\n",
      "cardLast4Digits                            9998\n",
      "currentBalance                         47498.81\n",
      "cardPresent                                True\n",
      "expirationDateKeyInMatch                   True\n",
      "isFraud                                    True\n",
      "dtype: object\n"
     ]
    }
   ],
   "source": [
    "print(trans_df.max())"
   ]
  },
  {
   "cell_type": "markdown",
   "id": "actual-rubber",
   "metadata": {},
   "source": [
    "# Question: Plot"
   ]
  },
  {
   "cell_type": "code",
   "execution_count": 496,
   "id": "asian-titanium",
   "metadata": {},
   "outputs": [
    {
     "data": {
      "image/png": "[encoded data removed]",
      "text/plain": [
       "<Figure size 576x432 with 1 Axes>"
      ]
     },
     "metadata": {
      "needs_background": "light"
     },
     "output_type": "display_data"
    }
   ],
   "source": [
    "prossAmount = trans_df['transactionAmount'].values\n",
    "\n",
    "\n",
    "plt.figure(figsize=(8,6))\n",
    "plt.hist(prossAmount, color=cap1_blue, bins=30)\n",
    "plt.grid(ls='--',alpha=0.6)\n",
    "plt.title(\"Histogram of processed transaction amounts\", fontsize=16)\n",
    "plt.xlabel(r'Transaction Amount $(\\$)$',fontsize=18);plt.ylabel('No. of transactions', fontsize=18)\n",
    "plt.show()"
   ]
  },
  {
   "cell_type": "code",
   "execution_count": null,
   "id": "quick-abortion",
   "metadata": {},
   "outputs": [],
   "source": []
  },
  {
   "cell_type": "code",
   "execution_count": 92,
   "id": "guided-projection",
   "metadata": {},
   "outputs": [
    {
     "data": {
      "image/png": "[encoded data removed]",
      "text/plain": [
       "<Figure size 576x360 with 1 Axes>"
      ]
     },
     "metadata": {
      "needs_background": "light"
     },
     "output_type": "display_data"
    }
   ],
   "source": [
    "plt.figure(figsize=(8,5))\n",
    "plt.hist(prossAmount[prossAmount>1000], color=cap1_blue, bins=30)\n",
    "plt.grid(ls='--',alpha=0.6)\n",
    "plt.title(\"Histogram of processed transaction amounts $> 1000\\$ $\", fontsize=16)\n",
    "plt.xlabel(r'Transaction Amount $(\\$)$',fontsize=18);plt.ylabel('No. of transactions', fontsize=18)\n",
    "plt.show()"
   ]
  },
  {
   "cell_type": "markdown",
   "id": "stuck-screw",
   "metadata": {},
   "source": [
    "# Question: Data Wrangling - Duplicate Transactions\n",
    "\n",
    "In this part we will investigate duplicate transactions that are present in the dataset. Specifically we are interested in **reversed transactions** (when a purchase is followed by a reversal) and **multi-swipe** (accidentally charging a card multiple times).  \n",
    "\n",
    "I spent a lot of time visually investigating the dataset, trying to get a sense of when reversed and multi-swipe transactions occur (and how they are encoded in the dataset). Here are some of my findings:\n",
    "\n",
    "\n",
    "- First of all, there exist duplicates that do not seem to correspond to any of the above categories. For example one of the first duplicate transactions are two purchases on Play Store ($7.47\\$$ each), that do not correspond to a reversed transaction (both have a `PURCHASE` label in the `transactionType` column), neither multi-swipe (happened with a difference of over a year).\n",
    "\n",
    "- Some times between the PURCHASE and the REVRSAL other transactions have happened. Not all reversed transactions correspond to two subsequent rows in the dataset. \n",
    "\n",
    "- Although all the REVERSALS that I have inspected seem to have a corresponding PURCHASE (same transaction amount, same merchant name, same account number), I am not sure that all REVERSALS correspond to reversed purchases as defined here. For example, some may correspond to a smaller amount, due to errorneous initial amount in purchase, etc. In other words, we cannot be absolutely sure that selecting the transactions with a transaction type of `REVERSAL` will give us only reversed purchases.\n",
    "\n",
    "- For multi-swipes: from my investigation, these are duplicate transactions that follow each other (subsequent rows) and within a short period of time (e.g. < 60 seconds).\n",
    "\n",
    "So, here I will follow the follow **strategy** to define and **find** reversed and multi-swipe transactions:\n",
    "\n",
    "- For **reversed transaction**: Find duplicates (two `transactionAmount` entries being the same), where the first one of them has a `transactionType` of PURCHASE and the second REVERSAL, by the same `accountNumber`, same credit card (as indicated by `cardLast4Digits`) and same `merchantName`. For simplicity, check duplicates that conform to those criteria and are separated by max 100 rows. (That's to simplify and make faster the computation). \n",
    "\n",
    "- Compare the results of the above method with those we get assuming that all transactions with a `REVERSAL` correspond to reversed purchases. \n",
    "\n",
    "- For **multi-swipe** transactions: Find duplicates (same `transactionAmount`entries being the), that both of them have a `transactionType` of PURCHASE and the time difference between them is small, let's say $<60$ seconds (although we can check how the results depend on the exact number)."
   ]
  },
  {
   "cell_type": "markdown",
   "id": "understanding-agent",
   "metadata": {},
   "source": [
    "### Reversed Transactions\n",
    "\n",
    "Let's find the reversed transactions (total number and total amount) according to the above definition."
   ]
  },
  {
   "cell_type": "code",
   "execution_count": 651,
   "id": "aquatic-prior",
   "metadata": {},
   "outputs": [],
   "source": [
    "trans_type = trans_df['transactionType'] # Transaction type, we will need it\n",
    "merch_name = trans_df['merchantName'] # Merchant name, we will need it\n",
    "\n",
    "rev_amount = [] #Initialize a list that keeps the transaction amounts\n",
    "rev_Fraud = [] # Initialize a list that keeps the Fraud/no Fraud labels\n",
    "\n",
    "for i in range(1,100):\n",
    "    # Difference between transaction amount\n",
    "    diff_am_i = trans_df['transactionAmount'].diff(periods=i)\n",
    "    # Difference in credit card numbers\n",
    "    diff_card_i = trans_df['cardLast4Digits'].diff(periods=i)\n",
    "    \n",
    "    # Are the merchant names the same?\n",
    "    merch_same = merch_name.eq(merch_name.shift(periods=i))\n",
    "    \n",
    "    \n",
    "    # Define criteria for reversed\n",
    "    crit_reversed = (diff_card_i==0)&(diff_am_i==0)&(trans_type=='REVERSAL')&(merch_same==True)\n",
    "    reversed_trans = trans_df['transactionAmount'][crit_reversed]\n",
    "    reversed_isFraud = trans_df['isFraud'][crit_reversed]\n",
    "    \n",
    "    # Append the lists\n",
    "    rev_amount += list(reversed_trans.values)\n",
    "    rev_Fraud += list(reversed_isFraud.values)  "
   ]
  },
  {
   "cell_type": "code",
   "execution_count": 652,
   "id": "ordinary-julian",
   "metadata": {},
   "outputs": [
    {
     "name": "stdout",
     "output_type": "stream",
     "text": [
      "Number of reversed transactions: 15604\n",
      "Total transaction amount (in million dollars): 2.258749409999998\n"
     ]
    }
   ],
   "source": [
    "print('Number of reversed transactions:',len(rev_amount))\n",
    "print('Total transaction amount (in million dollars):',sum(rev_amount)/1e6)"
   ]
  },
  {
   "cell_type": "markdown",
   "id": "imperial-marble",
   "metadata": {},
   "source": [
    "**Results**: We have about 15600 reversed transactions, amounting a total of $\\sim 2.25$ million $\\$$."
   ]
  },
  {
   "cell_type": "code",
   "execution_count": null,
   "id": "basic-membership",
   "metadata": {},
   "outputs": [],
   "source": []
  },
  {
   "cell_type": "code",
   "execution_count": 653,
   "id": "polished-torture",
   "metadata": {},
   "outputs": [],
   "source": [
    "#reverals = trans_df['transactionAmount']\n",
    "trans_reversals = trans_df[trans_df['transactionType']=='REVERSAL']['transactionAmount']\n",
    "trans_revers_fraud = trans_df[trans_df['transactionType']=='REVERSAL']['isFraud']"
   ]
  },
  {
   "cell_type": "markdown",
   "id": "anonymous-demographic",
   "metadata": {},
   "source": [
    "### Multi-Swipe\n",
    "\n",
    "Let's find now the multi-swipe transactions, according to the strategy mentioned above. I will also make the simplifying assumption that all of them are only happen two times in a row. \n",
    "\n",
    "\n",
    "**Update** Initially we said that we would sent the time difference to be $<60$ seconds. However "
   ]
  },
  {
   "cell_type": "code",
   "execution_count": 667,
   "id": "parliamentary-stanley",
   "metadata": {},
   "outputs": [],
   "source": [
    "swipe_amount = [] #Initialize a list that keeps the transaction amounts\n",
    "swipe_Fraud = [] # Initialize a list that keeps the Fraud/no Fraud labels\n",
    "\n",
    "for i in range(1,5):\n",
    "    # Get differences between transaction amounts, only subsequent rows\n",
    "    diff_amount = trans_df['transactionAmount'].diff(periods=i)\n",
    "    # Get differences between credit card numbers, only subsequent rows\n",
    "    diff_card = trans_df['cardLast4Digits'].diff(periods=i)\n",
    "    # Are the merchant names the same?\n",
    "    merch_same = merch_name.eq(merch_name.shift(periods=i))\n",
    "    # Get differences between transaction date/time, only subsequent rows\n",
    "    difftime = trans_df['transactionDateTime'].diff(periods=i)\n",
    "    # Convert to seconds\n",
    "    diff_seconds = difftime.dt.total_seconds().values\n",
    "\n",
    "\n",
    "    # get the transactions that pass the multi-swipe criteria as stated earlier\n",
    "    criteria = (diff_card==0)&(diff_amount==0)&(trans_type!='REVERSAL')&(merch_same==True)&(diff_seconds<200)\n",
    "    mult_sw_trans = trans_df['transactionAmount'][criteria]\n",
    "    mult_sw_Fraud = trans_df['isFraud'][criteria]\n",
    "    \n",
    "    # Append the lists\n",
    "    swipe_amount += list(mult_sw_trans.values)\n",
    "    swipe_Fraud += list(mult_sw_Fraud.values)  "
   ]
  },
  {
   "cell_type": "markdown",
   "id": "continuing-nature",
   "metadata": {},
   "source": [
    "Convert lists to arrays"
   ]
  },
  {
   "cell_type": "code",
   "execution_count": 688,
   "id": "sweet-railway",
   "metadata": {},
   "outputs": [],
   "source": [
    "rev_amount = np.asarray(rev_amount)\n",
    "rev_Fraud = np.asarray(rev_Fraud)\n",
    "swipe_amount = np.asarray(swipe_amount)\n",
    "swipe_Fraud = np.asarray(swipe_Fraud)"
   ]
  },
  {
   "cell_type": "code",
   "execution_count": 668,
   "id": "equal-glance",
   "metadata": {},
   "outputs": [
    {
     "name": "stdout",
     "output_type": "stream",
     "text": [
      "Number of multi-swipe transactions: 8142\n",
      "Total transaction amount (in million dollars): 1.174953989999993\n"
     ]
    }
   ],
   "source": [
    "print('Number of multi-swipe transactions:',len(swipe_amount))\n",
    "print('Total transaction amount (in million dollars):',sum(swipe_amount)/1e6)"
   ]
  },
  {
   "cell_type": "code",
   "execution_count": 692,
   "id": "foreign-tuning",
   "metadata": {},
   "outputs": [
    {
     "data": {
      "image/png": "[encoded data removed]",
      "text/plain": [
       "<Figure size 576x360 with 1 Axes>"
      ]
     },
     "metadata": {
      "needs_background": "light"
     },
     "output_type": "display_data"
    }
   ],
   "source": [
    "plt.figure(figsize=(8,5))\n",
    "\n",
    "plt.hist(swipe_amount[swipe_Fraud==True], bins=30,density=True)\n",
    "plt.hist(swipe_amount[swipe_Fraud==False], bins=30,density=True,alpha=0.5)\n",
    "\n",
    "\n",
    "plt.show()"
   ]
  },
  {
   "cell_type": "code",
   "execution_count": 693,
   "id": "timely-immune",
   "metadata": {},
   "outputs": [
    {
     "data": {
      "image/png": "[encoded data removed]",
      "text/plain": [
       "<Figure size 576x360 with 1 Axes>"
      ]
     },
     "metadata": {
      "needs_background": "light"
     },
     "output_type": "display_data"
    }
   ],
   "source": [
    "plt.figure(figsize=(8,5))\n",
    "\n",
    "plt.hist(rev_amount[rev_Fraud==True], bins=30,density=True)\n",
    "plt.hist(rev_amount[rev_Fraud==False], bins=30,density=True,alpha=0.5)\n",
    "\n",
    "\n",
    "plt.show()"
   ]
  },
  {
   "cell_type": "markdown",
   "id": "cellular-contrary",
   "metadata": {},
   "source": [
    "**Plot proportions**"
   ]
  },
  {
   "cell_type": "code",
   "execution_count": 724,
   "id": "atlantic-reply",
   "metadata": {},
   "outputs": [],
   "source": [
    "tot_amount = trans_df['transactionAmount'].values\n",
    "tot_Fraud =  trans_df['isFraud'].values"
   ]
  },
  {
   "cell_type": "code",
   "execution_count": 735,
   "id": "fundamental-recipe",
   "metadata": {},
   "outputs": [],
   "source": [
    "n_thresh = 100\n",
    "thresh = np.linspace(10,600,n_thresh)\n",
    "props_rev = np.zeros(n_thresh)\n",
    "props_swipe = np.zeros(n_thresh)\n",
    "props_tot = np.zeros(n_thresh)\n",
    "\n",
    "\n",
    "for i in range(n_thresh):\n",
    "    thres = thresh[i]\n",
    "    props_rev[i] = len(rev_amount[(rev_Fraud==True)&(rev_amount>thres)])/len(rev_amount[(rev_amount>thres)])\n",
    "    props_swipe[i] = len(swipe_amount[(swipe_Fraud==True)&(swipe_amount>thres)])/len(swipe_amount[(swipe_amount>thres)])\n",
    "    props_tot[i] =  len(tot_amount[(tot_Fraud==True)&(tot_amount>thres)])/len(tot_amount[(tot_amount>thres)])"
   ]
  },
  {
   "cell_type": "code",
   "execution_count": 763,
   "id": "czech-restoration",
   "metadata": {},
   "outputs": [
    {
     "data": {
      "image/png": "[encoded data removed]",
      "text/plain": [
       "<Figure size 648x432 with 1 Axes>"
      ]
     },
     "metadata": {
      "needs_background": "light"
     },
     "output_type": "display_data"
    }
   ],
   "source": [
    "plt.figure(figsize=(9,6))\n",
    "\n",
    "\n",
    "plt.plot(thresh,props_rev,c=cap1_blue,linewidth=2,label='Reversed')\n",
    "plt.plot(thresh,props_swipe,c=cap1_red,linewidth=2, label='Multi-Swipe')\n",
    "plt.plot(thresh,props_tot,c='green',linewidth=2, label='All')\n",
    "plt.grid(ls='--',alpha=0.6)\n",
    "plt.title('Proportion of fraudulent transactions at different amount threshold levels', fontsize=15)\n",
    "\n",
    "plt.xticks(fontsize=12);plt.yticks(fontsize=12)\n",
    "plt.xlabel('Amount threshold ($\\$$)', fontsize=20)\n",
    "plt.ylabel('Proportion of fraudulent transactions', fontsize=20)\n",
    "plt.legend(frameon=True, loc='upper left', fontsize=20)\n",
    "plt.show()"
   ]
  },
  {
   "cell_type": "code",
   "execution_count": null,
   "id": "pregnant-webster",
   "metadata": {},
   "outputs": [],
   "source": []
  },
  {
   "cell_type": "markdown",
   "id": "trained-economics",
   "metadata": {},
   "source": [
    "# Question: Model\n",
    "\n",
    "Fraudulent credit card transactions is a serious problem in banking. In this part we will develop a predictive model for fraudulent transactions. Namely, we will use the data we have to train a **classifier** able to distinguish between a fraudulent and non-fraudulent transactions. \n",
    "\n",
    "## Target classes\n",
    "\n",
    "Before start thinking about how to create this predictive model, let us inspect the number of examples in the target classes.  Below we calcuate the number and create a bar plot of the fraudulent and clean transactions."
   ]
  },
  {
   "cell_type": "code",
   "execution_count": 821,
   "id": "impressive-graduation",
   "metadata": {},
   "outputs": [
    {
     "name": "stdout",
     "output_type": "stream",
     "text": [
      "No. of fraudulent transactions: 12417\n",
      "No. of non-fraudulent transactions: 773946\n"
     ]
    }
   ],
   "source": [
    "# Get the target value classes (Fraud/Not Fraud)\n",
    "# Convert the Boolean array (True/False) into integers (0/1) that\n",
    "# A classifier can uderstand\n",
    "y_target = trans_df['isFraud'].values.astype(int)\n",
    "\n",
    "# Let's print and then plot the number of Fraudulent and non-Fraudulent transactions\n",
    "n_Fraud = len(y_target[y_target==1])\n",
    "n_nonFraud = len(y_target[y_target==0])\n",
    "\n",
    "print('No. of fraudulent transactions:', n_Fraud)\n",
    "print('No. of non-fraudulent transactions:', n_nonFraud)"
   ]
  },
  {
   "cell_type": "markdown",
   "id": "three-buyer",
   "metadata": {},
   "source": [
    "Let's make a plot, to see that better"
   ]
  },
  {
   "cell_type": "code",
   "execution_count": 819,
   "id": "czech-bobby",
   "metadata": {},
   "outputs": [
    {
     "data": {
      "image/png": "[encoded data removed]",
      "text/plain": [
       "<Figure size 360x360 with 1 Axes>"
      ]
     },
     "metadata": {
      "needs_background": "light"
     },
     "output_type": "display_data"
    }
   ],
   "source": [
    "fig = plt.figure(figsize=(5.,5.))\n",
    "plt.barh(4, n_nonFraud/10000, height=1.1, color=cap1_blue, label='No Fraud')\n",
    "plt.barh(2, n_Fraud/10000, height=1.1, color=cap1_red, label='Fraud')\n",
    "plt.grid(ls='--', axis='x', alpha=0.6)\n",
    "\n",
    "plt.xticks(fontsize=16)\n",
    "plt.yticks([1,2,4,5],(),fontsize=10)\n",
    "plt.legend(frameon=True, loc='lower right', fontsize=20)\n",
    "plt.xlabel(r'Number of transactions ($\\times$ 10k)', fontsize=20)\n",
    "plt.tight_layout()\n",
    "plt.show()"
   ]
  },
  {
   "cell_type": "markdown",
   "id": "emerging-treasury",
   "metadata": {},
   "source": [
    "We see that the target classes are **heavily imbalanced**, in other words we have many more non-fraudulent transactions ($\\sim 774$k) than fraudulent ones ($\\sim 12$k). This is expected if the dataset represents real world data.\n",
    "\n",
    "So, when building our predictive model we should appropriately take this class imbalance into account.\n",
    "\n",
    "\n",
    "## Simplifying assumptions for a baseline model\n",
    "\n",
    "Here, I will make a few (interconnected) simplifying assumptions to make modeling easier.\n",
    "\n",
    "- Assumption one: We will not use any **time information**. For example, one can imagine that the number of previous transactions, and even more importantly the number of previous fraudulent transactions by a specific credit number can be a strong predictor for future fraudulent behavior. However this requires a careful treatment of the way we split the dataset into training-validation-test sets, in order not to have leaking information between them, and blending forecasting with binary prediction models. We will drop it for now.\n",
    "\n",
    "- Some acount numbers/credit cards or merchants may have a higher number of fraudulent transactions. But this require some splitting of data based on time, that we will avoid in our baseline feature selection.\n",
    "\n",
    "Having made this assumptions, let us start the dataset preprocessing.\n",
    "\n",
    "## Dataset Preprocessing\n",
    "\n",
    "Let's discuss and perform some data preprocessing steps here.\n",
    "\n",
    "### Columns to drop\n",
    "\n",
    "Based on the assumptions above, I will drop the following columns:\n",
    "\n",
    "- `accountNumber`,`customerId`,`transactionDateTime`\n",
    "- `merchantName`,`currentExpDate`, `accountOpenDate`\n",
    "- `dateOfLastAddressChange`, `cardCVV`, `enteredCVV`,`cardLast4Digits`\n",
    "\n",
    "Let's also drop the `isFraud` label column, since we have already kept the labels above. \n",
    "\n",
    "We drop the `cardCVV` and `enteredCVV` columns, we expect however that the fact these two are the same or not may provide significant information about an attempted fraudulent transaction.\n",
    "\n",
    "Thus, before droping them, I will create a boolean array that is true if the two are the same and false otherwise.\n",
    "\n",
    "Furthermore, we have two columns, `acqCountry` code, and `merchantCountryCode`. We will also substitute them with a new feature that just shows if the two countries match.\n",
    "\n",
    "\n",
    "**Note:** Although it consumes memory, I find it to be a good practice to store to create a new dataframe every time I make a significant preprocessing change. That way it prevents accidental errors when, for example, running the same cell twice etc. I'll give them letter names, like df_a, df_b, etc"
   ]
  },
  {
   "cell_type": "code",
   "execution_count": 870,
   "id": "historical-beads",
   "metadata": {},
   "outputs": [],
   "source": [
    "# Find if the CVVs match\n",
    "matching_CVV = ~(trans_df.enteredCVV - trans_df.cardCVV).astype(bool)\n",
    "# Convert to a dataframe\n",
    "matching_CVV_df = pd.DataFrame({'matchCVV':matching_CVV})\n",
    "\n",
    "# ==================================================================\n",
    "# Boolean array - do the two countries match?\n",
    "matching_countries = trans_df.acqCountry == trans_df.merchantCountryCode\n",
    "# Convert to a dataframe\n",
    "matching_countries_df = pd.DataFrame({'matchCountries':matching_countries})"
   ]
  },
  {
   "cell_type": "code",
   "execution_count": 871,
   "id": "sound-longitude",
   "metadata": {},
   "outputs": [],
   "source": [
    "# Make a list of the columns I am going to drop \n",
    "cols_to_drop = ['accountNumber','customerId','transactionDateTime',\n",
    "               'merchantName','currentExpDate', 'accountOpenDate',\n",
    "               'dateOfLastAddressChange', 'cardCVV', 'enteredCVV',\n",
    "               'cardLast4Digits','acqCountry','merchantCountryCode',\n",
    "               'isFraud']\n",
    "\n",
    "# Drop columns from the dataframe \n",
    "a_df = trans_df.drop(cols_to_drop, axis=1)\n",
    "\n",
    "# Concatenate the dataframes\n",
    "b_df = pd.concat([a_df,matching_CVV_df,matching_countries_df], axis=1)"
   ]
  },
  {
   "cell_type": "code",
   "execution_count": 872,
   "id": "fresh-friendly",
   "metadata": {},
   "outputs": [
    {
     "data": {
      "text/html": [
       "<div>\n",
       "<style scoped>\n",
       "    .dataframe tbody tr th:only-of-type {\n",
       "        vertical-align: middle;\n",
       "    }\n",
       "\n",
       "    .dataframe tbody tr th {\n",
       "        vertical-align: top;\n",
       "    }\n",
       "\n",
       "    .dataframe thead th {\n",
       "        text-align: right;\n",
       "    }\n",
       "</style>\n",
       "<table border=\"1\" class=\"dataframe\">\n",
       "  <thead>\n",
       "    <tr style=\"text-align: right;\">\n",
       "      <th></th>\n",
       "      <th>creditLimit</th>\n",
       "      <th>availableMoney</th>\n",
       "      <th>transactionAmount</th>\n",
       "      <th>posEntryMode</th>\n",
       "      <th>posConditionCode</th>\n",
       "      <th>merchantCategoryCode</th>\n",
       "      <th>transactionType</th>\n",
       "      <th>currentBalance</th>\n",
       "      <th>cardPresent</th>\n",
       "      <th>expirationDateKeyInMatch</th>\n",
       "      <th>matchCVV</th>\n",
       "      <th>matchCountries</th>\n",
       "    </tr>\n",
       "  </thead>\n",
       "  <tbody>\n",
       "    <tr>\n",
       "      <th>0</th>\n",
       "      <td>5000</td>\n",
       "      <td>5000.0</td>\n",
       "      <td>98.55</td>\n",
       "      <td>02</td>\n",
       "      <td>01</td>\n",
       "      <td>rideshare</td>\n",
       "      <td>PURCHASE</td>\n",
       "      <td>0.0</td>\n",
       "      <td>False</td>\n",
       "      <td>False</td>\n",
       "      <td>True</td>\n",
       "      <td>True</td>\n",
       "    </tr>\n",
       "    <tr>\n",
       "      <th>1</th>\n",
       "      <td>5000</td>\n",
       "      <td>5000.0</td>\n",
       "      <td>74.51</td>\n",
       "      <td>09</td>\n",
       "      <td>01</td>\n",
       "      <td>entertainment</td>\n",
       "      <td>PURCHASE</td>\n",
       "      <td>0.0</td>\n",
       "      <td>True</td>\n",
       "      <td>False</td>\n",
       "      <td>True</td>\n",
       "      <td>True</td>\n",
       "    </tr>\n",
       "    <tr>\n",
       "      <th>2</th>\n",
       "      <td>5000</td>\n",
       "      <td>5000.0</td>\n",
       "      <td>7.47</td>\n",
       "      <td>09</td>\n",
       "      <td>01</td>\n",
       "      <td>mobileapps</td>\n",
       "      <td>PURCHASE</td>\n",
       "      <td>0.0</td>\n",
       "      <td>False</td>\n",
       "      <td>False</td>\n",
       "      <td>True</td>\n",
       "      <td>True</td>\n",
       "    </tr>\n",
       "    <tr>\n",
       "      <th>3</th>\n",
       "      <td>5000</td>\n",
       "      <td>5000.0</td>\n",
       "      <td>7.47</td>\n",
       "      <td>09</td>\n",
       "      <td>01</td>\n",
       "      <td>mobileapps</td>\n",
       "      <td>PURCHASE</td>\n",
       "      <td>0.0</td>\n",
       "      <td>False</td>\n",
       "      <td>False</td>\n",
       "      <td>True</td>\n",
       "      <td>True</td>\n",
       "    </tr>\n",
       "    <tr>\n",
       "      <th>4</th>\n",
       "      <td>5000</td>\n",
       "      <td>5000.0</td>\n",
       "      <td>71.18</td>\n",
       "      <td>02</td>\n",
       "      <td>01</td>\n",
       "      <td>fastfood</td>\n",
       "      <td>PURCHASE</td>\n",
       "      <td>0.0</td>\n",
       "      <td>True</td>\n",
       "      <td>False</td>\n",
       "      <td>True</td>\n",
       "      <td>True</td>\n",
       "    </tr>\n",
       "  </tbody>\n",
       "</table>\n",
       "</div>"
      ],
      "text/plain": [
       "   creditLimit  availableMoney  transactionAmount posEntryMode  \\\n",
       "0         5000          5000.0              98.55           02   \n",
       "1         5000          5000.0              74.51           09   \n",
       "2         5000          5000.0               7.47           09   \n",
       "3         5000          5000.0               7.47           09   \n",
       "4         5000          5000.0              71.18           02   \n",
       "\n",
       "  posConditionCode merchantCategoryCode transactionType  currentBalance  \\\n",
       "0               01            rideshare        PURCHASE             0.0   \n",
       "1               01        entertainment        PURCHASE             0.0   \n",
       "2               01           mobileapps        PURCHASE             0.0   \n",
       "3               01           mobileapps        PURCHASE             0.0   \n",
       "4               01             fastfood        PURCHASE             0.0   \n",
       "\n",
       "   cardPresent  expirationDateKeyInMatch  matchCVV  matchCountries  \n",
       "0        False                     False      True            True  \n",
       "1         True                     False      True            True  \n",
       "2        False                     False      True            True  \n",
       "3        False                     False      True            True  \n",
       "4         True                     False      True            True  "
      ]
     },
     "execution_count": 872,
     "metadata": {},
     "output_type": "execute_result"
    }
   ],
   "source": [
    "b_df.head()"
   ]
  },
  {
   "cell_type": "code",
   "execution_count": 869,
   "id": "excellent-seating",
   "metadata": {},
   "outputs": [
    {
     "name": "stdout",
     "output_type": "stream",
     "text": [
      "4632\n"
     ]
    }
   ],
   "source": [
    "print(len(lol[lol==False]))"
   ]
  },
  {
   "cell_type": "code",
   "execution_count": null,
   "id": "american-dependence",
   "metadata": {},
   "outputs": [],
   "source": []
  }
 ],
 "metadata": {
  "kernelspec": {
   "display_name": "Python 3",
   "language": "python",
   "name": "python3"
  },
  "language_info": {
   "codemirror_mode": {
    "name": "ipython",
    "version": 3
   },
   "file_extension": ".py",
   "mimetype": "text/x-python",
   "name": "python",
   "nbconvert_exporter": "python",
   "pygments_lexer": "ipython3",
   "version": "3.9.1"
  }
 },
 "nbformat": 4,
 "nbformat_minor": 5
}
