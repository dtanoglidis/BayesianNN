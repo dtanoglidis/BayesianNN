{
 "cells": [
  {
   "cell_type": "markdown",
   "id": "wanted-globe",
   "metadata": {},
   "source": [
    "\n",
    "**Data Science Challenge: Card Transactions!**\n",
    "\n",
    "\n",
    "# Summary\n",
    "\n",
    "\n",
    "\n",
    "---\n",
    "--------------\n",
    "\n",
    "In the following cell we import all the python packages we are going to need for our analysis. \n",
    "It is better to have them organized in the first cell."
   ]
  },
  {
   "cell_type": "code",
   "execution_count": 1,
   "id": "least-retailer",
   "metadata": {},
   "outputs": [],
   "source": [
    "# Import basic libraries\n",
    "import numpy as np\n",
    "import scipy as sp\n",
    "import pandas as pd\n",
    "\n",
    "from datetime import datetime\n",
    "\n",
    "# =====================================\n",
    "# scikit-learn and imbalanced-learn\n",
    "\n",
    "# Preprocessing etc\n",
    "from sklearn.impute import SimpleImputer\n",
    "from sklearn.preprocessing import LabelEncoder\n",
    "from sklearn.preprocessing import OrdinalEncoder\n",
    "from sklearn.preprocessing import StandardScaler\n",
    "from sklearn.preprocessing import MinMaxScaler\n",
    "from sklearn.model_selection import train_test_split\n",
    "from sklearn.model_selection import GridSearchCV\n",
    "\n",
    "# Classifiers\n",
    "from sklearn.linear_model import LogisticRegression\n",
    "from sklearn.ensemble import RandomForestClassifier\n",
    "\n",
    "# Evaluation metrics\n",
    "import sklearn\n",
    "from sklearn.metrics import confusion_matrix\n",
    "from sklearn.metrics import precision_recall_curve\n",
    "from sklearn.metrics import balanced_accuracy_score as bas\n",
    "from sklearn.metrics import accuracy_score\n",
    "from sklearn.metrics import precision_score\n",
    "from sklearn.metrics import recall_score\n",
    "from sklearn.metrics import f1_score\n",
    "from sklearn.metrics.pairwise import euclidean_distances\n",
    "\n",
    "\n",
    "# Imbalance-learn\n",
    "import imblearn\n",
    "from imblearn.under_sampling import RandomUnderSampler \n",
    "from imblearn.over_sampling import SMOTE \n",
    "from imblearn.pipeline import Pipeline \n",
    "\n",
    "# =====================================\n",
    "# Matplotlib, seaborn etc \n",
    "import matplotlib\n",
    "import matplotlib.pyplot as plt\n",
    "import matplotlib.gridspec as gridspec\n",
    "import seaborn as sns\n",
    "%matplotlib inline\n",
    "from matplotlib import rcParams\n",
    "rcParams['font.family'] = 'serif'\n",
    "\n",
    "# Adjust rc parameters to make plots pretty\n",
    "def plot_pretty(dpi=200, fontsize=9):\n",
    "    \n",
    "\n",
    "    plt.rc(\"savefig\", dpi=dpi)       # dpi resolution of saved image files\n",
    "    plt.rc('text', usetex=True)      # use LaTeX to process labels\n",
    "    plt.rc('font', size=fontsize)    # fontsize\n",
    "    plt.rc('xtick', direction='in')  # make axes ticks point inward\n",
    "    plt.rc('ytick', direction='in')\n",
    "    plt.rc('xtick.major', pad=10) \n",
    "    plt.rc('xtick.minor', pad=5)\n",
    "    plt.rc('ytick.major', pad=10) \n",
    "    plt.rc('ytick.minor', pad=5)\n",
    "    plt.rc('lines', dotted_pattern = [0.5, 1.1]) # fix dotted lines\n",
    "\n",
    "    return\n",
    "\n",
    "plot_pretty()\n",
    "\n",
    "# Define Capital One colors \n",
    "cap1_blue ='#004879'\n",
    "cap1_red = '#D22E1E'\n",
    "# ======================================"
   ]
  },
  {
   "cell_type": "markdown",
   "id": "ecological-female",
   "metadata": {},
   "source": [
    "**Requirements**\n",
    "\n",
    "If you want to run the code, you will need python 3 and the following packages:"
   ]
  },
  {
   "cell_type": "code",
   "execution_count": 35,
   "id": "abandoned-position",
   "metadata": {},
   "outputs": [
    {
     "name": "stdout",
     "output_type": "stream",
     "text": [
      "numpy version: 1.19.5\n",
      "scipy version: 1.8.0\n",
      "pandas version: 1.2.0\n",
      "scikit-learn version: 1.0.1\n",
      "imbalanced-learn version: 0.9.0\n",
      "matplotlib version: 3.3.3\n",
      "seaborn version: 0.11.1\n"
     ]
    }
   ],
   "source": [
    "print('numpy version:',np.__version__)\n",
    "print('scipy version:',sp.__version__)\n",
    "print('pandas version:',pd.__version__)\n",
    "print('scikit-learn version:',sklearn.__version__)\n",
    "print('imbalanced-learn version:',imblearn.__version__)\n",
    "print('matplotlib version:',matplotlib.__version__)\n",
    "print('seaborn version:',sns.__version__)"
   ]
  },
  {
   "cell_type": "markdown",
   "id": "first-directive",
   "metadata": {},
   "source": [
    "# Question: Load\n",
    "**Load and simple preprocessing**\n",
    "\n",
    "In the first part we load the data and perform some basic data preprocessing.\n",
    "\n",
    "## Load the dataset"
   ]
  },
  {
   "cell_type": "code",
   "execution_count": 3,
   "id": "developing-orange",
   "metadata": {},
   "outputs": [
    {
     "data": {
      "text/html": [
       "<div>\n",
       "<style scoped>\n",
       "    .dataframe tbody tr th:only-of-type {\n",
       "        vertical-align: middle;\n",
       "    }\n",
       "\n",
       "    .dataframe tbody tr th {\n",
       "        vertical-align: top;\n",
       "    }\n",
       "\n",
       "    .dataframe thead th {\n",
       "        text-align: right;\n",
       "    }\n",
       "</style>\n",
       "<table border=\"1\" class=\"dataframe\">\n",
       "  <thead>\n",
       "    <tr style=\"text-align: right;\">\n",
       "      <th></th>\n",
       "      <th>accountNumber</th>\n",
       "      <th>customerId</th>\n",
       "      <th>creditLimit</th>\n",
       "      <th>availableMoney</th>\n",
       "      <th>transactionDateTime</th>\n",
       "      <th>transactionAmount</th>\n",
       "      <th>merchantName</th>\n",
       "      <th>acqCountry</th>\n",
       "      <th>merchantCountryCode</th>\n",
       "      <th>posEntryMode</th>\n",
       "      <th>...</th>\n",
       "      <th>echoBuffer</th>\n",
       "      <th>currentBalance</th>\n",
       "      <th>merchantCity</th>\n",
       "      <th>merchantState</th>\n",
       "      <th>merchantZip</th>\n",
       "      <th>cardPresent</th>\n",
       "      <th>posOnPremises</th>\n",
       "      <th>recurringAuthInd</th>\n",
       "      <th>expirationDateKeyInMatch</th>\n",
       "      <th>isFraud</th>\n",
       "    </tr>\n",
       "  </thead>\n",
       "  <tbody>\n",
       "    <tr>\n",
       "      <th>0</th>\n",
       "      <td>737265056</td>\n",
       "      <td>737265056</td>\n",
       "      <td>5000</td>\n",
       "      <td>5000.0</td>\n",
       "      <td>2016-08-13T14:27:32</td>\n",
       "      <td>98.55</td>\n",
       "      <td>Uber</td>\n",
       "      <td>US</td>\n",
       "      <td>US</td>\n",
       "      <td>02</td>\n",
       "      <td>...</td>\n",
       "      <td>NaN</td>\n",
       "      <td>0.0</td>\n",
       "      <td>NaN</td>\n",
       "      <td>NaN</td>\n",
       "      <td>NaN</td>\n",
       "      <td>False</td>\n",
       "      <td>NaN</td>\n",
       "      <td>NaN</td>\n",
       "      <td>False</td>\n",
       "      <td>False</td>\n",
       "    </tr>\n",
       "    <tr>\n",
       "      <th>1</th>\n",
       "      <td>737265056</td>\n",
       "      <td>737265056</td>\n",
       "      <td>5000</td>\n",
       "      <td>5000.0</td>\n",
       "      <td>2016-10-11T05:05:54</td>\n",
       "      <td>74.51</td>\n",
       "      <td>AMC #191138</td>\n",
       "      <td>US</td>\n",
       "      <td>US</td>\n",
       "      <td>09</td>\n",
       "      <td>...</td>\n",
       "      <td>NaN</td>\n",
       "      <td>0.0</td>\n",
       "      <td>NaN</td>\n",
       "      <td>NaN</td>\n",
       "      <td>NaN</td>\n",
       "      <td>True</td>\n",
       "      <td>NaN</td>\n",
       "      <td>NaN</td>\n",
       "      <td>False</td>\n",
       "      <td>False</td>\n",
       "    </tr>\n",
       "    <tr>\n",
       "      <th>2</th>\n",
       "      <td>737265056</td>\n",
       "      <td>737265056</td>\n",
       "      <td>5000</td>\n",
       "      <td>5000.0</td>\n",
       "      <td>2016-11-08T09:18:39</td>\n",
       "      <td>7.47</td>\n",
       "      <td>Play Store</td>\n",
       "      <td>US</td>\n",
       "      <td>US</td>\n",
       "      <td>09</td>\n",
       "      <td>...</td>\n",
       "      <td>NaN</td>\n",
       "      <td>0.0</td>\n",
       "      <td>NaN</td>\n",
       "      <td>NaN</td>\n",
       "      <td>NaN</td>\n",
       "      <td>False</td>\n",
       "      <td>NaN</td>\n",
       "      <td>NaN</td>\n",
       "      <td>False</td>\n",
       "      <td>False</td>\n",
       "    </tr>\n",
       "    <tr>\n",
       "      <th>3</th>\n",
       "      <td>737265056</td>\n",
       "      <td>737265056</td>\n",
       "      <td>5000</td>\n",
       "      <td>5000.0</td>\n",
       "      <td>2016-12-10T02:14:50</td>\n",
       "      <td>7.47</td>\n",
       "      <td>Play Store</td>\n",
       "      <td>US</td>\n",
       "      <td>US</td>\n",
       "      <td>09</td>\n",
       "      <td>...</td>\n",
       "      <td>NaN</td>\n",
       "      <td>0.0</td>\n",
       "      <td>NaN</td>\n",
       "      <td>NaN</td>\n",
       "      <td>NaN</td>\n",
       "      <td>False</td>\n",
       "      <td>NaN</td>\n",
       "      <td>NaN</td>\n",
       "      <td>False</td>\n",
       "      <td>False</td>\n",
       "    </tr>\n",
       "    <tr>\n",
       "      <th>4</th>\n",
       "      <td>830329091</td>\n",
       "      <td>830329091</td>\n",
       "      <td>5000</td>\n",
       "      <td>5000.0</td>\n",
       "      <td>2016-03-24T21:04:46</td>\n",
       "      <td>71.18</td>\n",
       "      <td>Tim Hortons #947751</td>\n",
       "      <td>US</td>\n",
       "      <td>US</td>\n",
       "      <td>02</td>\n",
       "      <td>...</td>\n",
       "      <td>NaN</td>\n",
       "      <td>0.0</td>\n",
       "      <td>NaN</td>\n",
       "      <td>NaN</td>\n",
       "      <td>NaN</td>\n",
       "      <td>True</td>\n",
       "      <td>NaN</td>\n",
       "      <td>NaN</td>\n",
       "      <td>False</td>\n",
       "      <td>False</td>\n",
       "    </tr>\n",
       "  </tbody>\n",
       "</table>\n",
       "<p>5 rows × 29 columns</p>\n",
       "</div>"
      ],
      "text/plain": [
       "   accountNumber  customerId  creditLimit  availableMoney  \\\n",
       "0      737265056   737265056         5000          5000.0   \n",
       "1      737265056   737265056         5000          5000.0   \n",
       "2      737265056   737265056         5000          5000.0   \n",
       "3      737265056   737265056         5000          5000.0   \n",
       "4      830329091   830329091         5000          5000.0   \n",
       "\n",
       "   transactionDateTime  transactionAmount         merchantName acqCountry  \\\n",
       "0  2016-08-13T14:27:32              98.55                 Uber         US   \n",
       "1  2016-10-11T05:05:54              74.51          AMC #191138         US   \n",
       "2  2016-11-08T09:18:39               7.47           Play Store         US   \n",
       "3  2016-12-10T02:14:50               7.47           Play Store         US   \n",
       "4  2016-03-24T21:04:46              71.18  Tim Hortons #947751         US   \n",
       "\n",
       "  merchantCountryCode posEntryMode  ... echoBuffer currentBalance  \\\n",
       "0                  US           02  ...        NaN            0.0   \n",
       "1                  US           09  ...        NaN            0.0   \n",
       "2                  US           09  ...        NaN            0.0   \n",
       "3                  US           09  ...        NaN            0.0   \n",
       "4                  US           02  ...        NaN            0.0   \n",
       "\n",
       "  merchantCity merchantState merchantZip  cardPresent  posOnPremises  \\\n",
       "0          NaN           NaN         NaN        False            NaN   \n",
       "1          NaN           NaN         NaN         True            NaN   \n",
       "2          NaN           NaN         NaN        False            NaN   \n",
       "3          NaN           NaN         NaN        False            NaN   \n",
       "4          NaN           NaN         NaN         True            NaN   \n",
       "\n",
       "   recurringAuthInd expirationDateKeyInMatch  isFraud  \n",
       "0               NaN                    False    False  \n",
       "1               NaN                    False    False  \n",
       "2               NaN                    False    False  \n",
       "3               NaN                    False    False  \n",
       "4               NaN                    False    False  \n",
       "\n",
       "[5 rows x 29 columns]"
      ]
     },
     "execution_count": 3,
     "metadata": {},
     "output_type": "execute_result"
    }
   ],
   "source": [
    "# Load the file, which is line-delimited JSON format \n",
    "# Convert it into a pandas dataframe\n",
    "trans_df = pd.read_json('transactions.txt', lines=True)\n",
    "# Some of the missing values are in form of \"\" delimeters, replace with nan\n",
    "trans_df.replace('', np.nan, inplace=True)\n",
    "\n",
    "# Let us check the first few values\n",
    "trans_df.head()"
   ]
  },
  {
   "cell_type": "markdown",
   "id": "utility-nomination",
   "metadata": {},
   "source": [
    "**Let's get a sense of the names of the columns**"
   ]
  },
  {
   "cell_type": "code",
   "execution_count": 4,
   "id": "blessed-insulation",
   "metadata": {},
   "outputs": [
    {
     "data": {
      "text/plain": [
       "Index(['accountNumber', 'customerId', 'creditLimit', 'availableMoney',\n",
       "       'transactionDateTime', 'transactionAmount', 'merchantName',\n",
       "       'acqCountry', 'merchantCountryCode', 'posEntryMode', 'posConditionCode',\n",
       "       'merchantCategoryCode', 'currentExpDate', 'accountOpenDate',\n",
       "       'dateOfLastAddressChange', 'cardCVV', 'enteredCVV', 'cardLast4Digits',\n",
       "       'transactionType', 'echoBuffer', 'currentBalance', 'merchantCity',\n",
       "       'merchantState', 'merchantZip', 'cardPresent', 'posOnPremises',\n",
       "       'recurringAuthInd', 'expirationDateKeyInMatch', 'isFraud'],\n",
       "      dtype='object')"
      ]
     },
     "execution_count": 4,
     "metadata": {},
     "output_type": "execute_result"
    }
   ],
   "source": [
    "trans_df.columns"
   ]
  },
  {
   "cell_type": "markdown",
   "id": "reserved-oakland",
   "metadata": {},
   "source": [
    "**Get some general information about non-null count and data type**"
   ]
  },
  {
   "cell_type": "code",
   "execution_count": 4,
   "id": "proud-medicare",
   "metadata": {},
   "outputs": [
    {
     "name": "stdout",
     "output_type": "stream",
     "text": [
      "<class 'pandas.core.frame.DataFrame'>\n",
      "RangeIndex: 786363 entries, 0 to 786362\n",
      "Data columns (total 29 columns):\n",
      " #   Column                    Non-Null Count   Dtype  \n",
      "---  ------                    --------------   -----  \n",
      " 0   accountNumber             786363 non-null  int64  \n",
      " 1   customerId                786363 non-null  int64  \n",
      " 2   creditLimit               786363 non-null  int64  \n",
      " 3   availableMoney            786363 non-null  float64\n",
      " 4   transactionDateTime       786363 non-null  object \n",
      " 5   transactionAmount         786363 non-null  float64\n",
      " 6   merchantName              786363 non-null  object \n",
      " 7   acqCountry                781801 non-null  object \n",
      " 8   merchantCountryCode       785639 non-null  object \n",
      " 9   posEntryMode              782309 non-null  object \n",
      " 10  posConditionCode          785954 non-null  object \n",
      " 11  merchantCategoryCode      786363 non-null  object \n",
      " 12  currentExpDate            786363 non-null  object \n",
      " 13  accountOpenDate           786363 non-null  object \n",
      " 14  dateOfLastAddressChange   786363 non-null  object \n",
      " 15  cardCVV                   786363 non-null  int64  \n",
      " 16  enteredCVV                786363 non-null  int64  \n",
      " 17  cardLast4Digits           786363 non-null  int64  \n",
      " 18  transactionType           785665 non-null  object \n",
      " 19  echoBuffer                0 non-null       float64\n",
      " 20  currentBalance            786363 non-null  float64\n",
      " 21  merchantCity              0 non-null       float64\n",
      " 22  merchantState             0 non-null       float64\n",
      " 23  merchantZip               0 non-null       float64\n",
      " 24  cardPresent               786363 non-null  bool   \n",
      " 25  posOnPremises             0 non-null       float64\n",
      " 26  recurringAuthInd          0 non-null       float64\n",
      " 27  expirationDateKeyInMatch  786363 non-null  bool   \n",
      " 28  isFraud                   786363 non-null  bool   \n",
      "dtypes: bool(3), float64(9), int64(6), object(11)\n",
      "memory usage: 158.2+ MB\n"
     ]
    }
   ],
   "source": [
    "trans_df.info()"
   ]
  },
  {
   "cell_type": "markdown",
   "id": "satisfied-album",
   "metadata": {},
   "source": [
    "**Drop columns that have only null values**"
   ]
  },
  {
   "cell_type": "code",
   "execution_count": 23,
   "id": "literary-board",
   "metadata": {},
   "outputs": [],
   "source": [
    " trans_df.drop(['echoBuffer','merchantCity','merchantState','merchantZip','posOnPremises','recurringAuthInd'], axis=1, inplace=True)"
   ]
  },
  {
   "cell_type": "markdown",
   "id": "loaded-solid",
   "metadata": {},
   "source": [
    "## Description of the structure of the data\n",
    "\n",
    "The dataset consists of 786363 entries (number of records) and a total number of 28 fields for each record. We found above that 6 fields are totally empty, so we drop them.\n",
    "Finally, we have 786363 entries and 22 non-null fields."
   ]
  },
  {
   "cell_type": "markdown",
   "id": "compatible-current",
   "metadata": {},
   "source": [
    "## Description and summary statistics for the fields in the dataset\n",
    "\n",
    "We can apply the `describe()` pandas method to our dataset."
   ]
  },
  {
   "cell_type": "code",
   "execution_count": 6,
   "id": "aware-isaac",
   "metadata": {},
   "outputs": [
    {
     "data": {
      "text/html": [
       "<div>\n",
       "<style scoped>\n",
       "    .dataframe tbody tr th:only-of-type {\n",
       "        vertical-align: middle;\n",
       "    }\n",
       "\n",
       "    .dataframe tbody tr th {\n",
       "        vertical-align: top;\n",
       "    }\n",
       "\n",
       "    .dataframe thead th {\n",
       "        text-align: right;\n",
       "    }\n",
       "</style>\n",
       "<table border=\"1\" class=\"dataframe\">\n",
       "  <thead>\n",
       "    <tr style=\"text-align: right;\">\n",
       "      <th></th>\n",
       "      <th>accountNumber</th>\n",
       "      <th>customerId</th>\n",
       "      <th>creditLimit</th>\n",
       "      <th>availableMoney</th>\n",
       "      <th>transactionAmount</th>\n",
       "      <th>cardCVV</th>\n",
       "      <th>enteredCVV</th>\n",
       "      <th>cardLast4Digits</th>\n",
       "      <th>currentBalance</th>\n",
       "    </tr>\n",
       "  </thead>\n",
       "  <tbody>\n",
       "    <tr>\n",
       "      <th>count</th>\n",
       "      <td>7.863630e+05</td>\n",
       "      <td>7.863630e+05</td>\n",
       "      <td>786363.000000</td>\n",
       "      <td>786363.000000</td>\n",
       "      <td>786363.000000</td>\n",
       "      <td>786363.000000</td>\n",
       "      <td>786363.000000</td>\n",
       "      <td>786363.000000</td>\n",
       "      <td>786363.000000</td>\n",
       "    </tr>\n",
       "    <tr>\n",
       "      <th>mean</th>\n",
       "      <td>5.372326e+08</td>\n",
       "      <td>5.372326e+08</td>\n",
       "      <td>10759.464459</td>\n",
       "      <td>6250.725369</td>\n",
       "      <td>136.985791</td>\n",
       "      <td>544.467338</td>\n",
       "      <td>544.183857</td>\n",
       "      <td>4757.417799</td>\n",
       "      <td>4508.739089</td>\n",
       "    </tr>\n",
       "    <tr>\n",
       "      <th>std</th>\n",
       "      <td>2.554211e+08</td>\n",
       "      <td>2.554211e+08</td>\n",
       "      <td>11636.174890</td>\n",
       "      <td>8880.783989</td>\n",
       "      <td>147.725569</td>\n",
       "      <td>261.524220</td>\n",
       "      <td>261.551254</td>\n",
       "      <td>2996.583810</td>\n",
       "      <td>6457.442068</td>\n",
       "    </tr>\n",
       "    <tr>\n",
       "      <th>min</th>\n",
       "      <td>1.000881e+08</td>\n",
       "      <td>1.000881e+08</td>\n",
       "      <td>250.000000</td>\n",
       "      <td>-1005.630000</td>\n",
       "      <td>0.000000</td>\n",
       "      <td>100.000000</td>\n",
       "      <td>0.000000</td>\n",
       "      <td>0.000000</td>\n",
       "      <td>0.000000</td>\n",
       "    </tr>\n",
       "    <tr>\n",
       "      <th>25%</th>\n",
       "      <td>3.301333e+08</td>\n",
       "      <td>3.301333e+08</td>\n",
       "      <td>5000.000000</td>\n",
       "      <td>1077.420000</td>\n",
       "      <td>33.650000</td>\n",
       "      <td>310.000000</td>\n",
       "      <td>310.000000</td>\n",
       "      <td>2178.000000</td>\n",
       "      <td>689.910000</td>\n",
       "    </tr>\n",
       "    <tr>\n",
       "      <th>50%</th>\n",
       "      <td>5.074561e+08</td>\n",
       "      <td>5.074561e+08</td>\n",
       "      <td>7500.000000</td>\n",
       "      <td>3184.860000</td>\n",
       "      <td>87.900000</td>\n",
       "      <td>535.000000</td>\n",
       "      <td>535.000000</td>\n",
       "      <td>4733.000000</td>\n",
       "      <td>2451.760000</td>\n",
       "    </tr>\n",
       "    <tr>\n",
       "      <th>75%</th>\n",
       "      <td>7.676200e+08</td>\n",
       "      <td>7.676200e+08</td>\n",
       "      <td>15000.000000</td>\n",
       "      <td>7500.000000</td>\n",
       "      <td>191.480000</td>\n",
       "      <td>785.000000</td>\n",
       "      <td>785.000000</td>\n",
       "      <td>7338.000000</td>\n",
       "      <td>5291.095000</td>\n",
       "    </tr>\n",
       "    <tr>\n",
       "      <th>max</th>\n",
       "      <td>9.993896e+08</td>\n",
       "      <td>9.993896e+08</td>\n",
       "      <td>50000.000000</td>\n",
       "      <td>50000.000000</td>\n",
       "      <td>2011.540000</td>\n",
       "      <td>998.000000</td>\n",
       "      <td>998.000000</td>\n",
       "      <td>9998.000000</td>\n",
       "      <td>47498.810000</td>\n",
       "    </tr>\n",
       "  </tbody>\n",
       "</table>\n",
       "</div>"
      ],
      "text/plain": [
       "       accountNumber    customerId    creditLimit  availableMoney  \\\n",
       "count   7.863630e+05  7.863630e+05  786363.000000   786363.000000   \n",
       "mean    5.372326e+08  5.372326e+08   10759.464459     6250.725369   \n",
       "std     2.554211e+08  2.554211e+08   11636.174890     8880.783989   \n",
       "min     1.000881e+08  1.000881e+08     250.000000    -1005.630000   \n",
       "25%     3.301333e+08  3.301333e+08    5000.000000     1077.420000   \n",
       "50%     5.074561e+08  5.074561e+08    7500.000000     3184.860000   \n",
       "75%     7.676200e+08  7.676200e+08   15000.000000     7500.000000   \n",
       "max     9.993896e+08  9.993896e+08   50000.000000    50000.000000   \n",
       "\n",
       "       transactionAmount        cardCVV     enteredCVV  cardLast4Digits  \\\n",
       "count      786363.000000  786363.000000  786363.000000    786363.000000   \n",
       "mean          136.985791     544.467338     544.183857      4757.417799   \n",
       "std           147.725569     261.524220     261.551254      2996.583810   \n",
       "min             0.000000     100.000000       0.000000         0.000000   \n",
       "25%            33.650000     310.000000     310.000000      2178.000000   \n",
       "50%            87.900000     535.000000     535.000000      4733.000000   \n",
       "75%           191.480000     785.000000     785.000000      7338.000000   \n",
       "max          2011.540000     998.000000     998.000000      9998.000000   \n",
       "\n",
       "       currentBalance  \n",
       "count   786363.000000  \n",
       "mean      4508.739089  \n",
       "std       6457.442068  \n",
       "min          0.000000  \n",
       "25%        689.910000  \n",
       "50%       2451.760000  \n",
       "75%       5291.095000  \n",
       "max      47498.810000  "
      ]
     },
     "execution_count": 6,
     "metadata": {},
     "output_type": "execute_result"
    }
   ],
   "source": [
    "trans_df.describe()"
   ]
  },
  {
   "cell_type": "markdown",
   "id": "natural-luther",
   "metadata": {},
   "source": [
    "So, let us try to describe each one of the fields in the dataset with the appropriate metrics.\n",
    "\n",
    "Let us check one-by-one some of the most important columns/fields.\n",
    "**If you want a quick reference of the statistics of the dataset, you can skip the detailed analysis below and check directly the \"quick summary statistics for reference\" section.**\n",
    "\n",
    "- `accountNumber`: This field contains the account numbers for each transaction.  Let us check for NaN values and number of entries (unique accounts)."
   ]
  },
  {
   "cell_type": "code",
   "execution_count": 7,
   "id": "muslim-fault",
   "metadata": {},
   "outputs": [
    {
     "name": "stdout",
     "output_type": "stream",
     "text": [
      "Null values, accountNumber: 0\n"
     ]
    }
   ],
   "source": [
    "print('Null values, accountNumber:',trans_df['accountNumber'].isna().sum())"
   ]
  },
  {
   "cell_type": "markdown",
   "id": "nearby-particular",
   "metadata": {},
   "source": [
    "Great, we have zero null values. Let us check for unique values."
   ]
  },
  {
   "cell_type": "code",
   "execution_count": 8,
   "id": "higher-ghana",
   "metadata": {},
   "outputs": [
    {
     "name": "stdout",
     "output_type": "stream",
     "text": [
      "Unique values, accountNumber: 5000\n"
     ]
    }
   ],
   "source": [
    "print('Unique values, accountNumber:',trans_df['accountNumber'].nunique())"
   ]
  },
  {
   "cell_type": "markdown",
   "id": "filled-genealogy",
   "metadata": {},
   "source": [
    "We have 5000 different account numbers in our dataset. I am curious if some of them dominate the transaction numbers in the dataset. For that reason, let's plot the frequency (make a histogram) of unique account numbers. "
   ]
  },
  {
   "cell_type": "code",
   "execution_count": 6,
   "id": "imposed-paris",
   "metadata": {},
   "outputs": [
    {
     "data": {
      "image/png": "[encoded data removed]",
      "text/plain": [
       "<Figure size 432x360 with 1 Axes>"
      ]
     },
     "metadata": {
      "needs_background": "light"
     },
     "output_type": "display_data"
    }
   ],
   "source": [
    "Unique_acNumbers = trans_df['accountNumber'].value_counts(normalize=False).values\n",
    "\n",
    "# Make a plot \n",
    "plt.figure(figsize=(6,5))\n",
    "\n",
    "plt.hist(Unique_acNumbers[Unique_acNumbers<1000],color=cap1_blue, bins=30)\n",
    "plt.grid(ls='--',alpha=0.6)\n",
    "plt.title('Frequency of transactions per account',fontsize=15)\n",
    "plt.xticks(fontsize=16);plt.yticks(fontsize=16)\n",
    "plt.xlabel('No. of transactions', fontsize=15);plt.ylabel('No. of accounts', fontsize=15)\n",
    "plt.show()"
   ]
  },
  {
   "cell_type": "markdown",
   "id": "danish-suggestion",
   "metadata": {},
   "source": [
    "We see that the the majority of accounts have a small number of transactions ($<100$), with a small number of accounts having many transactions ($>1000$). It is something that is good to have in mind in future investigations."
   ]
  },
  {
   "cell_type": "markdown",
   "id": "junior-ceremony",
   "metadata": {},
   "source": [
    "- `customerId`\n",
    "\n",
    "This field seems to be the same as acount number. Let's confirm that."
   ]
  },
  {
   "cell_type": "code",
   "execution_count": 7,
   "id": "french-shareware",
   "metadata": {},
   "outputs": [
    {
     "name": "stdout",
     "output_type": "stream",
     "text": [
      "0\n"
     ]
    }
   ],
   "source": [
    "print((trans_df['accountNumber'] - trans_df['customerId']).sum())"
   ]
  },
  {
   "cell_type": "markdown",
   "id": "included-owner",
   "metadata": {},
   "source": [
    "- `transactionDateTime`\n",
    "\n",
    "Let's convert this column to datetime, for future ease"
   ]
  },
  {
   "cell_type": "code",
   "execution_count": 8,
   "id": "elementary-genealogy",
   "metadata": {},
   "outputs": [],
   "source": [
    "trans_df['transactionDateTime'] = pd.to_datetime(trans_df['transactionDateTime'],infer_datetime_format=True)"
   ]
  },
  {
   "cell_type": "code",
   "execution_count": 31,
   "id": "serial-check",
   "metadata": {},
   "outputs": [
    {
     "name": "stdout",
     "output_type": "stream",
     "text": [
      "Datetime start: 2016-01-01\n",
      "Datetime ends: 2016-12-30\n"
     ]
    }
   ],
   "source": [
    "print(\"Datetime start:\",trans_df['transactionDateTime'].dt.date.min())\n",
    "print(\"Datetime ends:\",trans_df['transactionDateTime'].dt.date.max())"
   ]
  },
  {
   "cell_type": "markdown",
   "id": "compound-argument",
   "metadata": {},
   "source": [
    "- `transactionAmount`\n",
    "\n",
    "We can see from the info that it doesn't have null values"
   ]
  },
  {
   "cell_type": "code",
   "execution_count": 14,
   "id": "weighted-tracker",
   "metadata": {},
   "outputs": [
    {
     "name": "stdout",
     "output_type": "stream",
     "text": [
      "Minimun amount: 0.0\n",
      "Maximum amount: 2011.54\n"
     ]
    }
   ],
   "source": [
    "print('Minimun amount:',trans_df['transactionAmount'].values.min())\n",
    "print('Maximum amount:',trans_df['transactionAmount'].values.max())"
   ]
  },
  {
   "cell_type": "code",
   "execution_count": 24,
   "id": "promising-effectiveness",
   "metadata": {},
   "outputs": [
    {
     "data": {
      "text/html": [
       "<div>\n",
       "<style scoped>\n",
       "    .dataframe tbody tr th:only-of-type {\n",
       "        vertical-align: middle;\n",
       "    }\n",
       "\n",
       "    .dataframe tbody tr th {\n",
       "        vertical-align: top;\n",
       "    }\n",
       "\n",
       "    .dataframe thead th {\n",
       "        text-align: right;\n",
       "    }\n",
       "</style>\n",
       "<table border=\"1\" class=\"dataframe\">\n",
       "  <thead>\n",
       "    <tr style=\"text-align: right;\">\n",
       "      <th></th>\n",
       "      <th>accountNumber</th>\n",
       "      <th>customerId</th>\n",
       "      <th>creditLimit</th>\n",
       "      <th>availableMoney</th>\n",
       "      <th>transactionDateTime</th>\n",
       "      <th>transactionAmount</th>\n",
       "      <th>merchantName</th>\n",
       "      <th>acqCountry</th>\n",
       "      <th>merchantCountryCode</th>\n",
       "      <th>posEntryMode</th>\n",
       "      <th>...</th>\n",
       "      <th>accountOpenDate</th>\n",
       "      <th>dateOfLastAddressChange</th>\n",
       "      <th>cardCVV</th>\n",
       "      <th>enteredCVV</th>\n",
       "      <th>cardLast4Digits</th>\n",
       "      <th>transactionType</th>\n",
       "      <th>currentBalance</th>\n",
       "      <th>cardPresent</th>\n",
       "      <th>expirationDateKeyInMatch</th>\n",
       "      <th>isFraud</th>\n",
       "    </tr>\n",
       "  </thead>\n",
       "  <tbody>\n",
       "    <tr>\n",
       "      <th>0</th>\n",
       "      <td>737265056</td>\n",
       "      <td>737265056</td>\n",
       "      <td>5000</td>\n",
       "      <td>5000.0</td>\n",
       "      <td>2016-08-13 14:27:32</td>\n",
       "      <td>98.55</td>\n",
       "      <td>Uber</td>\n",
       "      <td>US</td>\n",
       "      <td>US</td>\n",
       "      <td>02</td>\n",
       "      <td>...</td>\n",
       "      <td>2015-03-14</td>\n",
       "      <td>2015-03-14</td>\n",
       "      <td>414</td>\n",
       "      <td>414</td>\n",
       "      <td>1803</td>\n",
       "      <td>PURCHASE</td>\n",
       "      <td>0.0</td>\n",
       "      <td>False</td>\n",
       "      <td>False</td>\n",
       "      <td>False</td>\n",
       "    </tr>\n",
       "    <tr>\n",
       "      <th>1</th>\n",
       "      <td>737265056</td>\n",
       "      <td>737265056</td>\n",
       "      <td>5000</td>\n",
       "      <td>5000.0</td>\n",
       "      <td>2016-10-11 05:05:54</td>\n",
       "      <td>74.51</td>\n",
       "      <td>AMC #191138</td>\n",
       "      <td>US</td>\n",
       "      <td>US</td>\n",
       "      <td>09</td>\n",
       "      <td>...</td>\n",
       "      <td>2015-03-14</td>\n",
       "      <td>2015-03-14</td>\n",
       "      <td>486</td>\n",
       "      <td>486</td>\n",
       "      <td>767</td>\n",
       "      <td>PURCHASE</td>\n",
       "      <td>0.0</td>\n",
       "      <td>True</td>\n",
       "      <td>False</td>\n",
       "      <td>False</td>\n",
       "    </tr>\n",
       "    <tr>\n",
       "      <th>2</th>\n",
       "      <td>737265056</td>\n",
       "      <td>737265056</td>\n",
       "      <td>5000</td>\n",
       "      <td>5000.0</td>\n",
       "      <td>2016-11-08 09:18:39</td>\n",
       "      <td>7.47</td>\n",
       "      <td>Play Store</td>\n",
       "      <td>US</td>\n",
       "      <td>US</td>\n",
       "      <td>09</td>\n",
       "      <td>...</td>\n",
       "      <td>2015-03-14</td>\n",
       "      <td>2015-03-14</td>\n",
       "      <td>486</td>\n",
       "      <td>486</td>\n",
       "      <td>767</td>\n",
       "      <td>PURCHASE</td>\n",
       "      <td>0.0</td>\n",
       "      <td>False</td>\n",
       "      <td>False</td>\n",
       "      <td>False</td>\n",
       "    </tr>\n",
       "    <tr>\n",
       "      <th>3</th>\n",
       "      <td>737265056</td>\n",
       "      <td>737265056</td>\n",
       "      <td>5000</td>\n",
       "      <td>5000.0</td>\n",
       "      <td>2016-12-10 02:14:50</td>\n",
       "      <td>7.47</td>\n",
       "      <td>Play Store</td>\n",
       "      <td>US</td>\n",
       "      <td>US</td>\n",
       "      <td>09</td>\n",
       "      <td>...</td>\n",
       "      <td>2015-03-14</td>\n",
       "      <td>2015-03-14</td>\n",
       "      <td>486</td>\n",
       "      <td>486</td>\n",
       "      <td>767</td>\n",
       "      <td>PURCHASE</td>\n",
       "      <td>0.0</td>\n",
       "      <td>False</td>\n",
       "      <td>False</td>\n",
       "      <td>False</td>\n",
       "    </tr>\n",
       "    <tr>\n",
       "      <th>4</th>\n",
       "      <td>830329091</td>\n",
       "      <td>830329091</td>\n",
       "      <td>5000</td>\n",
       "      <td>5000.0</td>\n",
       "      <td>2016-03-24 21:04:46</td>\n",
       "      <td>71.18</td>\n",
       "      <td>Tim Hortons #947751</td>\n",
       "      <td>US</td>\n",
       "      <td>US</td>\n",
       "      <td>02</td>\n",
       "      <td>...</td>\n",
       "      <td>2015-08-06</td>\n",
       "      <td>2015-08-06</td>\n",
       "      <td>885</td>\n",
       "      <td>885</td>\n",
       "      <td>3143</td>\n",
       "      <td>PURCHASE</td>\n",
       "      <td>0.0</td>\n",
       "      <td>True</td>\n",
       "      <td>False</td>\n",
       "      <td>False</td>\n",
       "    </tr>\n",
       "  </tbody>\n",
       "</table>\n",
       "<p>5 rows × 23 columns</p>\n",
       "</div>"
      ],
      "text/plain": [
       "   accountNumber  customerId  creditLimit  availableMoney transactionDateTime  \\\n",
       "0      737265056   737265056         5000          5000.0 2016-08-13 14:27:32   \n",
       "1      737265056   737265056         5000          5000.0 2016-10-11 05:05:54   \n",
       "2      737265056   737265056         5000          5000.0 2016-11-08 09:18:39   \n",
       "3      737265056   737265056         5000          5000.0 2016-12-10 02:14:50   \n",
       "4      830329091   830329091         5000          5000.0 2016-03-24 21:04:46   \n",
       "\n",
       "   transactionAmount         merchantName acqCountry merchantCountryCode  \\\n",
       "0              98.55                 Uber         US                  US   \n",
       "1              74.51          AMC #191138         US                  US   \n",
       "2               7.47           Play Store         US                  US   \n",
       "3               7.47           Play Store         US                  US   \n",
       "4              71.18  Tim Hortons #947751         US                  US   \n",
       "\n",
       "  posEntryMode  ... accountOpenDate dateOfLastAddressChange cardCVV  \\\n",
       "0           02  ...      2015-03-14              2015-03-14     414   \n",
       "1           09  ...      2015-03-14              2015-03-14     486   \n",
       "2           09  ...      2015-03-14              2015-03-14     486   \n",
       "3           09  ...      2015-03-14              2015-03-14     486   \n",
       "4           02  ...      2015-08-06              2015-08-06     885   \n",
       "\n",
       "  enteredCVV cardLast4Digits  transactionType  currentBalance  cardPresent  \\\n",
       "0        414            1803         PURCHASE             0.0        False   \n",
       "1        486             767         PURCHASE             0.0         True   \n",
       "2        486             767         PURCHASE             0.0        False   \n",
       "3        486             767         PURCHASE             0.0        False   \n",
       "4        885            3143         PURCHASE             0.0         True   \n",
       "\n",
       "  expirationDateKeyInMatch  isFraud  \n",
       "0                    False    False  \n",
       "1                    False    False  \n",
       "2                    False    False  \n",
       "3                    False    False  \n",
       "4                    False    False  \n",
       "\n",
       "[5 rows x 23 columns]"
      ]
     },
     "execution_count": 24,
     "metadata": {},
     "output_type": "execute_result"
    }
   ],
   "source": [
    "trans_df[0:5]"
   ]
  },
  {
   "cell_type": "code",
   "execution_count": 22,
   "id": "structured-sitting",
   "metadata": {},
   "outputs": [
    {
     "name": "stdout",
     "output_type": "stream",
     "text": [
      "Min credit limit: 250\n",
      "Max credit limit: 50000\n"
     ]
    }
   ],
   "source": [
    "print('Min credit limit:',trans_df['creditLimit'].values.min())\n",
    "print('Max credit limit:',trans_df['creditLimit'].values.max())"
   ]
  },
  {
   "cell_type": "markdown",
   "id": "taken-channel",
   "metadata": {},
   "source": [
    "For the rest of the columns check the statistics below."
   ]
  },
  {
   "cell_type": "markdown",
   "id": "boolean-vertex",
   "metadata": {},
   "source": [
    "**Number of unique values, null values, min and max values at each column**\n",
    "\n",
    "Note that the min and max values are not very meaningful for some columns\n",
    "\n",
    "- Null values"
   ]
  },
  {
   "cell_type": "code",
   "execution_count": 27,
   "id": "photographic-diary",
   "metadata": {},
   "outputs": [
    {
     "data": {
      "text/plain": [
       "accountNumber                  0\n",
       "customerId                     0\n",
       "creditLimit                    0\n",
       "availableMoney                 0\n",
       "transactionDateTime            0\n",
       "transactionAmount              0\n",
       "merchantName                   0\n",
       "acqCountry                  4562\n",
       "merchantCountryCode          724\n",
       "posEntryMode                4054\n",
       "posConditionCode             409\n",
       "merchantCategoryCode           0\n",
       "currentExpDate                 0\n",
       "accountOpenDate                0\n",
       "dateOfLastAddressChange        0\n",
       "cardCVV                        0\n",
       "enteredCVV                     0\n",
       "cardLast4Digits                0\n",
       "transactionType              698\n",
       "currentBalance                 0\n",
       "cardPresent                    0\n",
       "expirationDateKeyInMatch       0\n",
       "isFraud                        0\n",
       "dtype: int64"
      ]
     },
     "execution_count": 27,
     "metadata": {},
     "output_type": "execute_result"
    }
   ],
   "source": [
    "trans_df.isna().sum()"
   ]
  },
  {
   "cell_type": "markdown",
   "id": "animal-dietary",
   "metadata": {},
   "source": [
    "- Unique values"
   ]
  },
  {
   "cell_type": "code",
   "execution_count": 28,
   "id": "desirable-first",
   "metadata": {},
   "outputs": [
    {
     "data": {
      "text/plain": [
       "accountNumber                 5000\n",
       "customerId                    5000\n",
       "creditLimit                     10\n",
       "availableMoney              521915\n",
       "transactionDateTime         776637\n",
       "transactionAmount            66038\n",
       "merchantName                  2490\n",
       "acqCountry                       4\n",
       "merchantCountryCode              4\n",
       "posEntryMode                     5\n",
       "posConditionCode                 3\n",
       "merchantCategoryCode            19\n",
       "currentExpDate                 165\n",
       "accountOpenDate               1820\n",
       "dateOfLastAddressChange       2184\n",
       "cardCVV                        899\n",
       "enteredCVV                     976\n",
       "cardLast4Digits               5245\n",
       "transactionType                  3\n",
       "currentBalance              487318\n",
       "cardPresent                      2\n",
       "expirationDateKeyInMatch         2\n",
       "isFraud                          2\n",
       "dtype: int64"
      ]
     },
     "execution_count": 28,
     "metadata": {},
     "output_type": "execute_result"
    }
   ],
   "source": [
    "trans_df.nunique()"
   ]
  },
  {
   "cell_type": "markdown",
   "id": "quiet-botswana",
   "metadata": {},
   "source": [
    "- **Minimum values**\n",
    "\n",
    "(Note: not always miningful)"
   ]
  },
  {
   "cell_type": "code",
   "execution_count": 20,
   "id": "reflected-concern",
   "metadata": {},
   "outputs": [
    {
     "name": "stdout",
     "output_type": "stream",
     "text": [
      "accountNumber                         100088067\n",
      "customerId                            100088067\n",
      "creditLimit                                 250\n",
      "availableMoney                         -1005.63\n",
      "transactionDateTime         2016-01-01 00:01:02\n",
      "transactionAmount                          0.00\n",
      "merchantName                            1st BBQ\n",
      "merchantCategoryCode                    airline\n",
      "currentExpDate                          01/2020\n",
      "accountOpenDate                      1989-08-22\n",
      "dateOfLastAddressChange              1989-08-22\n",
      "cardCVV                                     100\n",
      "enteredCVV                                    0\n",
      "cardLast4Digits                               0\n",
      "echoBuffer                                  NaN\n",
      "currentBalance                             0.00\n",
      "merchantCity                                NaN\n",
      "merchantState                               NaN\n",
      "merchantZip                                 NaN\n",
      "cardPresent                               False\n",
      "posOnPremises                               NaN\n",
      "recurringAuthInd                            NaN\n",
      "expirationDateKeyInMatch                  False\n",
      "isFraud                                   False\n",
      "dtype: object\n"
     ]
    }
   ],
   "source": [
    "print(trans_df.min())"
   ]
  },
  {
   "cell_type": "markdown",
   "id": "sixth-scientist",
   "metadata": {},
   "source": [
    "- **Maximum values**"
   ]
  },
  {
   "cell_type": "code",
   "execution_count": 21,
   "id": "tired-tournament",
   "metadata": {},
   "outputs": [
    {
     "name": "stdout",
     "output_type": "stream",
     "text": [
      "accountNumber                         999389635\n",
      "customerId                            999389635\n",
      "creditLimit                               50000\n",
      "availableMoney                         50000.00\n",
      "transactionDateTime         2016-12-30 23:59:45\n",
      "transactionAmount                       2011.54\n",
      "merchantName                 williamssonoma.com\n",
      "merchantCategoryCode              subscriptions\n",
      "currentExpDate                          12/2032\n",
      "accountOpenDate                      2015-12-31\n",
      "dateOfLastAddressChange              2016-12-30\n",
      "cardCVV                                     998\n",
      "enteredCVV                                  998\n",
      "cardLast4Digits                            9998\n",
      "echoBuffer                                  NaN\n",
      "currentBalance                         47498.81\n",
      "merchantCity                                NaN\n",
      "merchantState                               NaN\n",
      "merchantZip                                 NaN\n",
      "cardPresent                                True\n",
      "posOnPremises                               NaN\n",
      "recurringAuthInd                            NaN\n",
      "expirationDateKeyInMatch                   True\n",
      "isFraud                                    True\n",
      "dtype: object\n"
     ]
    }
   ],
   "source": [
    "print(trans_df.max())"
   ]
  },
  {
   "cell_type": "markdown",
   "id": "powerful-railway",
   "metadata": {},
   "source": [
    "# Question: Plot\n",
    "\n",
    "In this part we plot a histogram of the processed amounts of each transaction."
   ]
  },
  {
   "cell_type": "code",
   "execution_count": 42,
   "id": "earlier-disco",
   "metadata": {},
   "outputs": [
    {
     "data": {
      "image/png": "[encoded data removed]",
      "text/plain": [
       "<Figure size 576x432 with 1 Axes>"
      ]
     },
     "metadata": {
      "needs_background": "light"
     },
     "output_type": "display_data"
    }
   ],
   "source": [
    "prossAmount = trans_df['transactionAmount'].values\n",
    "\n",
    "\n",
    "plt.figure(figsize=(8,6))\n",
    "plt.hist(prossAmount, color=cap1_blue, bins=30)\n",
    "plt.grid(ls='--',alpha=0.6)\n",
    "plt.title(\"Histogram of processed transaction amounts\", fontsize=16)\n",
    "plt.xlabel(r'Transaction Amount $(\\$)$',fontsize=18);plt.ylabel('No. of transactions', fontsize=18)\n",
    "plt.show()"
   ]
  },
  {
   "cell_type": "markdown",
   "id": "bizarre-library",
   "metadata": {},
   "source": [
    "It is not easy to see the distribution of transactions with transaction amounts > 1000 $\\$$, because there. Let's make a plot to see the distribution of transactions as a function of the transaction amount."
   ]
  },
  {
   "cell_type": "code",
   "execution_count": 39,
   "id": "congressional-reference",
   "metadata": {},
   "outputs": [
    {
     "data": {
      "image/png": "[encoded data removed]",
      "text/plain": [
       "<Figure size 576x360 with 1 Axes>"
      ]
     },
     "metadata": {
      "needs_background": "light"
     },
     "output_type": "display_data"
    }
   ],
   "source": [
    "plt.figure(figsize=(8,5))\n",
    "plt.hist(prossAmount[prossAmount>1000], color=cap1_blue, bins=30)\n",
    "plt.grid(ls='--',alpha=0.6)\n",
    "plt.title(\"Histogram of processed transaction amounts $> 1000\\$ $\", fontsize=16)\n",
    "plt.xlabel(r'Transaction Amount $(\\$)$',fontsize=18);plt.ylabel('No. of transactions', fontsize=18)\n",
    "plt.show()"
   ]
  },
  {
   "cell_type": "markdown",
   "id": "opposed-stewart",
   "metadata": {},
   "source": [
    "- **Structure in the data**\n",
    "\n",
    "The distribution presents (approximately) what is known as a power law distribution, where transactions with large transaction amounts (e.g. $>10$) are much less frequent than transactions with small transaction amounts (e.g. $< 10 \\$$).\n",
    "\n",
    "Such distributions (sometimes known as the 80/20 law, long-tail distributions, pareto distribution etc) are prevelant in the distribution of social phenomena (e.g. distribution of city sizes, occurance of words in texts etc) where less extreme values (e.g. small towns, common words) occur in a disproportionally larger fraction. \n",
    "\n",
    "In the present case, the distribution we observe above can be easily explained by our common experience: we use our credit card many times over the course of a day to make small-amount purchases (e.g. buy a coffee, a quick meal etc), less frequently for intermediate-amount purchases (e.g. grocery store visits) and even less frequntly for large-amount purchases (e.g. plance tickets for international destinations etc). \n"
   ]
  },
  {
   "cell_type": "markdown",
   "id": "strong-infection",
   "metadata": {},
   "source": [
    "# Question: Data Wrangling - Duplicate Transactions\n",
    "\n",
    "In this part we will investigate duplicate transactions that are present in the dataset. Specifically we are interested in **reversed transactions** (when a purchase is followed by a reversal) and **multi-swipe** (accidentally charging a card multiple times).  \n",
    "\n",
    "I spent a lot of time visually investigating the dataset, trying to get a sense of when reversed and multi-swipe transactions occur (and how they are encoded in the dataset). Here are some of my findings:\n",
    "\n",
    "\n",
    "- First of all, there exist duplicates that do not seem to correspond to any of the above categories. For example one of the first duplicate transactions are two purchases on Play Store ($7.47\\$$ each), that do not correspond to a reversed transaction (both have a `PURCHASE` label in the `transactionType` column), neither multi-swipe (happened with a difference of over a year).\n",
    "\n",
    "- Some times between the PURCHASE and the REVRSAL other transactions have happened. Not all reversed transactions correspond to two subsequent rows in the dataset. \n",
    "\n",
    "- Although all the REVERSALS that I have inspected seem to have a corresponding PURCHASE (same transaction amount, same merchant name, same account number), I am not sure that all REVERSALS correspond to reversed purchases as defined here. For example, some may correspond to a smaller amount, due to errorneous initial amount in purchase, etc. In other words, we cannot be absolutely sure that selecting the transactions with a transaction type of `REVERSAL` will give us only reversed purchases.\n",
    "\n",
    "- For multi-swipes: from my investigation, these are duplicate transactions that follow each other (subsequent rows) and within a short period of time (e.g. < 60 seconds).\n",
    "\n",
    "So, here I will follow the follow **strategy** to define and **find** reversed and multi-swipe transactions:\n",
    "\n",
    "- For **reversed transaction**: Find duplicates (two `transactionAmount` entries being the same), where the first one of them has a `transactionType` of PURCHASE and the second REVERSAL, by the same `accountNumber`, same credit card (as indicated by `cardLast4Digits`) and same `merchantName`. For simplicity, check duplicates that conform to those criteria and are separated by max 100 rows. (That's to simplify and make faster the computation). \n",
    "\n",
    "- Compare the results of the above method with those we get assuming that all transactions with a `REVERSAL` correspond to reversed purchases. \n",
    "\n",
    "- For **multi-swipe** transactions: Find duplicates (same `transactionAmount`entries being the), that both of them have a `transactionType` of PURCHASE and the time difference between them is small, let's say $<60$ seconds (although we can check how the results depend on the exact number)."
   ]
  },
  {
   "cell_type": "markdown",
   "id": "persistent-solid",
   "metadata": {},
   "source": [
    "### Reversed Transactions\n",
    "\n",
    "Let's find the reversed transactions (total number and total amount) according to the above definition."
   ]
  },
  {
   "cell_type": "code",
   "execution_count": 43,
   "id": "placed-boating",
   "metadata": {},
   "outputs": [],
   "source": [
    "trans_type = trans_df['transactionType'] # Transaction type, we will need it\n",
    "merch_name = trans_df['merchantName'] # Merchant name, we will need it\n",
    "\n",
    "rev_amount = [] #Initialize a list that keeps the transaction amounts\n",
    "rev_Fraud = [] # Initialize a list that keeps the Fraud/no Fraud labels\n",
    "\n",
    "for i in range(1,100):\n",
    "    # Difference between transaction amount\n",
    "    diff_am_i = trans_df['transactionAmount'].diff(periods=i)\n",
    "    # Difference in credit card numbers\n",
    "    diff_card_i = trans_df['cardLast4Digits'].diff(periods=i)\n",
    "    \n",
    "    # Are the merchant names the same?\n",
    "    merch_same = merch_name.eq(merch_name.shift(periods=i))\n",
    "    \n",
    "    \n",
    "    # Define criteria for reversed\n",
    "    crit_reversed = (diff_card_i==0)&(diff_am_i==0)&(trans_type=='REVERSAL')&(merch_same==True)\n",
    "    reversed_trans = trans_df['transactionAmount'][crit_reversed]\n",
    "    reversed_isFraud = trans_df['isFraud'][crit_reversed]\n",
    "    \n",
    "    # Append the lists\n",
    "    rev_amount += list(reversed_trans.values)\n",
    "    rev_Fraud += list(reversed_isFraud.values)  "
   ]
  },
  {
   "cell_type": "code",
   "execution_count": 44,
   "id": "acquired-bacon",
   "metadata": {},
   "outputs": [
    {
     "name": "stdout",
     "output_type": "stream",
     "text": [
      "Number of reversed transactions: 15604\n",
      "Total transaction amount (in million dollars): 2.258749409999998\n"
     ]
    }
   ],
   "source": [
    "print('Number of reversed transactions:',len(rev_amount))\n",
    "print('Total transaction amount (in million dollars):',sum(rev_amount)/1e6)"
   ]
  },
  {
   "cell_type": "markdown",
   "id": "absolute-florist",
   "metadata": {},
   "source": [
    "**Results**: We have about 15600 reversed transactions, amounting a total of $\\sim 2.25$ million $\\$$.\n",
    "\n",
    "If we consider now all the reversals (not just the reversed transactions as we defined them above), then we have:"
   ]
  },
  {
   "cell_type": "code",
   "execution_count": 49,
   "id": "tight-miller",
   "metadata": {},
   "outputs": [],
   "source": [
    "reversals = trans_df[trans_df['transactionType']=='REVERSAL']\n",
    "trans__amount_reversals = trans_df[trans_df['transactionType']=='REVERSAL']['transactionAmount']"
   ]
  },
  {
   "cell_type": "code",
   "execution_count": 50,
   "id": "figured-unknown",
   "metadata": {},
   "outputs": [
    {
     "name": "stdout",
     "output_type": "stream",
     "text": [
      "20303\n",
      "2.8217924999999755\n"
     ]
    }
   ],
   "source": [
    "print(len(reversals))\n",
    "print(sum(trans__amount_reversals)/1e6)"
   ]
  },
  {
   "cell_type": "markdown",
   "id": "graduate-samba",
   "metadata": {},
   "source": [
    "Thus if we were assuming that all transactions with some reversal correspond to reversed transactions, we now have $> 20000$ such transactions, with a total transaction amount of\n",
    "$\\sim2.82$  million $\\$$."
   ]
  },
  {
   "cell_type": "markdown",
   "id": "allied-analyst",
   "metadata": {},
   "source": [
    "### Multi-Swipe\n",
    "\n",
    "Let's find now the multi-swipe transactions, according to the strategy mentioned above. I will also make the simplifying assumption that all of them are only happen two times in a row. \n",
    "\n",
    "\n",
    "**Update** Initially, I said that we would sent the time difference to be $<60$ seconds. However I relaized that results keep changing when increasing the time difference up to $<200$; after that threshold the number of multi-swipe transactions stops increasing."
   ]
  },
  {
   "cell_type": "code",
   "execution_count": 53,
   "id": "amazing-respect",
   "metadata": {},
   "outputs": [],
   "source": [
    "swipe_amount = [] #Initialize a list that keeps the transaction amounts\n",
    "swipe_Fraud = [] # Initialize a list that keeps the Fraud/no Fraud labels\n",
    "\n",
    "for i in range(1,5):\n",
    "    # Get differences between transaction amounts, only subsequent rows\n",
    "    diff_amount = trans_df['transactionAmount'].diff(periods=i)\n",
    "    # Get differences between credit card numbers, only subsequent rows\n",
    "    diff_card = trans_df['cardLast4Digits'].diff(periods=i)\n",
    "    # Are the merchant names the same?\n",
    "    merch_same = merch_name.eq(merch_name.shift(periods=i))\n",
    "    # Get differences between transaction date/time, only subsequent rows\n",
    "    difftime = trans_df['transactionDateTime'].diff(periods=i)\n",
    "    # Convert to seconds\n",
    "    diff_seconds = difftime.dt.total_seconds().values\n",
    "\n",
    "\n",
    "    # get the transactions that pass the multi-swipe criteria as stated earlier\n",
    "    criteria = (diff_card==0)&(diff_amount==0)&(trans_type!='REVERSAL')&(merch_same==True)&(diff_seconds<200)\n",
    "    mult_sw_trans = trans_df['transactionAmount'][criteria]\n",
    "    mult_sw_Fraud = trans_df['isFraud'][criteria]\n",
    "    \n",
    "    # Append the lists\n",
    "    swipe_amount += list(mult_sw_trans.values)\n",
    "    swipe_Fraud += list(mult_sw_Fraud.values)  "
   ]
  },
  {
   "cell_type": "markdown",
   "id": "automotive-school",
   "metadata": {},
   "source": [
    "Convert lists to arrays"
   ]
  },
  {
   "cell_type": "code",
   "execution_count": 54,
   "id": "agreed-sculpture",
   "metadata": {},
   "outputs": [],
   "source": [
    "rev_amount = np.asarray(rev_amount)\n",
    "rev_Fraud = np.asarray(rev_Fraud)\n",
    "swipe_amount = np.asarray(swipe_amount)\n",
    "swipe_Fraud = np.asarray(swipe_Fraud)"
   ]
  },
  {
   "cell_type": "code",
   "execution_count": 55,
   "id": "alpha-telephone",
   "metadata": {},
   "outputs": [
    {
     "name": "stdout",
     "output_type": "stream",
     "text": [
      "Number of multi-swipe transactions: 8142\n",
      "Total transaction amount (in million dollars): 1.174953989999993\n"
     ]
    }
   ],
   "source": [
    "print('Number of multi-swipe transactions:',len(swipe_amount))\n",
    "print('Total transaction amount (in million dollars):',sum(swipe_amount)/1e6)"
   ]
  },
  {
   "cell_type": "markdown",
   "id": "suited-universe",
   "metadata": {},
   "source": [
    "**Results:**\n",
    "\n",
    "We have less multi-swipe transactions (8142) compared to reversed transactions, and a lower total transaction amount ($\\sim 1.17$ million $\\$$)."
   ]
  },
  {
   "cell_type": "markdown",
   "id": "atomic-evanescence",
   "metadata": {},
   "source": [
    "### Is there anything interesting about any of these two types fo transactions?\n",
    "\n",
    "I suspect that these two types of transactioms may have something to tell us about the number of fraudulent transactions.\n",
    "\n",
    "For example, a reversed transaction is more probable to have been reversed because it is a (suspected) fraud. Here I will investigate this hypothesis.\n",
    "\n",
    "Let's start by plotting (normalized) histograms of the two type of transactions, and separate those belonging to the fraudulent and normal classes."
   ]
  },
  {
   "cell_type": "code",
   "execution_count": 62,
   "id": "studied-dressing",
   "metadata": {},
   "outputs": [
    {
     "data": {
      "image/png": "[encoded data removed]",
      "text/plain": [
       "<Figure size 576x360 with 1 Axes>"
      ]
     },
     "metadata": {
      "needs_background": "light"
     },
     "output_type": "display_data"
    }
   ],
   "source": [
    "plt.figure(figsize=(8,5))\n",
    "\n",
    "plt.hist(swipe_amount[swipe_Fraud==True],color=cap1_blue, bins=30,density=True,label='Fraud')\n",
    "plt.hist(swipe_amount[swipe_Fraud==False],color=cap1_red, bins=30,density=True,alpha=0.5,label='Normal')\n",
    "plt.grid(ls='--',alpha=0.6)\n",
    "plt.title(\"processed transaction amounts -- Multi-swipe transactions\", fontsize=16)\n",
    "\n",
    "plt.xlabel('Transaction amount',fontsize=16)\n",
    "plt.ylabel('Normalized frequency', fontsize=16)\n",
    "\n",
    "plt.legend(frameon=True, loc='upper right', fontsize=20)\n",
    "plt.show()"
   ]
  },
  {
   "cell_type": "code",
   "execution_count": 66,
   "id": "union-plenty",
   "metadata": {},
   "outputs": [
    {
     "data": {
      "image/png": "[encoded data removed]",
      "text/plain": [
       "<Figure size 576x360 with 1 Axes>"
      ]
     },
     "metadata": {
      "needs_background": "light"
     },
     "output_type": "display_data"
    }
   ],
   "source": [
    "plt.figure(figsize=(8,5))\n",
    "\n",
    "plt.hist(rev_amount[rev_Fraud==True],color=cap1_blue, bins=30,density=True,label='Fraud')\n",
    "plt.hist(rev_amount[rev_Fraud==False],color=cap1_red, bins=30,density=True,alpha=0.5,label='Normal')\n",
    "\n",
    "plt.grid(ls='--',alpha=0.6)\n",
    "plt.title(\"processed transaction amounts -- Reversed transactions\", fontsize=16)\n",
    "\n",
    "plt.xlabel('Transaction amount',fontsize=16)\n",
    "plt.ylabel('Normalized frequency', fontsize=16)\n",
    "plt.legend(frameon=True, loc='upper right', fontsize=20)\n",
    "plt.show()"
   ]
  },
  {
   "cell_type": "markdown",
   "id": "incorporated-kingston",
   "metadata": {},
   "source": [
    "The above plots show that in both cases we have more  fraudulent transactions  when considering higher transaction amounts; however this is generally true, not only for reversed or multi-swipe transactions, but for any type of transaction.\n",
    "\n",
    "From the above plots it is not clear if there is anything particularly special about any of these transaction types.\n",
    "\n",
    "### Relative number of fraudulent transactions at high transaction amounts\n",
    "\n",
    "I will start with an **assumption**:\n",
    "\n",
    "I assume (something that I honestly figured out by tinkering and inspecting data at high transaction amounts), that the proportion of fraudulent transactions compared to the total number of tranasctions will be higher for reversed transactions if we select transactions above an amount threshold.\n",
    "\n",
    "\n",
    "For that reason I plot that proportion (fraudulent/total number of transactions) for different amount thresholds (select transactions above the threshold) and for: reversed, multi-swipe and all transaction (the whole dataset, including the reversed and multi-swipe).\n"
   ]
  },
  {
   "cell_type": "code",
   "execution_count": 67,
   "id": "opponent-senate",
   "metadata": {},
   "outputs": [],
   "source": [
    "tot_amount = trans_df['transactionAmount'].values\n",
    "tot_Fraud =  trans_df['isFraud'].values"
   ]
  },
  {
   "cell_type": "code",
   "execution_count": 68,
   "id": "naval-result",
   "metadata": {},
   "outputs": [],
   "source": [
    "n_thresh = 100\n",
    "thresh = np.linspace(10,600,n_thresh)\n",
    "props_rev = np.zeros(n_thresh)\n",
    "props_swipe = np.zeros(n_thresh)\n",
    "props_tot = np.zeros(n_thresh)\n",
    "\n",
    "\n",
    "for i in range(n_thresh):\n",
    "    thres = thresh[i]\n",
    "    props_rev[i] = len(rev_amount[(rev_Fraud==True)&(rev_amount>thres)])/len(rev_amount[(rev_amount>thres)])\n",
    "    props_swipe[i] = len(swipe_amount[(swipe_Fraud==True)&(swipe_amount>thres)])/len(swipe_amount[(swipe_amount>thres)])\n",
    "    props_tot[i] =  len(tot_amount[(tot_Fraud==True)&(tot_amount>thres)])/len(tot_amount[(tot_amount>thres)])"
   ]
  },
  {
   "cell_type": "code",
   "execution_count": 70,
   "id": "appointed-springfield",
   "metadata": {},
   "outputs": [
    {
     "data": {
      "image/png": "[encoded data removed]",
      "text/plain": [
       "<Figure size 648x432 with 1 Axes>"
      ]
     },
     "metadata": {
      "needs_background": "light"
     },
     "output_type": "display_data"
    }
   ],
   "source": [
    "plt.figure(figsize=(9,6))\n",
    "\n",
    "\n",
    "plt.plot(thresh,props_rev,c=cap1_blue,linewidth=2,label='Reversed')\n",
    "plt.plot(thresh,props_swipe,c=cap1_red,linewidth=2, label='Multi-Swipe')\n",
    "plt.plot(thresh,props_tot,c='green',linewidth=2, label='All')\n",
    "plt.grid(ls='--',alpha=0.6)\n",
    "plt.title('Proportion of fraudulent transactions at different amount threshold levels', fontsize=15)\n",
    "\n",
    "plt.xticks(fontsize=12);plt.yticks(fontsize=12)\n",
    "plt.xlabel('Transaction amount threshold ($\\$$)', fontsize=20)\n",
    "plt.ylabel('Proportion of fraudulent transactions', fontsize=20)\n",
    "plt.legend(frameon=True, loc='upper left', fontsize=20)\n",
    "plt.show()"
   ]
  },
  {
   "cell_type": "markdown",
   "id": "smooth-department",
   "metadata": {},
   "source": [
    "**Results:** What we see in the above plot confirms my hypothesis: for large transaction amounts (e.g. $> 500 \\$$), reversed transactions have a proportionally larger number of fraudulent transactions (note that however this is still quite low, about $6\\%$ of the total number of reversed transactions)."
   ]
  },
  {
   "cell_type": "markdown",
   "id": "extreme-membrane",
   "metadata": {},
   "source": [
    "# Question: Model\n",
    "\n",
    "Fraudulent credit card transactions is a serious problem in banking. In this part we will develop a predictive model for fraudulent transactions. Namely, we will use the data we have to train a **classifier** able to distinguish between a fraudulent and non-fraudulent (normal) transactions. \n",
    "\n",
    "## Target classes\n",
    "\n",
    "Before start thinking about how to create this predictive model, let us inspect the number of examples in the target classes.  Below we calcuate the number and create a bar plot of the fraudulent and clean transactions."
   ]
  },
  {
   "cell_type": "code",
   "execution_count": 288,
   "id": "orange-listening",
   "metadata": {},
   "outputs": [
    {
     "name": "stdout",
     "output_type": "stream",
     "text": [
      "No. of fraudulent transactions: 12417\n",
      "No. of non-fraudulent transactions: 773946\n"
     ]
    }
   ],
   "source": [
    "# Get the target value classes (Fraud/Not Fraud)\n",
    "# Convert the Boolean array (True/False) into integers (0/1) that\n",
    "# A classifier can uderstand\n",
    "y_target = trans_df['isFraud'].values.astype(int)\n",
    "\n",
    "# Let's print and then plot the number of Fraudulent and non-Fraudulent transactions\n",
    "n_Fraud = len(y_target[y_target==1])\n",
    "n_nonFraud = len(y_target[y_target==0])\n",
    "\n",
    "print('No. of fraudulent transactions:', n_Fraud)\n",
    "print('No. of non-fraudulent transactions:', n_nonFraud)"
   ]
  },
  {
   "cell_type": "markdown",
   "id": "fallen-international",
   "metadata": {},
   "source": [
    "Let's make a plot, to see that better"
   ]
  },
  {
   "cell_type": "code",
   "execution_count": 289,
   "id": "previous-addition",
   "metadata": {},
   "outputs": [
    {
     "data": {
      "image/png": "[encoded data removed]",
      "text/plain": [
       "<Figure size 360x360 with 1 Axes>"
      ]
     },
     "metadata": {
      "needs_background": "light"
     },
     "output_type": "display_data"
    }
   ],
   "source": [
    "fig = plt.figure(figsize=(5.,5.))\n",
    "plt.barh(4, n_nonFraud/10000, height=1.1, color=cap1_blue, label='Normal')\n",
    "plt.barh(2, n_Fraud/10000, height=1.1, color=cap1_red, label='Fraud')\n",
    "plt.grid(ls='--', axis='x', alpha=0.6)\n",
    "\n",
    "plt.xticks(fontsize=16)\n",
    "plt.yticks([1,2,4,5],(),fontsize=10)\n",
    "plt.legend(frameon=True, loc='lower right', fontsize=20)\n",
    "plt.xlabel(r'Number of transactions ($\\times$ 10k)', fontsize=20)\n",
    "plt.tight_layout()\n",
    "plt.show()"
   ]
  },
  {
   "cell_type": "markdown",
   "id": "serial-carroll",
   "metadata": {},
   "source": [
    "We see that the target classes are **heavily imbalanced**, in other words we have many more non-fraudulent transactions ($\\sim 774$k) than fraudulent ones ($\\sim 12$k). The fraudulent transactions represent less than $1.6\\%$ of the total number of transactions, something expected if the dataset represents real world data.\n",
    "\n",
    "So, when building our predictive model we should appropriately take this class imbalance into account.\n",
    "\n",
    "\n",
    "## Simplifying assumptions for a baseline model\n",
    "\n",
    "Here, I will make a few assumptions for our first model.\n",
    "\n",
    "- Assumption one: We will not use any **time information**. For example, one can imagine that the number of previous transactions, and even more importantly the number of previous fraudulent transactions by a specific credit number can be a strong predictor for future fraudulent behavior. However this requires a careful treatment of the way we split the dataset into training-validation-test sets, in order not to have leaking information between them, and blending forecasting with binary prediction models. We will drop it for now.\n",
    "\n",
    "- Some acount numbers/credit cards or merchants may have a higher number of fraudulent transactions. But this require some splitting of data based on time, that we will avoid in our baseline feature selection.\n",
    "\n",
    "- Furthermore, I assume that building a model based on past behavior of customer may not be very useful if we want to apply it to transactions from new customers. \n",
    "\n",
    "Having made this assumptions, let us start the dataset preprocessing.\n",
    "\n",
    "## Dataset Preprocessing\n",
    "\n",
    "Let's discuss and perform some data preprocessing steps here.\n",
    "\n",
    "### Columns to drop\n",
    "\n",
    "Based on the assumptions above, I will drop the following columns:\n",
    "\n",
    "- `accountNumber`,`customerId`,`transactionDateTime`\n",
    "- `merchantName`,`currentExpDate`, `accountOpenDate`\n",
    "- `dateOfLastAddressChange`, `cardCVV`, `enteredCVV`,`cardLast4Digits`\n",
    "\n",
    "Let's also drop the `isFraud` label column, since we have already kept the labels above. \n",
    "\n",
    "We drop the `cardCVV` and `enteredCVV` columns, we expect however that the fact these two are the same or not may provide significant information about an attempted fraudulent transaction.\n",
    "\n",
    "Thus, before droping them, I will create a boolean array that is true if the two are the same and false otherwise.\n",
    "\n",
    "Furthermore, we have two columns, `acqCountry` code, and `merchantCountryCode`. We create a new substitute them with a new feature that just shows if the two countries match, and then drop the `acqCountry`.\n",
    "\n",
    "\n",
    "**Note:** Although it consumes memory, I find it to be a good practice to store to create a new dataframe every time I make a significant preprocessing change. That way it prevents accidental errors when, for example, running the same cell twice etc. I'll give them letter names, like df_a, df_b, etc"
   ]
  },
  {
   "cell_type": "code",
   "execution_count": 71,
   "id": "arbitrary-messaging",
   "metadata": {},
   "outputs": [],
   "source": [
    "# Find if the CVVs match\n",
    "matching_CVV = ~(trans_df.enteredCVV - trans_df.cardCVV).astype(bool)\n",
    "# Convert to a dataframe\n",
    "matching_CVV_df = pd.DataFrame({'matchCVV':matching_CVV})\n",
    "\n",
    "# ==================================================================\n",
    "# Boolean array - do the two countries match?\n",
    "matching_countries = trans_df.acqCountry == trans_df.merchantCountryCode\n",
    "# Convert to a dataframe\n",
    "matching_countries_df = pd.DataFrame({'matchCountries':matching_countries})"
   ]
  },
  {
   "cell_type": "code",
   "execution_count": 72,
   "id": "judicial-shopper",
   "metadata": {},
   "outputs": [],
   "source": [
    "# Make a list of the columns I am going to drop \n",
    "cols_to_drop = ['accountNumber','customerId','transactionDateTime',\n",
    "               'currentExpDate', 'accountOpenDate','dateOfLastAddressChange','merchantName',\n",
    "               'cardCVV', 'enteredCVV','cardLast4Digits','acqCountry','isFraud']\n",
    "\n",
    "# Drop columns from the dataframe \n",
    "a_df = trans_df.drop(cols_to_drop, axis=1)\n",
    "\n",
    "# Concatenate the dataframes\n",
    "b_df = pd.concat([a_df,matching_CVV_df,matching_countries_df], axis=1)"
   ]
  },
  {
   "cell_type": "markdown",
   "id": "located-proxy",
   "metadata": {},
   "source": [
    "### Impute missing values\n",
    "\n",
    "We have seen that some columns/features have missing values. Although these are not many, and we could simply drop the rows that have missing values, because of the relatively low number of fraudulent transactions in the dataset, we don't want to drop any of them. For that reason, we impute the missing values with the most frequent value in the column where they occur. The choice of the \"most frequent\" was taken because the missing elements are in columns such the `posConditionCode`."
   ]
  },
  {
   "cell_type": "code",
   "execution_count": 73,
   "id": "intended-september",
   "metadata": {},
   "outputs": [],
   "source": [
    "imp = SimpleImputer(missing_values=np.nan,strategy=\"most_frequent\")\n",
    "c_df = pd.DataFrame(imp.fit_transform(b_df), columns=b_df.columns)"
   ]
  },
  {
   "cell_type": "markdown",
   "id": "lyric-bacteria",
   "metadata": {},
   "source": [
    "### Log rescaling transformation\n",
    "\n",
    "Some columns (like transaction amounts, credit limits) have very skewed distributions as we have seen. In such cases, it is better to perform a log rescaling (get the logarithm of the values) that maps the features to a smaller range."
   ]
  },
  {
   "cell_type": "code",
   "execution_count": 74,
   "id": "thermal-bulgaria",
   "metadata": {},
   "outputs": [],
   "source": [
    "d_df = c_df.copy()\n",
    "# Credit Limit\n",
    "d_df.creditLimit = c_df.creditLimit.astype(float).apply(np.log10)\n",
    "# Available Money\n",
    "d_df.availableMoney = c_df.availableMoney + 1010. #Add to make it always positive\n",
    "d_df.availableMoney = d_df.availableMoney.astype(float).apply(np.log10)\n",
    "# Current Balance\n",
    "d_df.currentBalance = c_df.currentBalance+1.\n",
    "d_df.currentBalance = d_df.currentBalance.astype(float).apply(np.log10)\n",
    "# Transaction Amount\n",
    "d_df.transactionAmount = c_df.transactionAmount+1.\n",
    "d_df.transactionAmount = d_df.transactionAmount.astype(float).apply(np.log10)"
   ]
  },
  {
   "cell_type": "markdown",
   "id": "external-competition",
   "metadata": {},
   "source": [
    "### One-Hot encoding etc\n",
    "\n",
    "Finally, some features \n"
   ]
  },
  {
   "cell_type": "code",
   "execution_count": 75,
   "id": "about-collection",
   "metadata": {},
   "outputs": [],
   "source": [
    "d_df.cardPresent = c_df.cardPresent.astype(int)\n",
    "d_df.expirationDateKeyInMatch = c_df.expirationDateKeyInMatch.astype(int)\n",
    "d_df.matchCVV = c_df.matchCVV.astype(int)\n",
    "d_df.matchCountries = c_df.matchCountries.astype(int)\n",
    "\n",
    "# One hot-encoding\n",
    "\n",
    "# Columns I'm going to perform one-hot encoding\n",
    "cols_one_hot = ['merchantCountryCode','posEntryMode','posConditionCode',\n",
    "                'merchantCategoryCode','transactionType']\n",
    "# Perform OH encoding\n",
    "e_df = pd.get_dummies(d_df, columns=cols_one_hot)"
   ]
  },
  {
   "cell_type": "markdown",
   "id": "moving-joining",
   "metadata": {},
   "source": [
    "### Train-Test split and Rescaling"
   ]
  },
  {
   "cell_type": "code",
   "execution_count": 339,
   "id": "appointed-proceeding",
   "metadata": {},
   "outputs": [],
   "source": [
    "# Get values of the from the dataframe\n",
    "mat_values = e_df.values\n",
    "\n",
    "# Train-validation-test split\n",
    "# Write a function, in case we want to repeat it \n",
    "def dataset_split_scale(X,y):\n",
    "    \"\"\"\n",
    "    Function that splits a matrix and a vector into\n",
    "    training - validation - test sets.\n",
    "    We also rescale the train, validation, test sets\n",
    "    \"\"\"\n",
    "    scaler = MinMaxScaler()\n",
    "    \n",
    "    \n",
    "    # First split into training set and a set for validation-test\n",
    "    X_tr, X_valtest, y_tr, y_valtest = train_test_split(X,y,\n",
    "                                                   stratify=y, #stratify to keep the proportions\n",
    "                                                   test_size=0.2,random_state=42)\n",
    "    # Now split the \"valtest\" set into validation and test sets\n",
    "    X_val, X_test, y_val, y_test = train_test_split(X_valtest,y_valtest,\n",
    "                                                   stratify=y_valtest, \n",
    "                                                   test_size=0.5,random_state=42)\n",
    "    \n",
    "    # Rescale\n",
    "    scaler.fit(X_tr)\n",
    "    X_tr_s = scaler.transform(X_tr)\n",
    "    X_val_s = scaler.transform(X_val)\n",
    "    X_test_s = scaler.transform(X_test)\n",
    "    \n",
    "    \n",
    "    return X_tr_s, X_val_s, X_test_s, y_tr, y_val, y_test\n",
    "\n",
    "# ===================================\n",
    "# Get matrices - These are all rescaled\n",
    "X_train, X_val, X_test, y_train, y_val, y_test = dataset_split_scale(mat_values,y_target)"
   ]
  },
  {
   "cell_type": "markdown",
   "id": "recorded-burning",
   "metadata": {},
   "source": [
    "## Model building: Predicting fraudulent transactions with Logistic Regression and Random Forrests \n",
    "\n",
    "Now that we have constructed, split and rescaled the feature matrices, it is time to build a predictive model.\n",
    "\n",
    "### Dealing with class imbalance\n",
    "\n",
    "As we have seen the dataset is heavily imbalanced. Training a classifier on that dataset is guaranteed to give very skewed results, since a classifier can achieve almost $100\\%$ accuracy by just assigning every example to the majority class (normal transaction).\n",
    "\n",
    "Thus we train the classification models on artificially balanced **training sets**. To achieve that, we fist (slightly) oversample the minority (fraud) class, and then undersample the majority class to achieve a balanced training dataset.\n",
    "\n",
    "Specifically, I use the Synthetic Minority Oversampling Technique (SMOTE) provided by the `imbalance-learn` package to first increase the number of fraudulent examples to 10 percent of the total number of examples in the dataset. Then I use random undersampling to decrease the number of normal examples and create a balanced datase.\n",
    "\n",
    "I want to emphasize that the balancing/resampling procedure should - and is - performed on the **training set only**. The **test** set **should remain imbalanced**, since it represents the real world situation where most transactions are normal and not fraudulent.\n",
    "\n",
    "All evaluation metrics (precision, recall, confusion matrices) are calculated using that metric.\n",
    "\n",
    "\n",
    "### Precision or Recall?\n",
    "\n",
    "In imbalanced problems like this one, the accuracy is not a good metric.\n",
    "Instead we will focus on the **recall** and the **precision** of the results (or their weigthed average, the F1 score).\n",
    "\n",
    "- **Recall** shows the *completeness* of the classification; how many of the total fraudulent transactions the classifier was able to find.\n",
    "\n",
    "- **Precision** shows the *purity* of the positively classified examples; how many of those classified as fraudulent are indeed fraudulent?\n",
    "\n",
    "For **practical applications** of fraud detection **recall is more important than the precision**: It is better to have false positives (normal transactions flagged as fraudulent) than false negatives (fraudulent transactions passing as normal). With suspicious transactions one can investigate more (by having a human to check the account behavior or by calling/texting the card holder).\n",
    "\n",
    "Of course, we want the precision to be relatively high, too... Otherwise we would always be able to flag every transaction as fraudulent and have a perfect recall score.\n"
   ]
  },
  {
   "cell_type": "code",
   "execution_count": 340,
   "id": "swiss-issue",
   "metadata": {},
   "outputs": [],
   "source": [
    "# Define the SMOTE and RandomUnderSampling resamplers\n",
    "smt = SMOTE(sampling_strategy=0.1,random_state=42) #minority 10% of total\n",
    "rus = rus = RandomUnderSampler(sampling_strategy=1.0,random_state=42) #minority=majority numbers\n",
    "\n",
    "# Build resampling pipeline\n",
    "pipeline_res = Pipeline([('smt', smt), ('rus',rus)])\n",
    "\n",
    "# Resample training set\n",
    "X_tr_res, y_tr_res = pipeline_res.fit_resample(X_train,y_train)"
   ]
  },
  {
   "cell_type": "markdown",
   "id": "multiple-associate",
   "metadata": {},
   "source": [
    "### Logistic Regression\n",
    "\n",
    "Our first model will be a logistic regression model, which is simple, fast and quite intuitive for a two-class problem like the one we have here.\n",
    "\n",
    "Briefly, the logistic regression estimates the probability of an instance with features $x_1, x_2,\\dots)$ to belong to class $Y=1$ (Fraud) as:\n",
    "\n",
    "\\begin{equation}\n",
    "p(Y=1|X) = \\frac{1}{1+e^{-(\\beta_0 + \\beta_1 x_1 + \\beta_2 x_2 +\\dots)}},\n",
    "\\end{equation}\n",
    "\n",
    "where $\\beta_0, \\beta_1, \\dots$ coefficients to be learned."
   ]
  },
  {
   "cell_type": "code",
   "execution_count": 341,
   "id": "regional-shooting",
   "metadata": {},
   "outputs": [],
   "source": [
    "cls_LR = LogisticRegression(max_iter=1000,C=1.0,random_state=42)\n",
    "cls_LR.fit(X_tr_res,y_tr_res)\n",
    "\n",
    "y_pred_LR = cls_LR.predict(X_test)"
   ]
  },
  {
   "cell_type": "markdown",
   "id": "broad-spiritual",
   "metadata": {},
   "source": [
    "**Confusion matrix function**\n",
    "\n",
    "Write a function that creates nice confusion matrices - we will need it in many subsequent steps."
   ]
  },
  {
   "cell_type": "code",
   "execution_count": 342,
   "id": "dried-joyce",
   "metadata": {},
   "outputs": [],
   "source": [
    "# Define function that plots confusion matrices\n",
    "def plot_confusion(y_true,y_predict,method='Logistic Regression'):\n",
    "    \"\"\"\n",
    "    Function that calculates and plots \n",
    "    confusion matrices\n",
    "    \"\"\"\n",
    "    \n",
    "    # Get confusion matrix\n",
    "    con_mat = confusion_matrix(y_true,y_predict)\n",
    "    \n",
    "    # Class names\n",
    "    class_names = ['Normal','Fraud']\n",
    "    # =======================================\n",
    "    #Plot\n",
    "    plt.figure(figsize=(6.,6.))\n",
    "    # Plot title\n",
    "    plt.title('Confusion Matrix -'+ method,fontsize=15)\n",
    "    \n",
    "    sns.heatmap(con_mat, square=True, annot=True,\n",
    "                fmt='d',annot_kws={\"size\":15},\n",
    "                cmap='Blues',cbar=False,\n",
    "                xticklabels=class_names,\n",
    "                yticklabels=class_names)\n",
    "    \n",
    "    plt.xticks(fontsize=16);plt.yticks(fontsize=16)\n",
    "    plt.xlabel('Predicted Label',fontsize=15)\n",
    "    plt.ylabel('True Label',fontsize=15)\n",
    "    plt.show()"
   ]
  },
  {
   "cell_type": "code",
   "execution_count": 343,
   "id": "athletic-productivity",
   "metadata": {},
   "outputs": [
    {
     "data": {
      "image/png": "[encoded data removed]",
      "text/plain": [
       "<Figure size 432x432 with 1 Axes>"
      ]
     },
     "metadata": {
      "needs_background": "light"
     },
     "output_type": "display_data"
    }
   ],
   "source": [
    "# Plot confusion matrix\n",
    "plot_confusion(y_test,y_pred_LR)"
   ]
  },
  {
   "cell_type": "code",
   "execution_count": 344,
   "id": "marked-prevention",
   "metadata": {},
   "outputs": [
    {
     "name": "stdout",
     "output_type": "stream",
     "text": [
      "Recall, Logistic Regression: 0.7125603864734299\n",
      "Precision, Logistic Regression: 0.031282033155420455\n",
      "F1 score, Logistic Regression: 0.059932956353909196\n"
     ]
    }
   ],
   "source": [
    "print('Recall, Logistic Regression:',recall_score(y_test,y_pred_LR))\n",
    "print('Precision, Logistic Regression:',precision_score(y_test,y_pred_LR))\n",
    "print('F1 score, Logistic Regression:',f1_score(y_test,y_pred_LR))"
   ]
  },
  {
   "cell_type": "markdown",
   "id": "logical-spirituality",
   "metadata": {},
   "source": [
    "#### Tweaking the probability threshold\n",
    "\n",
    "Lostic regression is a probabilistic classifier. The output is a the probability of an example to belong to the positie class (here \"Fraud\") that is converted to a class by assuming a probability threshold (default $p=0.5$).\n",
    "\n",
    "However, we may want to change that probability threshold in order to optimize for better precision or recall.\n",
    "\n",
    "In the following I explore how selecting a different probability threshold can give us better results."
   ]
  },
  {
   "cell_type": "code",
   "execution_count": 325,
   "id": "heard-composer",
   "metadata": {},
   "outputs": [],
   "source": [
    "def prediction_probas(clf, X_mat,y_true, probas):\n",
    "    \"\"\"\n",
    "    Function that calculates and plots\n",
    "    Precision and Recall at different probability levels\n",
    "    \"\"\"\n",
    "    \n",
    "    # Predict probability\n",
    "    y_proba = clf.predict_proba(X_mat)[:,1]\n",
    "    \n",
    "    \n",
    "    n = len(probas)\n",
    "    precs = np.zeros(n)\n",
    "    recs = np.zeros(n)\n",
    "    \n",
    "    for i in range(n):\n",
    "        prob_thres = probas[i]\n",
    "        \n",
    "        # Binarize the classification\n",
    "        # based on probability threshold\n",
    "        y_bin = np.zeros(len(y_proba))\n",
    "        y_bin[y_proba>prob_thres] = 1.0\n",
    "        \n",
    "        precs[i] = precision_score(y_true,y_bin)\n",
    "        recs[i] = recall_score(y_true,y_bin)\n",
    "        \n",
    "    # Make plots\n",
    "    # For precision\n",
    "    plt.figure(figsize=(6.,4.))\n",
    "    plt.plot(probas,precs,c=cap1_blue)\n",
    "    plt.grid(ls='--', alpha=0.6)\n",
    "    plt.yticks(fontsize=14)\n",
    "    plt.xticks(fontsize=14)\n",
    "    plt.ylabel('Precision', fontsize=15)\n",
    "    plt.show()\n",
    "    # For recall\n",
    "    plt.figure(figsize=(6.,4.))\n",
    "    plt.plot(probas,recs,c=cap1_red)\n",
    "    plt.grid(ls='--', alpha=0.6)\n",
    "    plt.xticks(fontsize=14)\n",
    "    plt.yticks(fontsize=14)\n",
    "    plt.xlabel('Probability threshold',fontsize=15)\n",
    "    plt.ylabel('Recall', fontsize=15)\n",
    "    plt.show()"
   ]
  },
  {
   "cell_type": "markdown",
   "id": "collaborative-approach",
   "metadata": {},
   "source": [
    "**Plot precision and recall as a function of the probability threshold**"
   ]
  },
  {
   "cell_type": "code",
   "execution_count": 326,
   "id": "mineral-tribute",
   "metadata": {},
   "outputs": [
    {
     "data": {
      "image/png": "[encoded data removed]",
      "text/plain": [
       "<Figure size 432x288 with 1 Axes>"
      ]
     },
     "metadata": {
      "needs_background": "light"
     },
     "output_type": "display_data"
    },
    {
     "data": {
      "image/png": "[encoded data removed]",
      "text/plain": [
       "<Figure size 432x288 with 1 Axes>"
      ]
     },
     "metadata": {
      "needs_background": "light"
     },
     "output_type": "display_data"
    }
   ],
   "source": [
    "probs = np.linspace(0.2,0.8,20)\n",
    "# Plot precision and recall as a function of threshold\n",
    "prediction_probas(cls_LR, X_test,y_test, probs)"
   ]
  },
  {
   "cell_type": "markdown",
   "id": "agricultural-halifax",
   "metadata": {},
   "source": [
    "We see that setting the threshold to 0.4, for example, will significantly improve the recall but decrease the precision.\n",
    "Let's plot the confusion matrix to see that."
   ]
  },
  {
   "cell_type": "code",
   "execution_count": 330,
   "id": "mounted-retention",
   "metadata": {},
   "outputs": [
    {
     "data": {
      "image/png": "[encoded data removed]",
      "text/plain": [
       "<Figure size 432x432 with 1 Axes>"
      ]
     },
     "metadata": {
      "needs_background": "light"
     },
     "output_type": "display_data"
    }
   ],
   "source": [
    "y_proba = cls_LR.predict_proba(X_test)[:,1]\n",
    "y_bin = np.zeros(len(y_proba))\n",
    "y_bin[y_proba>0.4] = 1.0\n",
    "plot_confusion(y_test,y_bin,'Logistic Regression, $p>0.4$')"
   ]
  },
  {
   "cell_type": "markdown",
   "id": "ordered-weekly",
   "metadata": {},
   "source": [
    "We see that we significantly improved the number of true positives, with false negatives being less than $20\\%$ of the number of all trully fraudulent transactions. At the same time though, the number of false positives has been significantly increased."
   ]
  },
  {
   "cell_type": "markdown",
   "id": "determined-bundle",
   "metadata": {},
   "source": [
    "### Random Forest Classifier\n",
    "\n",
    "Although the above results suggest that is probably hard to build a very good (=high precision and recall) classifier with the training dataset we have, let's try a classifier that is usually more powerful than the simple logistic regression.\n",
    "\n",
    "A powerful classifier constructed by using many decision trees and then collecting the majority vote to perform the final classification is the Random Forest. \n",
    "Compared to the Logistic Regression it has more tunable hyperparameters.\n",
    "\n",
    "Here we will perform Grid Search to optimize two of them, that I consider as very important, namely the number of trees and the minimum number "
   ]
  },
  {
   "cell_type": "code",
   "execution_count": 280,
   "id": "honey-spring",
   "metadata": {},
   "outputs": [
    {
     "name": "stdout",
     "output_type": "stream",
     "text": [
      "{'min_samples_split': 2, 'n_estimators': 150}\n"
     ]
    }
   ],
   "source": [
    "# Grid of parameters to search for \n",
    "param_grid = {'n_estimators':[50,100,150],\n",
    "             'min_samples_split':[2,10,15,20]}\n",
    "\n",
    "# Random forest classfier initialize\n",
    "RF_clf = RandomForestClassifier(random_state=0)\n",
    "\n",
    "# Resample validation set\n",
    "X_val_res, y_val_res = pipeline_res.fit_resample(X_val,y_val)\n",
    "\n",
    "grid = GridSearchCV(RF_clf, param_grid,cv=5, scoring='recall')\n",
    "grid.fit(X_val_res, y_val_res)\n",
    "print(grid.best_params_)"
   ]
  },
  {
   "cell_type": "code",
   "execution_count": 281,
   "id": "three-notice",
   "metadata": {},
   "outputs": [],
   "source": [
    "RF_clf = RandomForestClassifier(n_estimators=150,min_samples_split=2,random_state=0)\n",
    "RF_clf.fit(X_tr_res, y_tr_res)\n",
    "y_pred_RF = RF_clf.predict(X_test)"
   ]
  },
  {
   "cell_type": "markdown",
   "id": "piano-senegal",
   "metadata": {},
   "source": [
    "Plot the confusion matrix now!"
   ]
  },
  {
   "cell_type": "code",
   "execution_count": 282,
   "id": "rational-point",
   "metadata": {},
   "outputs": [
    {
     "data": {
      "image/png": "[encoded data removed]",
      "text/plain": [
       "<Figure size 432x432 with 1 Axes>"
      ]
     },
     "metadata": {
      "needs_background": "light"
     },
     "output_type": "display_data"
    }
   ],
   "source": [
    "# Plot confusion matrix\n",
    "plot_confusion(y_test,y_pred_RF)"
   ]
  },
  {
   "cell_type": "code",
   "execution_count": 283,
   "id": "intermediate-joyce",
   "metadata": {},
   "outputs": [
    {
     "name": "stdout",
     "output_type": "stream",
     "text": [
      "Recall, Random Forest: 0.5120772946859904\n",
      "Precision, Random Forest: 0.05363015431317986\n",
      "F1 score, Random Forest: 0.09709182505152278\n"
     ]
    }
   ],
   "source": [
    "print('Recall, Random Forest:',recall_score(y_test,y_pred_RF))\n",
    "print('Precision, Random Forest:',precision_score(y_test,y_pred_RF))\n",
    "print('F1 score, Random Forest:',f1_score(y_test,y_pred_RF))"
   ]
  },
  {
   "cell_type": "markdown",
   "id": "weighted-defeat",
   "metadata": {},
   "source": [
    "### Summary: Baseline model(s) results"
   ]
  },
  {
   "cell_type": "code",
   "execution_count": 284,
   "id": "clinical-barrier",
   "metadata": {},
   "outputs": [
    {
     "data": {
      "text/html": [
       "<div>\n",
       "<style scoped>\n",
       "    .dataframe tbody tr th:only-of-type {\n",
       "        vertical-align: middle;\n",
       "    }\n",
       "\n",
       "    .dataframe tbody tr th {\n",
       "        vertical-align: top;\n",
       "    }\n",
       "\n",
       "    .dataframe thead th {\n",
       "        text-align: right;\n",
       "    }\n",
       "</style>\n",
       "<table border=\"1\" class=\"dataframe\">\n",
       "  <thead>\n",
       "    <tr style=\"text-align: right;\">\n",
       "      <th></th>\n",
       "      <th>accountNumber</th>\n",
       "      <th>customerId</th>\n",
       "      <th>creditLimit</th>\n",
       "      <th>availableMoney</th>\n",
       "      <th>transactionDateTime</th>\n",
       "      <th>transactionAmount</th>\n",
       "      <th>merchantName</th>\n",
       "      <th>acqCountry</th>\n",
       "      <th>merchantCountryCode</th>\n",
       "      <th>posEntryMode</th>\n",
       "      <th>...</th>\n",
       "      <th>accountOpenDate</th>\n",
       "      <th>dateOfLastAddressChange</th>\n",
       "      <th>cardCVV</th>\n",
       "      <th>enteredCVV</th>\n",
       "      <th>cardLast4Digits</th>\n",
       "      <th>transactionType</th>\n",
       "      <th>currentBalance</th>\n",
       "      <th>cardPresent</th>\n",
       "      <th>expirationDateKeyInMatch</th>\n",
       "      <th>isFraud</th>\n",
       "    </tr>\n",
       "  </thead>\n",
       "  <tbody>\n",
       "    <tr>\n",
       "      <th>0</th>\n",
       "      <td>737265056</td>\n",
       "      <td>737265056</td>\n",
       "      <td>5000</td>\n",
       "      <td>5000.00</td>\n",
       "      <td>2016-08-13T14:27:32</td>\n",
       "      <td>98.55</td>\n",
       "      <td>Uber</td>\n",
       "      <td>US</td>\n",
       "      <td>US</td>\n",
       "      <td>02</td>\n",
       "      <td>...</td>\n",
       "      <td>2015-03-14</td>\n",
       "      <td>2015-03-14</td>\n",
       "      <td>414</td>\n",
       "      <td>414</td>\n",
       "      <td>1803</td>\n",
       "      <td>PURCHASE</td>\n",
       "      <td>0.00</td>\n",
       "      <td>False</td>\n",
       "      <td>False</td>\n",
       "      <td>False</td>\n",
       "    </tr>\n",
       "    <tr>\n",
       "      <th>1</th>\n",
       "      <td>737265056</td>\n",
       "      <td>737265056</td>\n",
       "      <td>5000</td>\n",
       "      <td>5000.00</td>\n",
       "      <td>2016-10-11T05:05:54</td>\n",
       "      <td>74.51</td>\n",
       "      <td>AMC #191138</td>\n",
       "      <td>US</td>\n",
       "      <td>US</td>\n",
       "      <td>09</td>\n",
       "      <td>...</td>\n",
       "      <td>2015-03-14</td>\n",
       "      <td>2015-03-14</td>\n",
       "      <td>486</td>\n",
       "      <td>486</td>\n",
       "      <td>767</td>\n",
       "      <td>PURCHASE</td>\n",
       "      <td>0.00</td>\n",
       "      <td>True</td>\n",
       "      <td>False</td>\n",
       "      <td>False</td>\n",
       "    </tr>\n",
       "    <tr>\n",
       "      <th>2</th>\n",
       "      <td>737265056</td>\n",
       "      <td>737265056</td>\n",
       "      <td>5000</td>\n",
       "      <td>5000.00</td>\n",
       "      <td>2016-11-08T09:18:39</td>\n",
       "      <td>7.47</td>\n",
       "      <td>Play Store</td>\n",
       "      <td>US</td>\n",
       "      <td>US</td>\n",
       "      <td>09</td>\n",
       "      <td>...</td>\n",
       "      <td>2015-03-14</td>\n",
       "      <td>2015-03-14</td>\n",
       "      <td>486</td>\n",
       "      <td>486</td>\n",
       "      <td>767</td>\n",
       "      <td>PURCHASE</td>\n",
       "      <td>0.00</td>\n",
       "      <td>False</td>\n",
       "      <td>False</td>\n",
       "      <td>False</td>\n",
       "    </tr>\n",
       "    <tr>\n",
       "      <th>3</th>\n",
       "      <td>737265056</td>\n",
       "      <td>737265056</td>\n",
       "      <td>5000</td>\n",
       "      <td>5000.00</td>\n",
       "      <td>2016-12-10T02:14:50</td>\n",
       "      <td>7.47</td>\n",
       "      <td>Play Store</td>\n",
       "      <td>US</td>\n",
       "      <td>US</td>\n",
       "      <td>09</td>\n",
       "      <td>...</td>\n",
       "      <td>2015-03-14</td>\n",
       "      <td>2015-03-14</td>\n",
       "      <td>486</td>\n",
       "      <td>486</td>\n",
       "      <td>767</td>\n",
       "      <td>PURCHASE</td>\n",
       "      <td>0.00</td>\n",
       "      <td>False</td>\n",
       "      <td>False</td>\n",
       "      <td>False</td>\n",
       "    </tr>\n",
       "    <tr>\n",
       "      <th>4</th>\n",
       "      <td>830329091</td>\n",
       "      <td>830329091</td>\n",
       "      <td>5000</td>\n",
       "      <td>5000.00</td>\n",
       "      <td>2016-03-24T21:04:46</td>\n",
       "      <td>71.18</td>\n",
       "      <td>Tim Hortons #947751</td>\n",
       "      <td>US</td>\n",
       "      <td>US</td>\n",
       "      <td>02</td>\n",
       "      <td>...</td>\n",
       "      <td>2015-08-06</td>\n",
       "      <td>2015-08-06</td>\n",
       "      <td>885</td>\n",
       "      <td>885</td>\n",
       "      <td>3143</td>\n",
       "      <td>PURCHASE</td>\n",
       "      <td>0.00</td>\n",
       "      <td>True</td>\n",
       "      <td>False</td>\n",
       "      <td>False</td>\n",
       "    </tr>\n",
       "    <tr>\n",
       "      <th>5</th>\n",
       "      <td>830329091</td>\n",
       "      <td>830329091</td>\n",
       "      <td>5000</td>\n",
       "      <td>5000.00</td>\n",
       "      <td>2016-04-19T16:24:27</td>\n",
       "      <td>30.76</td>\n",
       "      <td>In-N-Out #422833</td>\n",
       "      <td>US</td>\n",
       "      <td>US</td>\n",
       "      <td>02</td>\n",
       "      <td>...</td>\n",
       "      <td>2015-08-06</td>\n",
       "      <td>2015-08-06</td>\n",
       "      <td>885</td>\n",
       "      <td>885</td>\n",
       "      <td>3143</td>\n",
       "      <td>PURCHASE</td>\n",
       "      <td>0.00</td>\n",
       "      <td>True</td>\n",
       "      <td>False</td>\n",
       "      <td>False</td>\n",
       "    </tr>\n",
       "    <tr>\n",
       "      <th>6</th>\n",
       "      <td>830329091</td>\n",
       "      <td>830329091</td>\n",
       "      <td>5000</td>\n",
       "      <td>5000.00</td>\n",
       "      <td>2016-05-21T14:50:35</td>\n",
       "      <td>57.28</td>\n",
       "      <td>Krispy Kreme #685312</td>\n",
       "      <td>US</td>\n",
       "      <td>US</td>\n",
       "      <td>02</td>\n",
       "      <td>...</td>\n",
       "      <td>2015-08-06</td>\n",
       "      <td>2015-08-06</td>\n",
       "      <td>885</td>\n",
       "      <td>885</td>\n",
       "      <td>3143</td>\n",
       "      <td>PURCHASE</td>\n",
       "      <td>0.00</td>\n",
       "      <td>True</td>\n",
       "      <td>False</td>\n",
       "      <td>False</td>\n",
       "    </tr>\n",
       "    <tr>\n",
       "      <th>7</th>\n",
       "      <td>830329091</td>\n",
       "      <td>830329091</td>\n",
       "      <td>5000</td>\n",
       "      <td>5000.00</td>\n",
       "      <td>2016-06-03T00:31:21</td>\n",
       "      <td>9.37</td>\n",
       "      <td>Shake Shack #968081</td>\n",
       "      <td>US</td>\n",
       "      <td>US</td>\n",
       "      <td>05</td>\n",
       "      <td>...</td>\n",
       "      <td>2015-08-06</td>\n",
       "      <td>2015-08-06</td>\n",
       "      <td>885</td>\n",
       "      <td>885</td>\n",
       "      <td>3143</td>\n",
       "      <td>PURCHASE</td>\n",
       "      <td>0.00</td>\n",
       "      <td>True</td>\n",
       "      <td>False</td>\n",
       "      <td>False</td>\n",
       "    </tr>\n",
       "    <tr>\n",
       "      <th>8</th>\n",
       "      <td>830329091</td>\n",
       "      <td>830329091</td>\n",
       "      <td>5000</td>\n",
       "      <td>4990.63</td>\n",
       "      <td>2016-06-10T01:21:46</td>\n",
       "      <td>523.67</td>\n",
       "      <td>Burger King #486122</td>\n",
       "      <td>NaN</td>\n",
       "      <td>US</td>\n",
       "      <td>02</td>\n",
       "      <td>...</td>\n",
       "      <td>2015-08-06</td>\n",
       "      <td>2015-08-06</td>\n",
       "      <td>885</td>\n",
       "      <td>885</td>\n",
       "      <td>3143</td>\n",
       "      <td>PURCHASE</td>\n",
       "      <td>9.37</td>\n",
       "      <td>True</td>\n",
       "      <td>False</td>\n",
       "      <td>False</td>\n",
       "    </tr>\n",
       "    <tr>\n",
       "      <th>9</th>\n",
       "      <td>830329091</td>\n",
       "      <td>830329091</td>\n",
       "      <td>5000</td>\n",
       "      <td>5000.00</td>\n",
       "      <td>2016-07-11T10:47:16</td>\n",
       "      <td>164.37</td>\n",
       "      <td>Five Guys #510989</td>\n",
       "      <td>US</td>\n",
       "      <td>US</td>\n",
       "      <td>05</td>\n",
       "      <td>...</td>\n",
       "      <td>2015-08-06</td>\n",
       "      <td>2015-08-06</td>\n",
       "      <td>885</td>\n",
       "      <td>885</td>\n",
       "      <td>3143</td>\n",
       "      <td>PURCHASE</td>\n",
       "      <td>0.00</td>\n",
       "      <td>True</td>\n",
       "      <td>False</td>\n",
       "      <td>False</td>\n",
       "    </tr>\n",
       "  </tbody>\n",
       "</table>\n",
       "<p>10 rows × 23 columns</p>\n",
       "</div>"
      ],
      "text/plain": [
       "   accountNumber  customerId  creditLimit  availableMoney  \\\n",
       "0      737265056   737265056         5000         5000.00   \n",
       "1      737265056   737265056         5000         5000.00   \n",
       "2      737265056   737265056         5000         5000.00   \n",
       "3      737265056   737265056         5000         5000.00   \n",
       "4      830329091   830329091         5000         5000.00   \n",
       "5      830329091   830329091         5000         5000.00   \n",
       "6      830329091   830329091         5000         5000.00   \n",
       "7      830329091   830329091         5000         5000.00   \n",
       "8      830329091   830329091         5000         4990.63   \n",
       "9      830329091   830329091         5000         5000.00   \n",
       "\n",
       "   transactionDateTime  transactionAmount          merchantName acqCountry  \\\n",
       "0  2016-08-13T14:27:32              98.55                  Uber         US   \n",
       "1  2016-10-11T05:05:54              74.51           AMC #191138         US   \n",
       "2  2016-11-08T09:18:39               7.47            Play Store         US   \n",
       "3  2016-12-10T02:14:50               7.47            Play Store         US   \n",
       "4  2016-03-24T21:04:46              71.18   Tim Hortons #947751         US   \n",
       "5  2016-04-19T16:24:27              30.76      In-N-Out #422833         US   \n",
       "6  2016-05-21T14:50:35              57.28  Krispy Kreme #685312         US   \n",
       "7  2016-06-03T00:31:21               9.37   Shake Shack #968081         US   \n",
       "8  2016-06-10T01:21:46             523.67   Burger King #486122        NaN   \n",
       "9  2016-07-11T10:47:16             164.37     Five Guys #510989         US   \n",
       "\n",
       "  merchantCountryCode posEntryMode  ... accountOpenDate  \\\n",
       "0                  US           02  ...      2015-03-14   \n",
       "1                  US           09  ...      2015-03-14   \n",
       "2                  US           09  ...      2015-03-14   \n",
       "3                  US           09  ...      2015-03-14   \n",
       "4                  US           02  ...      2015-08-06   \n",
       "5                  US           02  ...      2015-08-06   \n",
       "6                  US           02  ...      2015-08-06   \n",
       "7                  US           05  ...      2015-08-06   \n",
       "8                  US           02  ...      2015-08-06   \n",
       "9                  US           05  ...      2015-08-06   \n",
       "\n",
       "  dateOfLastAddressChange cardCVV enteredCVV cardLast4Digits  transactionType  \\\n",
       "0              2015-03-14     414        414            1803         PURCHASE   \n",
       "1              2015-03-14     486        486             767         PURCHASE   \n",
       "2              2015-03-14     486        486             767         PURCHASE   \n",
       "3              2015-03-14     486        486             767         PURCHASE   \n",
       "4              2015-08-06     885        885            3143         PURCHASE   \n",
       "5              2015-08-06     885        885            3143         PURCHASE   \n",
       "6              2015-08-06     885        885            3143         PURCHASE   \n",
       "7              2015-08-06     885        885            3143         PURCHASE   \n",
       "8              2015-08-06     885        885            3143         PURCHASE   \n",
       "9              2015-08-06     885        885            3143         PURCHASE   \n",
       "\n",
       "   currentBalance  cardPresent expirationDateKeyInMatch  isFraud  \n",
       "0            0.00        False                    False    False  \n",
       "1            0.00         True                    False    False  \n",
       "2            0.00        False                    False    False  \n",
       "3            0.00        False                    False    False  \n",
       "4            0.00         True                    False    False  \n",
       "5            0.00         True                    False    False  \n",
       "6            0.00         True                    False    False  \n",
       "7            0.00         True                    False    False  \n",
       "8            9.37         True                    False    False  \n",
       "9            0.00         True                    False    False  \n",
       "\n",
       "[10 rows x 23 columns]"
      ]
     },
     "execution_count": 284,
     "metadata": {},
     "output_type": "execute_result"
    }
   ],
   "source": [
    "trans_df[0:10]"
   ]
  },
  {
   "cell_type": "markdown",
   "id": "unauthorized-juice",
   "metadata": {},
   "source": [
    "### Beyond the baseline model: Feature engineering\n",
    "\n",
    "- Transaction amount outlier score: `AmountOut`: transaction amount/average transaction amount up to that point\n",
    "\n",
    "- Mean transaction cumulative amount."
   ]
  },
  {
   "cell_type": "code",
   "execution_count": 306,
   "id": "favorite-pearl",
   "metadata": {},
   "outputs": [],
   "source": [
    "# Cumulative number of transactions \n",
    "cum_counts = trans_df.groupby(['customerId']).cumcount()+1  \n",
    "# Average transaction amount\n",
    "cum_trans_amount = trans_df.groupby(['customerId']).cumsum().transactionAmount \n",
    "mean_trans_amount = cum_trans_amount/cum_counts\n",
    "# In some cases it can be equal to zero, make it 1\n",
    "mean_trans_amount[mean_trans_amount==0] = 1 \n",
    "\n",
    "e_df['meanAmount'] = mean_trans_amount.apply(np.log10)\n",
    "e_df['AmountOut']= trans_df.transactionAmount/mean_trans_amount"
   ]
  },
  {
   "cell_type": "markdown",
   "id": "inclusive-airplane",
   "metadata": {},
   "source": [
    "- Past fraud"
   ]
  },
  {
   "cell_type": "code",
   "execution_count": 337,
   "id": "separated-trainer",
   "metadata": {},
   "outputs": [],
   "source": [
    "past_fraud_count = trans_df.groupby(['customerId']).cumsum().isFraud.shift(+1).fillna(0)\n",
    "\n",
    "\n",
    "past_fraud_count\n",
    "e_df['avg_fraud'] = past_fraud_count#/cum_counts\n",
    "\n",
    "#print(fraud[0:10])"
   ]
  },
  {
   "cell_type": "code",
   "execution_count": 338,
   "id": "unlikely-petite",
   "metadata": {},
   "outputs": [
    {
     "data": {
      "text/html": [
       "<div>\n",
       "<style scoped>\n",
       "    .dataframe tbody tr th:only-of-type {\n",
       "        vertical-align: middle;\n",
       "    }\n",
       "\n",
       "    .dataframe tbody tr th {\n",
       "        vertical-align: top;\n",
       "    }\n",
       "\n",
       "    .dataframe thead th {\n",
       "        text-align: right;\n",
       "    }\n",
       "</style>\n",
       "<table border=\"1\" class=\"dataframe\">\n",
       "  <thead>\n",
       "    <tr style=\"text-align: right;\">\n",
       "      <th></th>\n",
       "      <th>creditLimit</th>\n",
       "      <th>availableMoney</th>\n",
       "      <th>transactionAmount</th>\n",
       "      <th>currentBalance</th>\n",
       "      <th>cardPresent</th>\n",
       "      <th>expirationDateKeyInMatch</th>\n",
       "      <th>matchCVV</th>\n",
       "      <th>matchCountries</th>\n",
       "      <th>merchantCountryCode_CAN</th>\n",
       "      <th>merchantCountryCode_MEX</th>\n",
       "      <th>...</th>\n",
       "      <th>merchantCategoryCode_online_subscriptions</th>\n",
       "      <th>merchantCategoryCode_personal care</th>\n",
       "      <th>merchantCategoryCode_rideshare</th>\n",
       "      <th>merchantCategoryCode_subscriptions</th>\n",
       "      <th>transactionType_ADDRESS_VERIFICATION</th>\n",
       "      <th>transactionType_PURCHASE</th>\n",
       "      <th>transactionType_REVERSAL</th>\n",
       "      <th>meanAmount</th>\n",
       "      <th>AmountOut</th>\n",
       "      <th>avg_fraud</th>\n",
       "    </tr>\n",
       "  </thead>\n",
       "  <tbody>\n",
       "    <tr>\n",
       "      <th>0</th>\n",
       "      <td>3.69897</td>\n",
       "      <td>3.778874</td>\n",
       "      <td>1.998041</td>\n",
       "      <td>0.000000</td>\n",
       "      <td>0</td>\n",
       "      <td>0</td>\n",
       "      <td>1</td>\n",
       "      <td>1</td>\n",
       "      <td>0</td>\n",
       "      <td>0</td>\n",
       "      <td>...</td>\n",
       "      <td>0</td>\n",
       "      <td>0</td>\n",
       "      <td>1</td>\n",
       "      <td>0</td>\n",
       "      <td>0</td>\n",
       "      <td>1</td>\n",
       "      <td>0</td>\n",
       "      <td>1.993657</td>\n",
       "      <td>1.000000</td>\n",
       "      <td>0.0</td>\n",
       "    </tr>\n",
       "    <tr>\n",
       "      <th>1</th>\n",
       "      <td>3.69897</td>\n",
       "      <td>3.778874</td>\n",
       "      <td>1.878004</td>\n",
       "      <td>0.000000</td>\n",
       "      <td>1</td>\n",
       "      <td>0</td>\n",
       "      <td>1</td>\n",
       "      <td>1</td>\n",
       "      <td>0</td>\n",
       "      <td>0</td>\n",
       "      <td>...</td>\n",
       "      <td>0</td>\n",
       "      <td>0</td>\n",
       "      <td>0</td>\n",
       "      <td>0</td>\n",
       "      <td>0</td>\n",
       "      <td>1</td>\n",
       "      <td>0</td>\n",
       "      <td>1.937167</td>\n",
       "      <td>0.861089</td>\n",
       "      <td>0.0</td>\n",
       "    </tr>\n",
       "    <tr>\n",
       "      <th>2</th>\n",
       "      <td>3.69897</td>\n",
       "      <td>3.778874</td>\n",
       "      <td>0.927883</td>\n",
       "      <td>0.000000</td>\n",
       "      <td>0</td>\n",
       "      <td>0</td>\n",
       "      <td>1</td>\n",
       "      <td>1</td>\n",
       "      <td>0</td>\n",
       "      <td>0</td>\n",
       "      <td>...</td>\n",
       "      <td>0</td>\n",
       "      <td>0</td>\n",
       "      <td>0</td>\n",
       "      <td>0</td>\n",
       "      <td>0</td>\n",
       "      <td>1</td>\n",
       "      <td>0</td>\n",
       "      <td>1.779428</td>\n",
       "      <td>0.124134</td>\n",
       "      <td>0.0</td>\n",
       "    </tr>\n",
       "    <tr>\n",
       "      <th>3</th>\n",
       "      <td>3.69897</td>\n",
       "      <td>3.778874</td>\n",
       "      <td>0.927883</td>\n",
       "      <td>0.000000</td>\n",
       "      <td>0</td>\n",
       "      <td>0</td>\n",
       "      <td>1</td>\n",
       "      <td>1</td>\n",
       "      <td>0</td>\n",
       "      <td>0</td>\n",
       "      <td>...</td>\n",
       "      <td>0</td>\n",
       "      <td>0</td>\n",
       "      <td>0</td>\n",
       "      <td>0</td>\n",
       "      <td>0</td>\n",
       "      <td>1</td>\n",
       "      <td>0</td>\n",
       "      <td>1.672098</td>\n",
       "      <td>0.158936</td>\n",
       "      <td>0.0</td>\n",
       "    </tr>\n",
       "    <tr>\n",
       "      <th>4</th>\n",
       "      <td>3.69897</td>\n",
       "      <td>3.778874</td>\n",
       "      <td>1.858417</td>\n",
       "      <td>0.000000</td>\n",
       "      <td>1</td>\n",
       "      <td>0</td>\n",
       "      <td>1</td>\n",
       "      <td>1</td>\n",
       "      <td>0</td>\n",
       "      <td>0</td>\n",
       "      <td>...</td>\n",
       "      <td>0</td>\n",
       "      <td>0</td>\n",
       "      <td>0</td>\n",
       "      <td>0</td>\n",
       "      <td>0</td>\n",
       "      <td>1</td>\n",
       "      <td>0</td>\n",
       "      <td>1.852358</td>\n",
       "      <td>1.000000</td>\n",
       "      <td>0.0</td>\n",
       "    </tr>\n",
       "    <tr>\n",
       "      <th>...</th>\n",
       "      <td>...</td>\n",
       "      <td>...</td>\n",
       "      <td>...</td>\n",
       "      <td>...</td>\n",
       "      <td>...</td>\n",
       "      <td>...</td>\n",
       "      <td>...</td>\n",
       "      <td>...</td>\n",
       "      <td>...</td>\n",
       "      <td>...</td>\n",
       "      <td>...</td>\n",
       "      <td>...</td>\n",
       "      <td>...</td>\n",
       "      <td>...</td>\n",
       "      <td>...</td>\n",
       "      <td>...</td>\n",
       "      <td>...</td>\n",
       "      <td>...</td>\n",
       "      <td>...</td>\n",
       "      <td>...</td>\n",
       "      <td>...</td>\n",
       "    </tr>\n",
       "    <tr>\n",
       "      <th>786358</th>\n",
       "      <td>4.69897</td>\n",
       "      <td>4.698231</td>\n",
       "      <td>2.082498</td>\n",
       "      <td>3.039826</td>\n",
       "      <td>0</td>\n",
       "      <td>0</td>\n",
       "      <td>1</td>\n",
       "      <td>1</td>\n",
       "      <td>0</td>\n",
       "      <td>0</td>\n",
       "      <td>...</td>\n",
       "      <td>0</td>\n",
       "      <td>0</td>\n",
       "      <td>1</td>\n",
       "      <td>0</td>\n",
       "      <td>0</td>\n",
       "      <td>1</td>\n",
       "      <td>0</td>\n",
       "      <td>2.046685</td>\n",
       "      <td>1.076978</td>\n",
       "      <td>0.0</td>\n",
       "    </tr>\n",
       "    <tr>\n",
       "      <th>786359</th>\n",
       "      <td>4.69897</td>\n",
       "      <td>4.697186</td>\n",
       "      <td>1.298635</td>\n",
       "      <td>3.084919</td>\n",
       "      <td>0</td>\n",
       "      <td>0</td>\n",
       "      <td>1</td>\n",
       "      <td>1</td>\n",
       "      <td>0</td>\n",
       "      <td>0</td>\n",
       "      <td>...</td>\n",
       "      <td>1</td>\n",
       "      <td>0</td>\n",
       "      <td>0</td>\n",
       "      <td>0</td>\n",
       "      <td>0</td>\n",
       "      <td>1</td>\n",
       "      <td>0</td>\n",
       "      <td>2.043301</td>\n",
       "      <td>0.170974</td>\n",
       "      <td>0.0</td>\n",
       "    </tr>\n",
       "    <tr>\n",
       "      <th>786360</th>\n",
       "      <td>4.69897</td>\n",
       "      <td>4.697021</td>\n",
       "      <td>1.702689</td>\n",
       "      <td>3.091614</td>\n",
       "      <td>0</td>\n",
       "      <td>0</td>\n",
       "      <td>1</td>\n",
       "      <td>1</td>\n",
       "      <td>0</td>\n",
       "      <td>0</td>\n",
       "      <td>...</td>\n",
       "      <td>0</td>\n",
       "      <td>0</td>\n",
       "      <td>1</td>\n",
       "      <td>0</td>\n",
       "      <td>0</td>\n",
       "      <td>1</td>\n",
       "      <td>0</td>\n",
       "      <td>2.041073</td>\n",
       "      <td>0.449694</td>\n",
       "      <td>0.0</td>\n",
       "    </tr>\n",
       "    <tr>\n",
       "      <th>786361</th>\n",
       "      <td>4.69897</td>\n",
       "      <td>4.696590</td>\n",
       "      <td>1.706632</td>\n",
       "      <td>3.108660</td>\n",
       "      <td>0</td>\n",
       "      <td>0</td>\n",
       "      <td>1</td>\n",
       "      <td>1</td>\n",
       "      <td>0</td>\n",
       "      <td>0</td>\n",
       "      <td>...</td>\n",
       "      <td>0</td>\n",
       "      <td>0</td>\n",
       "      <td>0</td>\n",
       "      <td>0</td>\n",
       "      <td>0</td>\n",
       "      <td>1</td>\n",
       "      <td>0</td>\n",
       "      <td>2.038892</td>\n",
       "      <td>0.456165</td>\n",
       "      <td>0.0</td>\n",
       "    </tr>\n",
       "    <tr>\n",
       "      <th>786362</th>\n",
       "      <td>4.69897</td>\n",
       "      <td>4.696154</td>\n",
       "      <td>1.864392</td>\n",
       "      <td>3.125211</td>\n",
       "      <td>0</td>\n",
       "      <td>0</td>\n",
       "      <td>1</td>\n",
       "      <td>1</td>\n",
       "      <td>0</td>\n",
       "      <td>0</td>\n",
       "      <td>...</td>\n",
       "      <td>0</td>\n",
       "      <td>0</td>\n",
       "      <td>1</td>\n",
       "      <td>0</td>\n",
       "      <td>0</td>\n",
       "      <td>1</td>\n",
       "      <td>0</td>\n",
       "      <td>2.037547</td>\n",
       "      <td>0.662017</td>\n",
       "      <td>0.0</td>\n",
       "    </tr>\n",
       "  </tbody>\n",
       "</table>\n",
       "<p>786363 rows × 45 columns</p>\n",
       "</div>"
      ],
      "text/plain": [
       "        creditLimit  availableMoney  transactionAmount  currentBalance  \\\n",
       "0           3.69897        3.778874           1.998041        0.000000   \n",
       "1           3.69897        3.778874           1.878004        0.000000   \n",
       "2           3.69897        3.778874           0.927883        0.000000   \n",
       "3           3.69897        3.778874           0.927883        0.000000   \n",
       "4           3.69897        3.778874           1.858417        0.000000   \n",
       "...             ...             ...                ...             ...   \n",
       "786358      4.69897        4.698231           2.082498        3.039826   \n",
       "786359      4.69897        4.697186           1.298635        3.084919   \n",
       "786360      4.69897        4.697021           1.702689        3.091614   \n",
       "786361      4.69897        4.696590           1.706632        3.108660   \n",
       "786362      4.69897        4.696154           1.864392        3.125211   \n",
       "\n",
       "        cardPresent  expirationDateKeyInMatch  matchCVV  matchCountries  \\\n",
       "0                 0                         0         1               1   \n",
       "1                 1                         0         1               1   \n",
       "2                 0                         0         1               1   \n",
       "3                 0                         0         1               1   \n",
       "4                 1                         0         1               1   \n",
       "...             ...                       ...       ...             ...   \n",
       "786358            0                         0         1               1   \n",
       "786359            0                         0         1               1   \n",
       "786360            0                         0         1               1   \n",
       "786361            0                         0         1               1   \n",
       "786362            0                         0         1               1   \n",
       "\n",
       "        merchantCountryCode_CAN  merchantCountryCode_MEX  ...  \\\n",
       "0                             0                        0  ...   \n",
       "1                             0                        0  ...   \n",
       "2                             0                        0  ...   \n",
       "3                             0                        0  ...   \n",
       "4                             0                        0  ...   \n",
       "...                         ...                      ...  ...   \n",
       "786358                        0                        0  ...   \n",
       "786359                        0                        0  ...   \n",
       "786360                        0                        0  ...   \n",
       "786361                        0                        0  ...   \n",
       "786362                        0                        0  ...   \n",
       "\n",
       "        merchantCategoryCode_online_subscriptions  \\\n",
       "0                                               0   \n",
       "1                                               0   \n",
       "2                                               0   \n",
       "3                                               0   \n",
       "4                                               0   \n",
       "...                                           ...   \n",
       "786358                                          0   \n",
       "786359                                          1   \n",
       "786360                                          0   \n",
       "786361                                          0   \n",
       "786362                                          0   \n",
       "\n",
       "        merchantCategoryCode_personal care  merchantCategoryCode_rideshare  \\\n",
       "0                                        0                               1   \n",
       "1                                        0                               0   \n",
       "2                                        0                               0   \n",
       "3                                        0                               0   \n",
       "4                                        0                               0   \n",
       "...                                    ...                             ...   \n",
       "786358                                   0                               1   \n",
       "786359                                   0                               0   \n",
       "786360                                   0                               1   \n",
       "786361                                   0                               0   \n",
       "786362                                   0                               1   \n",
       "\n",
       "        merchantCategoryCode_subscriptions  \\\n",
       "0                                        0   \n",
       "1                                        0   \n",
       "2                                        0   \n",
       "3                                        0   \n",
       "4                                        0   \n",
       "...                                    ...   \n",
       "786358                                   0   \n",
       "786359                                   0   \n",
       "786360                                   0   \n",
       "786361                                   0   \n",
       "786362                                   0   \n",
       "\n",
       "        transactionType_ADDRESS_VERIFICATION  transactionType_PURCHASE  \\\n",
       "0                                          0                         1   \n",
       "1                                          0                         1   \n",
       "2                                          0                         1   \n",
       "3                                          0                         1   \n",
       "4                                          0                         1   \n",
       "...                                      ...                       ...   \n",
       "786358                                     0                         1   \n",
       "786359                                     0                         1   \n",
       "786360                                     0                         1   \n",
       "786361                                     0                         1   \n",
       "786362                                     0                         1   \n",
       "\n",
       "        transactionType_REVERSAL  meanAmount  AmountOut  avg_fraud  \n",
       "0                              0    1.993657   1.000000        0.0  \n",
       "1                              0    1.937167   0.861089        0.0  \n",
       "2                              0    1.779428   0.124134        0.0  \n",
       "3                              0    1.672098   0.158936        0.0  \n",
       "4                              0    1.852358   1.000000        0.0  \n",
       "...                          ...         ...        ...        ...  \n",
       "786358                         0    2.046685   1.076978        0.0  \n",
       "786359                         0    2.043301   0.170974        0.0  \n",
       "786360                         0    2.041073   0.449694        0.0  \n",
       "786361                         0    2.038892   0.456165        0.0  \n",
       "786362                         0    2.037547   0.662017        0.0  \n",
       "\n",
       "[786363 rows x 45 columns]"
      ]
     },
     "execution_count": 338,
     "metadata": {},
     "output_type": "execute_result"
    }
   ],
   "source": [
    "e_df"
   ]
  },
  {
   "cell_type": "markdown",
   "id": "plastic-roller",
   "metadata": {},
   "source": [
    "| Model       || Precision   |      Recall   |  F1 Score   |\n",
    "| :---:       ||    :----:   |         :---: |     :---:   |\n",
    "| Header      || Title       | Here's this   |             |\n",
    "| Paragraph   || Text        | And more      |             |"
   ]
  },
  {
   "cell_type": "code",
   "execution_count": 310,
   "id": "moved-eight",
   "metadata": {},
   "outputs": [
    {
     "data": {
      "text/plain": [
       "0.0"
      ]
     },
     "execution_count": 310,
     "metadata": {},
     "output_type": "execute_result"
    }
   ],
   "source": []
  },
  {
   "cell_type": "code",
   "execution_count": null,
   "id": "biblical-apollo",
   "metadata": {},
   "outputs": [],
   "source": []
  }
 ],
 "metadata": {
  "kernelspec": {
   "display_name": "Python 3",
   "language": "python",
   "name": "python3"
  },
  "language_info": {
   "codemirror_mode": {
    "name": "ipython",
    "version": 3
   },
   "file_extension": ".py",
   "mimetype": "text/x-python",
   "name": "python",
   "nbconvert_exporter": "python",
   "pygments_lexer": "ipython3",
   "version": "3.9.1"
  }
 },
 "nbformat": 4,
 "nbformat_minor": 5
}
